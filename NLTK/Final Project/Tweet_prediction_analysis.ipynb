{
 "cells": [
  {
   "cell_type": "markdown",
   "metadata": {},
   "source": [
    "\n",
    "## Sentiment prediction from Tweet text"
   ]
  },
  {
   "cell_type": "code",
   "execution_count": 30,
   "metadata": {
    "collapsed": true
   },
   "outputs": [],
   "source": [
    "import pandas as pd\n",
    "import numpy as np\n",
    "import re\n",
    "import string\n",
    "from collections import Counter\n",
    "\n",
    "from sklearn import svm\n",
    "from sklearn import tree\n",
    "from sklearn.ensemble import RandomForestClassifier\n",
    "\n",
    "from sklearn import cluster\n",
    "from sklearn.neighbors import KNeighborsClassifier\n",
    "from sklearn.model_selection import train_test_split\n",
    "from sklearn.model_selection import cross_val_score\n",
    "from sklearn.metrics import accuracy_score\n",
    "\n",
    "import scipy \n",
    "import scipy.stats as stats\n",
    "\n",
    "import nltk\n",
    "from nltk.tokenize import word_tokenize\n",
    "from nltk.corpus import stopwords\n",
    "\n",
    "import matplotlib.pyplot as plt"
   ]
  },
  {
   "cell_type": "code",
   "execution_count": 32,
   "metadata": {
    "collapsed": false
   },
   "outputs": [
    {
     "data": {
      "text/html": [
       "<div>\n",
       "<table border=\"1\" class=\"dataframe\">\n",
       "  <thead>\n",
       "    <tr style=\"text-align: right;\">\n",
       "      <th></th>\n",
       "      <th>airline_sentiment</th>\n",
       "      <th>negativereason</th>\n",
       "      <th>airline</th>\n",
       "      <th>text</th>\n",
       "      <th>tweet_location</th>\n",
       "    </tr>\n",
       "  </thead>\n",
       "  <tbody>\n",
       "    <tr>\n",
       "      <th>0</th>\n",
       "      <td>neutral</td>\n",
       "      <td>NaN</td>\n",
       "      <td>Virgin America</td>\n",
       "      <td>@VirginAmerica What @dhepburn said.</td>\n",
       "      <td>NaN</td>\n",
       "    </tr>\n",
       "    <tr>\n",
       "      <th>1</th>\n",
       "      <td>positive</td>\n",
       "      <td>NaN</td>\n",
       "      <td>Virgin America</td>\n",
       "      <td>@VirginAmerica plus you've added commercials t...</td>\n",
       "      <td>NaN</td>\n",
       "    </tr>\n",
       "    <tr>\n",
       "      <th>2</th>\n",
       "      <td>neutral</td>\n",
       "      <td>NaN</td>\n",
       "      <td>Virgin America</td>\n",
       "      <td>@VirginAmerica I didn't today... Must mean I n...</td>\n",
       "      <td>Lets Play</td>\n",
       "    </tr>\n",
       "    <tr>\n",
       "      <th>3</th>\n",
       "      <td>negative</td>\n",
       "      <td>Bad Flight</td>\n",
       "      <td>Virgin America</td>\n",
       "      <td>@VirginAmerica it's really aggressive to blast...</td>\n",
       "      <td>NaN</td>\n",
       "    </tr>\n",
       "    <tr>\n",
       "      <th>4</th>\n",
       "      <td>negative</td>\n",
       "      <td>Can't Tell</td>\n",
       "      <td>Virgin America</td>\n",
       "      <td>@VirginAmerica and it's a really big bad thing...</td>\n",
       "      <td>NaN</td>\n",
       "    </tr>\n",
       "  </tbody>\n",
       "</table>\n",
       "</div>"
      ],
      "text/plain": [
       "  airline_sentiment negativereason         airline  \\\n",
       "0           neutral            NaN  Virgin America   \n",
       "1          positive            NaN  Virgin America   \n",
       "2           neutral            NaN  Virgin America   \n",
       "3          negative     Bad Flight  Virgin America   \n",
       "4          negative     Can't Tell  Virgin America   \n",
       "\n",
       "                                                text tweet_location  \n",
       "0                @VirginAmerica What @dhepburn said.            NaN  \n",
       "1  @VirginAmerica plus you've added commercials t...            NaN  \n",
       "2  @VirginAmerica I didn't today... Must mean I n...      Lets Play  \n",
       "3  @VirginAmerica it's really aggressive to blast...            NaN  \n",
       "4  @VirginAmerica and it's a really big bad thing...            NaN  "
      ]
     },
     "execution_count": 32,
     "metadata": {},
     "output_type": "execute_result"
    }
   ],
   "source": [
    "# Input and clean up data by removing columns not useful for analysis\n",
    "tweets = pd.read_csv('Tweets.csv')\n",
    "del tweets['tweet_id']\n",
    "del tweets['retweet_count']\n",
    "del tweets['tweet_coord']\n",
    "del tweets['name']\n",
    "del tweets['airline_sentiment_gold']\n",
    "del tweets['tweet_created']\n",
    "del tweets['user_timezone']\n",
    "del tweets['negativereason_confidence']\n",
    "del tweets['airline_sentiment_confidence']\n",
    "del tweets['negativereason_gold']\n",
    "tweets.head() "
   ]
  },
  {
   "cell_type": "code",
   "execution_count": 33,
   "metadata": {
    "collapsed": false
   },
   "outputs": [
    {
     "name": "stdout",
     "output_type": "stream",
     "text": [
      "Airlines:  ['Virgin America' 'United' 'Southwest' 'Delta' 'US Airways' 'American']\n",
      " \n",
      "Sentiment:  ['neutral' 'positive' 'negative']\n",
      " \n",
      "Negative comments:  ['Bad Flight' \"Can't Tell\" 'Late Flight' 'Customer Service Issue'\n",
      " 'Flight Booking Problems' 'Lost Luggage' 'Flight Attendant Complaints'\n",
      " 'Cancelled Flight' 'Damaged Luggage' 'longlines']\n",
      " \n",
      "Locations:  ['Lets Play' 'San Francisco CA' 'Los Angeles' ..., 'Columbus, OH, USA'\n",
      " 'Milwaukee County, Wisconsin' 'Nigeria,lagos']\n"
     ]
    }
   ],
   "source": [
    "# scanning data\n",
    "print (\"Airlines: \", tweets['airline'].dropna().unique())\n",
    "print (\" \")\n",
    "print (\"Sentiment: \", tweets['airline_sentiment'].dropna().unique())\n",
    "print (\" \")\n",
    "print (\"Negative comments: \", tweets['negativereason'].dropna().unique())\n",
    "print (\" \")\n",
    "print (\"Locations: \", tweets['tweet_location'].dropna().unique())"
   ]
  },
  {
   "cell_type": "code",
   "execution_count": 34,
   "metadata": {
    "collapsed": false
   },
   "outputs": [],
   "source": [
    "# function to clean up Twitter text\n",
    "def clean_tweet(str):\n",
    "\n",
    "    str = str.lower() \n",
    "    tokens = nltk.word_tokenize(str)                            # tokenize\n",
    "    tokens = [i for i in tokens if i not in string.punctuation] # remove punctuation\n",
    "    stop_words = set(stopwords.words('english'))\n",
    "    tokens = [i for i in tokens if i not in stop_words]  # remove stop words\n",
    "    tokens = [i for i in tokens if   not i.isdigit()]    # remove numbers\n",
    "    tokens = [i for i in tokens if i.isalnum()]          # remove alpha numeric characters\n",
    "\n",
    "    tokens = list(set(tokens)) # Remove duplicates.\n",
    "    #print(\"Length: \", len(tokens))\n",
    "    \n",
    "    clean_text = ' '.join(token for token in tokens) # string output, not list.\n",
    "    \n",
    "    return clean_text"
   ]
  },
  {
   "cell_type": "code",
   "execution_count": 35,
   "metadata": {
    "collapsed": false
   },
   "outputs": [
    {
     "data": {
      "text/html": [
       "<div>\n",
       "<table border=\"1\" class=\"dataframe\">\n",
       "  <thead>\n",
       "    <tr style=\"text-align: right;\">\n",
       "      <th></th>\n",
       "      <th>airline_sentiment</th>\n",
       "      <th>negativereason</th>\n",
       "      <th>airline</th>\n",
       "      <th>text</th>\n",
       "      <th>tweet_location</th>\n",
       "      <th>clean_tweet</th>\n",
       "      <th>sentiment</th>\n",
       "    </tr>\n",
       "  </thead>\n",
       "  <tbody>\n",
       "    <tr>\n",
       "      <th>0</th>\n",
       "      <td>neutral</td>\n",
       "      <td>NaN</td>\n",
       "      <td>Virgin America</td>\n",
       "      <td>@VirginAmerica What @dhepburn said.</td>\n",
       "      <td>NaN</td>\n",
       "      <td>dhepburn virginamerica said</td>\n",
       "      <td>1</td>\n",
       "    </tr>\n",
       "    <tr>\n",
       "      <th>1</th>\n",
       "      <td>positive</td>\n",
       "      <td>NaN</td>\n",
       "      <td>Virgin America</td>\n",
       "      <td>@VirginAmerica plus you've added commercials t...</td>\n",
       "      <td>NaN</td>\n",
       "      <td>experience virginamerica plus commercials adde...</td>\n",
       "      <td>1</td>\n",
       "    </tr>\n",
       "    <tr>\n",
       "      <th>2</th>\n",
       "      <td>neutral</td>\n",
       "      <td>NaN</td>\n",
       "      <td>Virgin America</td>\n",
       "      <td>@VirginAmerica I didn't today... Must mean I n...</td>\n",
       "      <td>Lets Play</td>\n",
       "      <td>need another take must today virginamerica mea...</td>\n",
       "      <td>1</td>\n",
       "    </tr>\n",
       "    <tr>\n",
       "      <th>3</th>\n",
       "      <td>negative</td>\n",
       "      <td>Bad Flight</td>\n",
       "      <td>Virgin America</td>\n",
       "      <td>@VirginAmerica it's really aggressive to blast...</td>\n",
       "      <td>NaN</td>\n",
       "      <td>faces amp obnoxious aggressive blast recourse ...</td>\n",
       "      <td>-1</td>\n",
       "    </tr>\n",
       "    <tr>\n",
       "      <th>4</th>\n",
       "      <td>negative</td>\n",
       "      <td>Can't Tell</td>\n",
       "      <td>Virgin America</td>\n",
       "      <td>@VirginAmerica and it's a really big bad thing...</td>\n",
       "      <td>NaN</td>\n",
       "      <td>virginamerica bad really thing big</td>\n",
       "      <td>-1</td>\n",
       "    </tr>\n",
       "  </tbody>\n",
       "</table>\n",
       "</div>"
      ],
      "text/plain": [
       "  airline_sentiment negativereason         airline  \\\n",
       "0           neutral            NaN  Virgin America   \n",
       "1          positive            NaN  Virgin America   \n",
       "2           neutral            NaN  Virgin America   \n",
       "3          negative     Bad Flight  Virgin America   \n",
       "4          negative     Can't Tell  Virgin America   \n",
       "\n",
       "                                                text tweet_location  \\\n",
       "0                @VirginAmerica What @dhepburn said.            NaN   \n",
       "1  @VirginAmerica plus you've added commercials t...            NaN   \n",
       "2  @VirginAmerica I didn't today... Must mean I n...      Lets Play   \n",
       "3  @VirginAmerica it's really aggressive to blast...            NaN   \n",
       "4  @VirginAmerica and it's a really big bad thing...            NaN   \n",
       "\n",
       "                                         clean_tweet  sentiment  \n",
       "0                        dhepburn virginamerica said          1  \n",
       "1  experience virginamerica plus commercials adde...          1  \n",
       "2  need another take must today virginamerica mea...          1  \n",
       "3  faces amp obnoxious aggressive blast recourse ...         -1  \n",
       "4                 virginamerica bad really thing big         -1  "
      ]
     },
     "execution_count": 35,
     "metadata": {},
     "output_type": "execute_result"
    }
   ],
   "source": [
    "# Add clean tweets field.\n",
    "#print (tweets_train['text'][0])\n",
    "#print (clean_tweet(tweets_train['text'][0]))\n",
    "tweets['clean_tweet']= tweets['text'].apply(lambda s: clean_tweet(s))\n",
    "tweets['sentiment'] =  tweets['airline_sentiment'].apply(lambda x: -1 if x=='negative' else 1)\n",
    "tweets.head()"
   ]
  },
  {
   "cell_type": "code",
   "execution_count": 36,
   "metadata": {
    "collapsed": false
   },
   "outputs": [
    {
     "name": "stdout",
     "output_type": "stream",
     "text": [
      "Training:  (13176, 7)\n",
      "Test:  (1464, 7)\n"
     ]
    }
   ],
   "source": [
    "# Predictive Modeling\n",
    "\n",
    "tweets_train, tweets_test = train_test_split(tweets, test_size=0.10, random_state=42)\n",
    "print (\"Training: \", tweets_train.shape)\n",
    "print (\"Test: \", tweets_test.shape)\n",
    "\n",
    "# train and test clean tweets for training sentiment on words\n",
    "train_clean_text = []\n",
    "for t in tweets_train['clean_tweet']:\n",
    "    train_clean_text.append(t)\n",
    "    \n",
    "test_clean_text = []\n",
    "for t in tweets_test['clean_tweet']:\n",
    "    test_clean_text.append(t)\n"
   ]
  },
  {
   "cell_type": "code",
   "execution_count": 37,
   "metadata": {
    "collapsed": false
   },
   "outputs": [],
   "source": [
    "# Predict Sentiment of the tweet (Positive = 1, Negative/Neutral = 0) \n",
    "\n",
    "# Reference: http://scikit-learn.org/stable/modules/feature_extraction.html\n",
    "# Build training and test features matrix from relevant clean tweet text\n",
    "from sklearn.feature_extraction.text import CountVectorizer\n",
    "v = CountVectorizer(analyzer = \"word\")\n",
    "train_features = v.fit_transform(train_clean_text)\n",
    "test_features  = v.transform(test_clean_text)\n",
    "\n",
    "X = train_features\n",
    "y = tweets_train['sentiment']"
   ]
  },
  {
   "cell_type": "code",
   "execution_count": 38,
   "metadata": {
    "collapsed": false
   },
   "outputs": [],
   "source": [
    "# Try different classfier for prediction and compare accuracies\n",
    "# For SVC, experimented with different value of C and picked 0.1.\n",
    "Classifiers = [svm.SVC(C=0.1), tree.DecisionTreeClassifier(),RandomForestClassifier(n_estimators=100), KNeighborsClassifier()]\n",
    "names = []\n",
    "accuracies = []"
   ]
  },
  {
   "cell_type": "code",
   "execution_count": 41,
   "metadata": {
    "collapsed": false
   },
   "outputs": [
    {
     "name": "stdout",
     "output_type": "stream",
     "text": [
      "Classifier Method:  SVC\n",
      "Training data accuracy:  0.626442015786\n",
      "Test data cross validation accuracy:\n",
      "[ 0.63139932  0.63139932  0.63139932  0.63139932  0.63013699]\n",
      "Accuracy: 0.63 (+/- 0.00)\n",
      " \n",
      "Classifier Method:  DecisionTreeClassifier\n",
      "Training data accuracy:  0.997874924104\n",
      "Test data cross validation accuracy:\n",
      "[ 0.66552901  0.64846416  0.65187713  0.68259386  0.69520548]\n",
      "Accuracy: 0.67 (+/- 0.02)\n",
      " \n",
      "Classifier Method:  RandomForestClassifier\n",
      "Training data accuracy:  0.997874924104\n",
      "Test data cross validation accuracy:\n",
      "[ 0.73720137  0.75767918  0.75767918  0.74744027  0.76712329]\n",
      "Accuracy: 0.75 (+/- 0.01)\n",
      " \n",
      "Classifier Method:  KNeighborsClassifier\n",
      "Training data accuracy:  0.693989071038\n",
      "Test data cross validation accuracy:\n",
      "[ 0.47440273  0.43686007  0.44027304  0.3890785   0.45890411]\n",
      "Accuracy: 0.44 (+/- 0.03)\n",
      " \n"
     ]
    }
   ],
   "source": [
    "\n",
    "for C in Classifiers:\n",
    "    print(\"Classifier Method: \", C.__class__.__name__)\n",
    "    names.append(C.__class__.__name__)\n",
    "    clf = C.fit(X,y)\n",
    "    print(\"Training data accuracy: \", clf.score(X,y))\n",
    "    print(\"Test data cross validation accuracy:\")\n",
    "    scores = cross_val_score(clf, test_features, tweets_test['sentiment'], cv=5)\n",
    "    print(scores)\n",
    "    print(\"Accuracy: %0.2f (+/- %0.2f)\" % (scores.mean(), scores.std())) \n",
    "    accuracies.append(scores.mean())\n",
    "    print(\" \")"
   ]
  },
  {
   "cell_type": "code",
   "execution_count": 40,
   "metadata": {
    "collapsed": false
   },
   "outputs": [
    {
     "data": {
      "text/plain": [
       "<matplotlib.text.Text at 0x1d601c992b0>"
      ]
     },
     "execution_count": 40,
     "metadata": {},
     "output_type": "execute_result"
    },
    {
     "data": {
      "image/png": "[encoded data removed]",
      "text/plain": [
       "<matplotlib.figure.Figure at 0x1d602053e10>"
      ]
     },
     "metadata": {},
     "output_type": "display_data"
    }
   ],
   "source": [
    "%matplotlib inline\n",
    "index = [1,2,3,4]\n",
    "plt.bar(index,accuracies)\n",
    "plt.xticks(index, names,rotation=90)\n",
    "plt.ylabel('Accuracy')\n",
    "plt.xlabel('Classifier Type')\n",
    "plt.title('Comparing Classifier Accuracy')"
   ]
  },
  {
   "cell_type": "code",
   "execution_count": null,
   "metadata": {
    "collapsed": false
   },
   "outputs": [],
   "source": []
  },
  {
   "cell_type": "code",
   "execution_count": null,
   "metadata": {
    "collapsed": false
   },
   "outputs": [],
   "source": []
  },
  {
   "cell_type": "code",
   "execution_count": null,
   "metadata": {
    "collapsed": false
   },
   "outputs": [],
   "source": []
  },
  {
   "cell_type": "markdown",
   "metadata": {},
   "source": [
    "## References:\n",
    "\n",
    "(1) Dataset: https://www.kaggle.com/crowdflower/twitter-airline-sentiment\n",
    "\n",
    "(2) www.nltk.org\n",
    "\n",
    "(3) http://scikit-learn.org/stable/modules/feature_extraction.html\n",
    "\n",
    "(4) https://de.dariah.eu/tatom/working_with_text.html"
   ]
  },
  {
   "cell_type": "code",
   "execution_count": null,
   "metadata": {
    "collapsed": true
   },
   "outputs": [],
   "source": []
  }
 ],
 "metadata": {
  "kernelspec": {
   "display_name": "Python [conda root]",
   "language": "python",
   "name": "conda-root-py"
  },
  "language_info": {
   "codemirror_mode": {
    "name": "ipython",
    "version": 3
   },
   "file_extension": ".py",
   "mimetype": "text/x-python",
   "name": "python",
   "nbconvert_exporter": "python",
   "pygments_lexer": "ipython3",
   "version": "3.5.2"
  }
 },
 "nbformat": 4,
 "nbformat_minor": 2
}
