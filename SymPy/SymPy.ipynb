{
 "cells": [
  {
   "cell_type": "markdown",
   "metadata": {},
   "source": [
    "# <u>Python Tools Project (CIS442)</u>\n",
    "# <u>SymPy</u>\n",
    "## By - Bingqiong Sun, Shiwei Ran(Victoria), Chuanji Chen, Tushar Mathur\n"
   ]
  },
  {
   "cell_type": "markdown",
   "metadata": {},
   "source": [
    "### SymPy is a Python library for symbolic mathematics. It aims to become a full-featured computer algebra system (CAS) while keeping the code as simple as possible in order to be comprehensible and easily extensible. SymPy is written entirely in Python."
   ]
  },
  {
   "cell_type": "markdown",
   "metadata": {},
   "source": [
    "### Symbolic computation deals with the computation of mathematical objects symbolically. This means that the mathematical objects are represented exactly, not approximately, and mathematical expressions with unevaluated variables are left in symbolic form.\n",
    "\n",
    "\n",
    "### There are many computer alegbra systems that can perform similar functions as SymPy, however there is only one Python library that is similar to SymPy. It's called - DataMelt(DMelt). DMelt is a data visualization library that is written in Java and can run on any platform that is capable of running the Java Virtual Machine. The one advantage that SymPy has over DMelt, is that SymPy is <u>FREE!</u>"
   ]
  },
  {
   "cell_type": "markdown",
   "metadata": {},
   "source": [
    "<h2> <u><b>How to install Sympy</b></u></h2>\n",
    "#### Run the following command in Terminal or Command Prompt to update to the latest version of SymPy - \n",
    "\n",
    "#### conda update sympy"
   ]
  },
  {
   "cell_type": "markdown",
   "metadata": {},
   "source": [
    "#### As mentioned before, SymPy is written entirely in Python. This allows SymPy to run on any OS capable of running Python code. Therefore, SymPy isn't platform dependent. \n",
    "\n",
    "#### SymPy has an external dependency on mpmath. If you're using Anaconda, this would already be installed. However, if you wish to not use Anacona, kindly install mpmath using the follwoing commnad - \n",
    "\n",
    "#### pip install mpmath\n"
   ]
  },
  {
   "cell_type": "code",
   "execution_count": 43,
   "metadata": {
    "collapsed": true
   },
   "outputs": [],
   "source": [
    "import sympy  # To import the SymPy library into your project\n",
    "init_printing(use_unicode=True) #This will automatically enable the best printer available in your environment."
   ]
  },
  {
   "cell_type": "markdown",
   "metadata": {},
   "source": [
    "### The real power of a symbolic computation system such as SymPy is the ability to do all sorts of computations symbolically. SymPy can simplify expressions, compute derivatives, integrals, and limits, solve equations, work with matrices, and much, much more, and do it all symbolically. It includes modules for plotting, printing (like 2D pretty printed output of math formulas), code generation, physics, statistics, combinatorics, number theory, geometry, logic, and more.\n",
    "\n",
    "### Let's start by looking at some of the nifty functionalities of SymPy\n",
    "### <u>1. Basic Operations </u>\n",
    "### <u>1.1 Substitution</u>"
   ]
  },
  {
   "cell_type": "code",
   "execution_count": 30,
   "metadata": {
    "collapsed": false
   },
   "outputs": [
    {
     "data": {
      "image/png": "[encoded data removed]",
      "text/latex": [
       "$$\\sin{\\left (x \\right )} + 1$$"
      ],
      "text/plain": [
       "sin(x) + 1"
      ]
     },
     "execution_count": 30,
     "metadata": {},
     "output_type": "execute_result"
    }
   ],
   "source": [
    "# One of the most common things you might want to do with a mathematical expression is substitution. \n",
    "# Substitution replaces all instances of something in an expression with something else. \n",
    "from sympy import *\n",
    "x, y, z = symbols(\"x y z\")\n",
    "\n",
    "\n",
    "expr = sin(x) + 1\n",
    "expr.subs(x, y)\n",
    "expr\n",
    "#Here we defined a function sin(x) +1. Using the sub() function, we substituted the 'x' for 'y'\n",
    "#Substitution is done primarily for two reasons - \n",
    "    #1. Evaluating the value of a expression for a specific point. \n",
    "    # Example - sin(0) + 1 \n",
    "    \n",
    "    #2.Replacing a subexpression with another subexpression. There are two reasons we might want to do this.\n",
    "    #Example - We all know sin(2x)= 2*sin(x)*cos(x). If we had an expression containing sin(2x), we could use the subs()\n",
    "    #function to replace it to 2*sin(x)*cos(x). \n",
    "\n",
    "#Important note regarding subs()\n",
    "#subs() doesn't change the original expression. It just returns a new expression.\n"
   ]
  },
  {
   "cell_type": "markdown",
   "metadata": {},
   "source": [
    "### <u>1.2 Converting strings to SymPy expressions</u>"
   ]
  },
  {
   "cell_type": "code",
   "execution_count": 35,
   "metadata": {
    "collapsed": false
   },
   "outputs": [
    {
     "data": {
      "image/png": "[encoded data removed]",
      "text/latex": [
       "$$y^{3} + 5 y + \\frac{3}{5}$$"
      ],
      "text/plain": [
       " 3         3\n",
       "y  + 5⋅y + ─\n",
       "           5"
      ]
     },
     "execution_count": 35,
     "metadata": {},
     "output_type": "execute_result"
    }
   ],
   "source": [
    "#The sympify() function is used to convert python strings to SymPy expressions.\n",
    "\n",
    "str_expr = \"y**3 + 5*y + 3/5\"\n",
    "expr = sympify(str_expr)\n",
    "expr\n"
   ]
  },
  {
   "cell_type": "code",
   "execution_count": 36,
   "metadata": {
    "collapsed": false
   },
   "outputs": [
    {
     "name": "stdout",
     "output_type": "stream",
     "text": [
      "\n",
      "The value of expr at y=2 is:\n"
     ]
    },
    {
     "data": {
      "image/png": "[encoded data removed]",
      "text/latex": [
       "$$\\frac{93}{5}$$"
      ],
      "text/plain": [
       "93/5"
      ]
     },
     "execution_count": 36,
     "metadata": {},
     "output_type": "execute_result"
    }
   ],
   "source": [
    "#Let's try to evalute the expression for y=2\n",
    "#We will use sub() to substitute y with 2\n",
    "\n",
    "print(\"\\nThe value of expr at y=2 is:\")\n",
    "expr.subs(y,2)\n"
   ]
  },
  {
   "cell_type": "markdown",
   "metadata": {},
   "source": [
    "### <u>1.3 Expand</u>"
   ]
  },
  {
   "cell_type": "code",
   "execution_count": 41,
   "metadata": {
    "collapsed": false
   },
   "outputs": [
    {
     "data": {
      "image/png": "[encoded data removed]",
      "text/latex": [
       "$$x^{3} + 3 x^{2} + 3 x + 1$$"
      ],
      "text/plain": [
       " 3      2          \n",
       "x  + 3⋅x  + 3⋅x + 1"
      ]
     },
     "execution_count": 41,
     "metadata": {},
     "output_type": "execute_result"
    }
   ],
   "source": [
    "#The expand() function is primarily used to expand polynomial expressions. \n",
    "#Let's look at a simple example. \n",
    "expand((x + 1)**3)\n"
   ]
  },
  {
   "cell_type": "markdown",
   "metadata": {},
   "source": [
    "### <u>1.3 Factor</u>"
   ]
  },
  {
   "cell_type": "code",
   "execution_count": 42,
   "metadata": {
    "collapsed": false
   },
   "outputs": [
    {
     "data": {
      "image/png": "[encoded data removed]",
      "text/latex": [
       "$$\\left(x - 1\\right) \\left(x^{2} + 1\\right)$$"
      ],
      "text/plain": [
       "        ⎛ 2    ⎞\n",
       "(x - 1)⋅⎝x  + 1⎠"
      ]
     },
     "execution_count": 42,
     "metadata": {},
     "output_type": "execute_result"
    }
   ],
   "source": [
    "#The factor() function takes a polynomial and factors it into irreducible factors over the rational numbers. \n",
    "#Let's take a look at a simple example.\n",
    "factor(x**3 - x**2 + x - 1)"
   ]
  },
  {
   "cell_type": "markdown",
   "metadata": {},
   "source": [
    "### <u>1.4 Collect</u>"
   ]
  },
  {
   "cell_type": "code",
   "execution_count": 45,
   "metadata": {
    "collapsed": false
   },
   "outputs": [
    {
     "data": {
      "image/png": "[encoded data removed]",
      "text/latex": [
       "$$10 x^{3} z + x^{3} - x^{2} z + 3 x^{2} + x y + x - 3$$"
      ],
      "text/plain": [
       "    3      3    2        2              \n",
       "10⋅x ⋅z + x  - x ⋅z + 3⋅x  + x⋅y + x - 3"
      ]
     },
     "execution_count": 45,
     "metadata": {},
     "output_type": "execute_result"
    }
   ],
   "source": [
    "#The collect() function collects common powers of a term in an expression.\n",
    "#Let's take a look at a simple example.\n",
    "expr = x*y + x - 3 + 2*x**2 - z*x**2 + x**3 + x**2 + 10*z*x**3 #Declaring a polynomial experssion\n",
    "expr #printing expression to screen"
   ]
  },
  {
   "cell_type": "code",
   "execution_count": 50,
   "metadata": {
    "collapsed": false
   },
   "outputs": [
    {
     "data": {
      "image/png": "[encoded data removed]",
      "text/latex": [
       "$$x^{3} \\left(10 z + 1\\right) + x^{2} \\left(- z + 3\\right) + x \\left(y + 1\\right) - 3$$"
      ],
      "text/plain": [
       " 3               2                         \n",
       "x ⋅(10⋅z + 1) + x ⋅(-z + 3) + x⋅(y + 1) - 3"
      ]
     },
     "execution_count": 50,
     "metadata": {},
     "output_type": "execute_result"
    }
   ],
   "source": [
    "#Now let's use collect()\n",
    "collected_expr = collect(expr, x)\n",
    "collected_expr\n",
    "\n",
    "#Collects all terms of the varibale x"
   ]
  },
  {
   "cell_type": "code",
   "execution_count": 52,
   "metadata": {
    "collapsed": false
   },
   "outputs": [
    {
     "data": {
      "image/png": "[encoded data removed]",
      "text/latex": [
       "$$x^{3} + 3 x^{2} + x y + x + z \\left(10 x^{3} - x^{2}\\right) - 3$$"
      ],
      "text/plain": [
       " 3      2               ⎛    3    2⎞    \n",
       "x  + 3⋅x  + x⋅y + x + z⋅⎝10⋅x  - x ⎠ - 3"
      ]
     },
     "execution_count": 52,
     "metadata": {},
     "output_type": "execute_result"
    }
   ],
   "source": [
    "collected_expr = collect(expr, z)\n",
    "collected_expr\n",
    "#Collects all terms of the varibale z"
   ]
  },
  {
   "cell_type": "markdown",
   "metadata": {},
   "source": [
    "### <u>1.5 Apart</u>"
   ]
  },
  {
   "cell_type": "code",
   "execution_count": 59,
   "metadata": {
    "collapsed": false
   },
   "outputs": [
    {
     "data": {
      "image/png": "[encoded data removed]",
      "text/latex": [
       "$$\\frac{7 x^{4} + 11 x^{3} + 8 x + 5}{4 x^{4} + 7 x^{3} + 6 x^{2} + x}$$"
      ],
      "text/plain": [
       "   4       3          \n",
       "7⋅x  + 11⋅x  + 8⋅x + 5\n",
       "──────────────────────\n",
       "   4      3      2    \n",
       "4⋅x  + 7⋅x  + 6⋅x  + x"
      ]
     },
     "execution_count": 59,
     "metadata": {},
     "output_type": "execute_result"
    }
   ],
   "source": [
    "#The apart() function performs a partial fraction decomposition on a rational function.\n",
    "#Let's take a look at a simple example.\n",
    "expr = (7*x**4 + 11*x**3 + 8*x + 5)/(4*x**4 + 7*x**3 + 6*x**2 + x) #Declaring a rational fraction\n",
    "expr #printing rational fration to screen"
   ]
  },
  {
   "cell_type": "code",
   "execution_count": 60,
   "metadata": {
    "collapsed": false
   },
   "outputs": [
    {
     "data": {
      "image/png": "[encoded data removed]",
      "text/latex": [
       "$$- \\frac{85 x^{2} + 182 x + 95}{16 x^{3} + 28 x^{2} + 24 x + 4} + \\frac{7}{4} + \\frac{5}{x}$$"
      ],
      "text/plain": [
       "          2                        \n",
       "      85⋅x  + 182⋅x + 95      7   5\n",
       "- ───────────────────────── + ─ + ─\n",
       "    ⎛   3      2          ⎞   4   x\n",
       "  4⋅⎝4⋅x  + 7⋅x  + 6⋅x + 1⎠        "
      ]
     },
     "execution_count": 60,
     "metadata": {},
     "output_type": "execute_result"
    }
   ],
   "source": [
    "apart(expr) #using apart() to perform partial fraction decomposition."
   ]
  },
  {
   "cell_type": "markdown",
   "metadata": {},
   "source": [
    "### <u>2. Calculus </u>\n",
    "### <u>2.1 Derivatives</u>"
   ]
  },
  {
   "cell_type": "code",
   "execution_count": 67,
   "metadata": {
    "collapsed": false
   },
   "outputs": [
    {
     "data": {
      "image/png": "[encoded data removed]",
      "text/latex": [
       "$$\\cos{\\left (x \\right )}$$"
      ],
      "text/plain": [
       "cos(x)"
      ]
     },
     "execution_count": 67,
     "metadata": {},
     "output_type": "execute_result"
    }
   ],
   "source": [
    "#Lets try to find the derivative of sin(x) using SymPy\n",
    "diff(sin(x), x)\n",
    "\n",
    "#The diff() function can be used to find the derivative of any expression.\n",
    "#In the above example, we found the derivative of sin(x) with respect to x."
   ]
  },
  {
   "cell_type": "code",
   "execution_count": 68,
   "metadata": {
    "collapsed": false
   },
   "outputs": [
    {
     "data": {
      "image/png": "[encoded data removed]",
      "text/latex": [
       "$$x^{4}$$"
      ],
      "text/plain": [
       " 4\n",
       "x "
      ]
     },
     "execution_count": 68,
     "metadata": {},
     "output_type": "execute_result"
    }
   ],
   "source": [
    "#diff() can be used to find multiple derivatives using a single line of code.\n",
    "expr=x**4\n",
    "expr"
   ]
  },
  {
   "cell_type": "code",
   "execution_count": 69,
   "metadata": {
    "collapsed": false
   },
   "outputs": [
    {
     "data": {
      "image/png": "[encoded data removed]",
      "text/latex": [
       "$$4 x^{3}$$"
      ],
      "text/plain": [
       "   3\n",
       "4⋅x "
      ]
     },
     "execution_count": 69,
     "metadata": {},
     "output_type": "execute_result"
    }
   ],
   "source": [
    "#Let's find the first derivative of expr\n",
    "diff(expr,x)"
   ]
  },
  {
   "cell_type": "code",
   "execution_count": 77,
   "metadata": {
    "collapsed": false
   },
   "outputs": [
    {
     "data": {
      "image/png": "[encoded data removed]",
      "text/latex": [
       "$$12 x^{2}$$"
      ],
      "text/plain": [
       "    2\n",
       "12⋅x "
      ]
     },
     "execution_count": 77,
     "metadata": {},
     "output_type": "execute_result"
    }
   ],
   "source": [
    "#let's find the second derivative of expr\n",
    "diff(expr,x,2)"
   ]
  },
  {
   "cell_type": "code",
   "execution_count": 76,
   "metadata": {
    "collapsed": false
   },
   "outputs": [
    {
     "data": {
      "image/png": "[encoded data removed]",
      "text/latex": [
       "$$24 x$$"
      ],
      "text/plain": [
       "24⋅x"
      ]
     },
     "execution_count": 76,
     "metadata": {},
     "output_type": "execute_result"
    }
   ],
   "source": [
    "#let's find the third derivative of expr\n",
    "diff(expr,x,3)"
   ]
  },
  {
   "cell_type": "markdown",
   "metadata": {},
   "source": [
    "### <u>2.2 Integrals</u>"
   ]
  },
  {
   "cell_type": "code",
   "execution_count": 80,
   "metadata": {
    "collapsed": false
   },
   "outputs": [
    {
     "data": {
      "image/png": "[encoded data removed]",
      "text/latex": [
       "$$\\sin{\\left (x \\right )}$$"
      ],
      "text/plain": [
       "sin(x)"
      ]
     },
     "execution_count": 80,
     "metadata": {},
     "output_type": "execute_result"
    }
   ],
   "source": [
    "#Still remember the derivative of sin(x)?\n",
    "#The answer is cos(x)\n",
    "#Now let's use integrate to find the integral of cos(x)\n",
    "\n",
    "integrate(cos(x),x)"
   ]
  },
  {
   "cell_type": "code",
   "execution_count": 82,
   "metadata": {
    "collapsed": false
   },
   "outputs": [
    {
     "data": {
      "image/png": "[encoded data removed]",
      "text/latex": [
       "$$e^{x}$$"
      ],
      "text/plain": [
       " x\n",
       "ℯ "
      ]
     },
     "execution_count": 82,
     "metadata": {},
     "output_type": "execute_result"
    }
   ],
   "source": [
    "#Let's see how to evaluate a definite integral.\n",
    "#First let's find the intergral of e**x\n",
    "integrate(exp(x),x)"
   ]
  },
  {
   "cell_type": "code",
   "execution_count": 83,
   "metadata": {
    "collapsed": false
   },
   "outputs": [
    {
     "data": {
      "image/png": "[encoded data removed]",
      "text/latex": [
       "$$1$$"
      ],
      "text/plain": [
       "1"
      ]
     },
     "execution_count": 83,
     "metadata": {},
     "output_type": "execute_result"
    }
   ],
   "source": [
    "#Now we find the value of this with the limits of 0 to positive infinity\n",
    "integrate(exp(-x), (x, 0, oo))  ## infinity is written as 'oo'. Lowercase letter 'o' twice. "
   ]
  },
  {
   "cell_type": "markdown",
   "metadata": {},
   "source": [
    "### <u>2.3 Limits</u>"
   ]
  },
  {
   "cell_type": "code",
   "execution_count": 87,
   "metadata": {
    "collapsed": false
   },
   "outputs": [
    {
     "data": {
      "image/png": "[encoded data removed]",
      "text/latex": [
       "$$\\frac{1}{x} \\sin{\\left (x \\right )}$$"
      ],
      "text/plain": [
       "sin(x)\n",
       "──────\n",
       "  x   "
      ]
     },
     "execution_count": 87,
     "metadata": {},
     "output_type": "execute_result"
    }
   ],
   "source": [
    "#SymPy can compute symbolic limits with the limit function.\n",
    "#The syntax to compute limits is as follows - limit(f(x), x, x0).\n",
    "\n",
    "#Example - \n",
    "expr=sin(x)/x\n",
    "expr"
   ]
  },
  {
   "cell_type": "code",
   "execution_count": 88,
   "metadata": {
    "collapsed": false
   },
   "outputs": [
    {
     "data": {
      "image/png": "[encoded data removed]",
      "text/latex": [
       "$$1$$"
      ],
      "text/plain": [
       "1"
      ]
     },
     "execution_count": 88,
     "metadata": {},
     "output_type": "execute_result"
    }
   ],
   "source": [
    "limit(expr, x, 0)"
   ]
  },
  {
   "cell_type": "markdown",
   "metadata": {},
   "source": [
    "### <u>3. Matrices </u>"
   ]
  },
  {
   "cell_type": "code",
   "execution_count": 109,
   "metadata": {
    "collapsed": false
   },
   "outputs": [
    {
     "data": {
      "text/latex": [
       "$$\\left[\\begin{matrix}1 & 2\\\\3 & 4\\\\5 & 6\\end{matrix}\\right]$$"
      ],
      "text/plain": [
       "⎡1  2⎤\n",
       "⎢    ⎥\n",
       "⎢3  4⎥\n",
       "⎢    ⎥\n",
       "⎣5  6⎦"
      ]
     },
     "execution_count": 109,
     "metadata": {},
     "output_type": "execute_result"
    }
   ],
   "source": [
    "#To print a matrix\n",
    "a=Matrix([[1, 2], [3, 4], [5, 6]])\n",
    "a"
   ]
  },
  {
   "cell_type": "markdown",
   "metadata": {},
   "source": [
    "### <u>3.1 Matrix Operations </u>"
   ]
  },
  {
   "cell_type": "code",
   "execution_count": 110,
   "metadata": {
    "collapsed": false
   },
   "outputs": [
    {
     "data": {
      "image/png": "[encoded data removed]",
      "text/latex": [
       "$$\\left ( 3, \\quad 2\\right )$$"
      ],
      "text/plain": [
       "(3, 2)"
      ]
     },
     "execution_count": 110,
     "metadata": {},
     "output_type": "execute_result"
    }
   ],
   "source": [
    "#To get dimensions of a matrix .shape function is used. \n",
    "a.shape\n"
   ]
  },
  {
   "cell_type": "code",
   "execution_count": 111,
   "metadata": {
    "collapsed": false
   },
   "outputs": [
    {
     "data": {
      "text/plain": [
       "<bound method DenseMatrix.row of Matrix([\n",
       "[1, 2],\n",
       "[3, 4],\n",
       "[5, 6]])>"
      ]
     },
     "execution_count": 111,
     "metadata": {},
     "output_type": "execute_result"
    }
   ],
   "source": [
    "#To accesss a row, .row function is used\n",
    "a.row #getting all rows"
   ]
  },
  {
   "cell_type": "code",
   "execution_count": 112,
   "metadata": {
    "collapsed": false
   },
   "outputs": [
    {
     "data": {
      "text/latex": [
       "$$\\left[\\begin{matrix}1 & 2\\end{matrix}\\right]$$"
      ],
      "text/plain": [
       "[1  2]"
      ]
     },
     "execution_count": 112,
     "metadata": {},
     "output_type": "execute_result"
    }
   ],
   "source": [
    "a.row(0) #getting first row"
   ]
  },
  {
   "cell_type": "code",
   "execution_count": 97,
   "metadata": {
    "collapsed": false
   },
   "outputs": [
    {
     "data": {
      "text/plain": [
       "<bound method DenseMatrix.col of Matrix([\n",
       "[1, 2],\n",
       "[3, 4],\n",
       "[5, 6]])>"
      ]
     },
     "execution_count": 97,
     "metadata": {},
     "output_type": "execute_result"
    }
   ],
   "source": [
    "#To accesss a column, .col function is used\n",
    "a.col #getting all columns"
   ]
  },
  {
   "cell_type": "code",
   "execution_count": 113,
   "metadata": {
    "collapsed": false
   },
   "outputs": [
    {
     "data": {
      "text/latex": [
       "$$\\left[\\begin{matrix}1 & 2\\\\3 & 4\\\\5 & 6\\end{matrix}\\right]$$"
      ],
      "text/plain": [
       "⎡1  2⎤\n",
       "⎢    ⎥\n",
       "⎢3  4⎥\n",
       "⎢    ⎥\n",
       "⎣5  6⎦"
      ]
     },
     "execution_count": 113,
     "metadata": {},
     "output_type": "execute_result"
    }
   ],
   "source": [
    "a.col(0) #getting first col\n",
    "a"
   ]
  },
  {
   "cell_type": "code",
   "execution_count": 114,
   "metadata": {
    "collapsed": false
   },
   "outputs": [
    {
     "data": {
      "text/latex": [
       "$$\\left[\\begin{matrix}3 & 4\\\\5 & 6\\end{matrix}\\right]$$"
      ],
      "text/plain": [
       "⎡3  4⎤\n",
       "⎢    ⎥\n",
       "⎣5  6⎦"
      ]
     },
     "execution_count": 114,
     "metadata": {},
     "output_type": "execute_result"
    }
   ],
   "source": [
    "#To delete an entire row of a matrix, the row_del function is used\n",
    "a.row_del(0)\n",
    "a\n"
   ]
  },
  {
   "cell_type": "code",
   "execution_count": 115,
   "metadata": {
    "collapsed": false
   },
   "outputs": [
    {
     "data": {
      "text/latex": [
       "$$\\left[\\begin{matrix}4\\\\6\\end{matrix}\\right]$$"
      ],
      "text/plain": [
       "⎡4⎤\n",
       "⎢ ⎥\n",
       "⎣6⎦"
      ]
     },
     "execution_count": 115,
     "metadata": {},
     "output_type": "execute_result"
    }
   ],
   "source": [
    "#To delete an entire column of a matrix, the col_del function is used\n",
    "a.col_del(0)\n",
    "a\n"
   ]
  },
  {
   "cell_type": "code",
   "execution_count": 116,
   "metadata": {
    "collapsed": false
   },
   "outputs": [
    {
     "data": {
      "text/latex": [
       "$$\\left[\\begin{matrix}4\\\\1\\\\6\\end{matrix}\\right]$$"
      ],
      "text/plain": [
       "⎡4⎤\n",
       "⎢ ⎥\n",
       "⎢1⎥\n",
       "⎢ ⎥\n",
       "⎣6⎦"
      ]
     },
     "execution_count": 116,
     "metadata": {},
     "output_type": "execute_result"
    }
   ],
   "source": [
    "#To insert a row, the row_ins function is used\n",
    "a = a.row_insert(1, Matrix([[1]]))\n",
    "a"
   ]
  },
  {
   "cell_type": "code",
   "execution_count": 117,
   "metadata": {
    "collapsed": false
   },
   "outputs": [
    {
     "data": {
      "text/latex": [
       "$$\\left[\\begin{matrix}1 & 4\\\\-2 & 1\\\\3 & 6\\end{matrix}\\right]$$"
      ],
      "text/plain": [
       "⎡1   4⎤\n",
       "⎢     ⎥\n",
       "⎢-2  1⎥\n",
       "⎢     ⎥\n",
       "⎣3   6⎦"
      ]
     },
     "execution_count": 117,
     "metadata": {},
     "output_type": "execute_result"
    }
   ],
   "source": [
    "#To insert a column, the col_ins function is used\n",
    "a = a.col_insert(0, Matrix([1, -2,3]))\n",
    "a"
   ]
  },
  {
   "cell_type": "markdown",
   "metadata": {},
   "source": [
    "## The other functions in SymPy are -\n",
    "\n",
    "### 1. SymPy can be used for Trigonometric simplification.\n",
    "### 2. SymPy can be used for expanding trigonometric expressions.\n",
    "### 3. SymPy can be used to evaluate combinatorial expressions.\n",
    "### 4. SymPy can be used to evaluate continuing fractions.\n",
    "### 5. SymPy can be used to evaluate factorials.\n",
    "### 6. SymPy can be used to evalutae binomial coefficients.\n",
    "### 7. SymPy can be used with Expression trees.\n",
    "### 8. SymPy can be used to solve equations algebrically. \n",
    "### 9. SymPy can be used to solve differential eqautions.\n"
   ]
  },
  {
   "cell_type": "markdown",
   "metadata": {
    "collapsed": true
   },
   "source": [
    "<h2> <u>Summary and Personal Assessment of library </u></h2>\n"
   ]
  },
  {
   "cell_type": "markdown",
   "metadata": {},
   "source": [
    "#### We feel that SymPy is an extremely well defined library. The tasks of writing and evaluating alegbric equations is simplied greatly by using SymPy. The fact that it is written entirely in Python and it available for free, make it more attractive than its alternatives. As of now, we can't foresee any situation where we would have to use it as analyst in the future, however, for someone working in the field of Mathematics or pure sciences, SymPy seems like an extremely valuable library to know. "
   ]
  },
  {
   "cell_type": "markdown",
   "metadata": {},
   "source": [
    "<h2> <u>References </u></h2>\n"
   ]
  },
  {
   "cell_type": "markdown",
   "metadata": {},
   "source": [
    "#### 1. http://docs.sympy.org/latest/index.html\n",
    "#### 2. https://en.wikipedia.org/wiki/Computer_algebra_system\n",
    "#### 3. https://en.wikipedia.org/wiki/List_of_computer_algebra_systems\n",
    "#### 4. http://stackoverflow.com/questions/1954799/basics-of-sympy"
   ]
  },
  {
   "cell_type": "code",
   "execution_count": null,
   "metadata": {
    "collapsed": true
   },
   "outputs": [],
   "source": []
  }
 ],
 "metadata": {
  "kernelspec": {
   "display_name": "Python [default]",
   "language": "python",
   "name": "python3"
  },
  "language_info": {
   "codemirror_mode": {
    "name": "ipython",
    "version": 3
   },
   "file_extension": ".py",
   "mimetype": "text/x-python",
   "name": "python",
   "nbconvert_exporter": "python",
   "pygments_lexer": "ipython3",
   "version": "3.5.2"
  }
 },
 "nbformat": 4,
 "nbformat_minor": 2
}
