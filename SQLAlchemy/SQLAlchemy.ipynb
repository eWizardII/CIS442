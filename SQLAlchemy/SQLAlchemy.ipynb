{
 "cells": [
  {
   "cell_type": "markdown",
   "metadata": {},
   "source": [
    "<center>\n",
    "<h1>Working Examples</h1>\n",
    "<br>\n",
    "</center> "
   ]
  },
  {
   "cell_type": "markdown",
   "metadata": {},
   "source": [
    "<h3>1) Connect to a SQL Database</h3> <br>\n",
    "We will use an in-memory only SQLite database. An in-memory SQLite database does not have a physical file and exists only in the memory. "
   ]
  },
  {
   "cell_type": "code",
   "execution_count": 1,
   "metadata": {
    "collapsed": true
   },
   "outputs": [],
   "source": [
    "import sqlalchemy\n",
    "from sqlalchemy import create_engine\n",
    "engine = create_engine('sqlite:///:memory:', echo=True)\n",
    "\n",
    "#Setting echo to TRUE enables logging.\n",
    "#The return value of create_engine() is an instance of Engine, and it represents the interface to the database."
   ]
  },
  {
   "cell_type": "markdown",
   "metadata": {},
   "source": [
    "<h3>2) Declare a mapping</h3>\n",
    "\n",
    "We have 2 steps to perform:\n",
    "1. Describe the database table\n",
    "2. Create our own classes that will be mapped to these tables. \n",
    "\n",
    "We can combine these 2 steps using a **declarative base class**. We will create the base class, and see how to create a class called **Customer** that will be mapped to the **Customer** table in the database. At the minimum, we have to specify the table name and the primary key column in order to create a class mapped onto some table."
   ]
  },
  {
   "cell_type": "code",
   "execution_count": 2,
   "metadata": {
    "collapsed": true
   },
   "outputs": [],
   "source": [
    "from sqlalchemy.ext.declarative import declarative_base\n",
    "Base = declarative_base()\n",
    "\n",
    "from sqlalchemy import Column, Integer, String\n",
    "class Customer(Base):\n",
    "    __tablename__ = 'Customer'\n",
    "    id = Column(Integer, primary_key=True)\n",
    "    firstname = Column(String)\n",
    "    lastname = Column(String)\n",
    "\n",
    "    def __repr__(self):\n",
    "        return \"<Customer(firstname='%s', lastname='%s')>\" % (self.firstname, self.lastname)"
   ]
  },
  {
   "cell_type": "markdown",
   "metadata": {},
   "source": [
    "<h3>3) Create a Schema</h3>\n",
    "\n",
    "We have created a class **Customer** in which we have defined the information about the table (this is called the **metadata**). We will now create the actual table in the database. \n",
    "\n",
    "We can use MetaData to issue CREATE TABLE statements to the database for all tables that don’t yet exist. Below, we call the MetaData.create_all() method, passing in our Engine as a source of database connectivity."
   ]
  },
  {
   "cell_type": "code",
   "execution_count": 3,
   "metadata": {
    "collapsed": false
   },
   "outputs": [
    {
     "name": "stdout",
     "output_type": "stream",
     "text": [
      "2017-02-17 17:37:42,001 INFO sqlalchemy.engine.base.Engine SELECT CAST('test plain returns' AS VARCHAR(60)) AS anon_1\n",
      "2017-02-17 17:37:42,010 INFO sqlalchemy.engine.base.Engine ()\n",
      "2017-02-17 17:37:42,030 INFO sqlalchemy.engine.base.Engine SELECT CAST('test unicode returns' AS VARCHAR(60)) AS anon_1\n",
      "2017-02-17 17:37:42,032 INFO sqlalchemy.engine.base.Engine ()\n",
      "2017-02-17 17:37:42,032 INFO sqlalchemy.engine.base.Engine PRAGMA table_info(\"Customer\")\n",
      "2017-02-17 17:37:42,032 INFO sqlalchemy.engine.base.Engine ()\n",
      "2017-02-17 17:37:42,048 INFO sqlalchemy.engine.base.Engine \n",
      "CREATE TABLE \"Customer\" (\n",
      "\tid INTEGER NOT NULL, \n",
      "\tfirstname VARCHAR, \n",
      "\tlastname VARCHAR, \n",
      "\tPRIMARY KEY (id)\n",
      ")\n",
      "\n",
      "\n",
      "2017-02-17 17:37:42,048 INFO sqlalchemy.engine.base.Engine ()\n",
      "2017-02-17 17:37:42,063 INFO sqlalchemy.engine.base.Engine COMMIT\n"
     ]
    }
   ],
   "source": [
    "Base.metadata.create_all(engine)\n",
    "#the logging data below shows us that the existance of the table users (PRAGMA table_info(\"users\")) was first checked before the \n",
    "#create command was issued."
   ]
  },
  {
   "cell_type": "markdown",
   "metadata": {},
   "source": [
    "<h3>4) Instantiating the User class</h3>\n",
    "\n",
    "Now that we have created the table, let us see how to create objects of the table. We will eventually use these objects in an INSERT statement."
   ]
  },
  {
   "cell_type": "code",
   "execution_count": 4,
   "metadata": {
    "collapsed": false
   },
   "outputs": [],
   "source": [
    "customer1 = Customer(firstname = \"Jane\", lastname = \"Doe\") #note that we are NOT assigning the primary key"
   ]
  },
  {
   "cell_type": "code",
   "execution_count": 5,
   "metadata": {
    "collapsed": false
   },
   "outputs": [
    {
     "data": {
      "text/plain": [
       "'Jane'"
      ]
     },
     "execution_count": 5,
     "metadata": {},
     "output_type": "execute_result"
    }
   ],
   "source": [
    "#we can access each attribute of the object as follows:\n",
    "customer1.firstname"
   ]
  },
  {
   "cell_type": "code",
   "execution_count": 6,
   "metadata": {
    "collapsed": false
   },
   "outputs": [
    {
     "data": {
      "text/plain": [
       "'Doe'"
      ]
     },
     "execution_count": 6,
     "metadata": {},
     "output_type": "execute_result"
    }
   ],
   "source": [
    "customer1.lastname"
   ]
  },
  {
   "cell_type": "code",
   "execution_count": 7,
   "metadata": {
    "collapsed": true
   },
   "outputs": [],
   "source": [
    "customer1.id #note that this attribute is empty"
   ]
  },
  {
   "cell_type": "code",
   "execution_count": 8,
   "metadata": {
    "collapsed": false
   },
   "outputs": [
    {
     "data": {
      "text/plain": [
       "'None'"
      ]
     },
     "execution_count": 8,
     "metadata": {},
     "output_type": "execute_result"
    }
   ],
   "source": [
    "str(customer1.id)"
   ]
  },
  {
   "cell_type": "markdown",
   "metadata": {},
   "source": [
    "<h3>5) Creating a session <br></h3>\n",
    "We will now create a session. This variable will be used to talk to the database."
   ]
  },
  {
   "cell_type": "code",
   "execution_count": 9,
   "metadata": {
    "collapsed": true
   },
   "outputs": [],
   "source": [
    "from sqlalchemy.orm import sessionmaker\n",
    "Session = sessionmaker(bind=engine)"
   ]
  },
  {
   "cell_type": "markdown",
   "metadata": {},
   "source": [
    "In case you did not set up the Engine as previously mentioned, you can create the session as: <br><br>\n",
    "<center> Session = sessionmaker() <br><br> </center>\n",
    "and then configure it with the engine once it becomes available, as below: <br><br>\n",
    "<center> Session.configure(bind=engine)</center>"
   ]
  },
  {
   "cell_type": "markdown",
   "metadata": {},
   "source": [
    "The sessionmaker() creates a Session class. Whenever you want to \"talk\" to the database, you have to **instantiate** the class"
   ]
  },
  {
   "cell_type": "code",
   "execution_count": 10,
   "metadata": {
    "collapsed": true
   },
   "outputs": [],
   "source": [
    "session = Session()"
   ]
  },
  {
   "cell_type": "markdown",
   "metadata": {},
   "source": [
    "<br><h3> 6) Adding and Updating Objects </h3>\n",
    "<br><B>add()</B> in used to insert values into the table. **query()** is used for selection and updation operations."
   ]
  },
  {
   "cell_type": "code",
   "execution_count": 11,
   "metadata": {
    "collapsed": true
   },
   "outputs": [],
   "source": [
    "session.add(customer1)"
   ]
  },
  {
   "cell_type": "markdown",
   "metadata": {},
   "source": [
    "This will insert the user1 object that we previously created. However, the database will not be updated until a **flush** occurs. Flush occurs when we query the database for \"Jane Doe\". "
   ]
  },
  {
   "cell_type": "code",
   "execution_count": 12,
   "metadata": {
    "collapsed": false
   },
   "outputs": [
    {
     "name": "stdout",
     "output_type": "stream",
     "text": [
      "2017-02-17 17:37:43,238 INFO sqlalchemy.engine.base.Engine BEGIN (implicit)\n",
      "2017-02-17 17:37:43,241 INFO sqlalchemy.engine.base.Engine INSERT INTO \"Customer\" (firstname, lastname) VALUES (?, ?)\n",
      "2017-02-17 17:37:43,249 INFO sqlalchemy.engine.base.Engine ('Jane', 'Doe')\n",
      "2017-02-17 17:37:43,258 INFO sqlalchemy.engine.base.Engine SELECT \"Customer\".id AS \"Customer_id\", \"Customer\".firstname AS \"Customer_firstname\", \"Customer\".lastname AS \"Customer_lastname\" \n",
      "FROM \"Customer\"\n",
      " LIMIT ? OFFSET ?\n",
      "2017-02-17 17:37:43,262 INFO sqlalchemy.engine.base.Engine (1, 0)\n"
     ]
    },
    {
     "data": {
      "text/plain": [
       "<Customer(firstname='Jane', lastname='Doe')>"
      ]
     },
     "execution_count": 12,
     "metadata": {},
     "output_type": "execute_result"
    }
   ],
   "source": [
    "retrievedCustomer = session.query(Customer)\n",
    "retrievedCustomer.first()"
   ]
  },
  {
   "cell_type": "markdown",
   "metadata": {},
   "source": [
    "The logging clearly shows how the INSERT statement is executed **before** the SELECT statement. <br><br><br>\n",
    "To insert multiple rows into the table, add_all() is used as follows:"
   ]
  },
  {
   "cell_type": "code",
   "execution_count": 13,
   "metadata": {
    "collapsed": true
   },
   "outputs": [],
   "source": [
    "session.add_all([\n",
    "     Customer(firstname = 'Abriella', lastname = 'Peters'),\n",
    "     Customer(firstname = 'Monica', lastname = 'Geller'),\n",
    "     Customer(firstname = 'Chandler', lastname = 'Bing')])"
   ]
  },
  {
   "cell_type": "markdown",
   "metadata": {},
   "source": [
    "Say we want to change the first name for customer1."
   ]
  },
  {
   "cell_type": "code",
   "execution_count": 14,
   "metadata": {
    "collapsed": true
   },
   "outputs": [],
   "source": [
    "customer1.firstname = \"Jessica\""
   ]
  },
  {
   "cell_type": "markdown",
   "metadata": {},
   "source": [
    "As mentioned before, the data hasn't been committed to the database. If you wish to see the pending transactions:<br> **session.dirty** will tell you all the modified records that are still pending <br>\n",
    "**session.new** will tell you all the new records that haven't been inserted"
   ]
  },
  {
   "cell_type": "code",
   "execution_count": 15,
   "metadata": {
    "collapsed": false
   },
   "outputs": [
    {
     "data": {
      "text/plain": [
       "IdentitySet([<Customer(firstname='Jessica', lastname='Doe')>])"
      ]
     },
     "execution_count": 15,
     "metadata": {},
     "output_type": "execute_result"
    }
   ],
   "source": [
    "session.dirty"
   ]
  },
  {
   "cell_type": "code",
   "execution_count": 16,
   "metadata": {
    "collapsed": false
   },
   "outputs": [
    {
     "data": {
      "text/plain": [
       "IdentitySet([<Customer(firstname='Monica', lastname='Geller')>, <Customer(firstname='Abriella', lastname='Peters')>, <Customer(firstname='Chandler', lastname='Bing')>])"
      ]
     },
     "execution_count": 16,
     "metadata": {},
     "output_type": "execute_result"
    }
   ],
   "source": [
    "session.new"
   ]
  },
  {
   "cell_type": "markdown",
   "metadata": {},
   "source": [
    "Let's commit the pending transactions using session.commit"
   ]
  },
  {
   "cell_type": "code",
   "execution_count": 17,
   "metadata": {
    "collapsed": false
   },
   "outputs": [
    {
     "name": "stdout",
     "output_type": "stream",
     "text": [
      "2017-02-17 17:37:43,992 INFO sqlalchemy.engine.base.Engine UPDATE \"Customer\" SET firstname=? WHERE \"Customer\".id = ?\n",
      "2017-02-17 17:37:43,997 INFO sqlalchemy.engine.base.Engine ('Jessica', 1)\n",
      "2017-02-17 17:37:44,003 INFO sqlalchemy.engine.base.Engine INSERT INTO \"Customer\" (firstname, lastname) VALUES (?, ?)\n",
      "2017-02-17 17:37:44,008 INFO sqlalchemy.engine.base.Engine ('Abriella', 'Peters')\n",
      "2017-02-17 17:37:44,016 INFO sqlalchemy.engine.base.Engine INSERT INTO \"Customer\" (firstname, lastname) VALUES (?, ?)\n",
      "2017-02-17 17:37:44,020 INFO sqlalchemy.engine.base.Engine ('Monica', 'Geller')\n",
      "2017-02-17 17:37:44,029 INFO sqlalchemy.engine.base.Engine INSERT INTO \"Customer\" (firstname, lastname) VALUES (?, ?)\n",
      "2017-02-17 17:37:44,034 INFO sqlalchemy.engine.base.Engine ('Chandler', 'Bing')\n",
      "2017-02-17 17:37:44,041 INFO sqlalchemy.engine.base.Engine COMMIT\n"
     ]
    }
   ],
   "source": [
    "session.commit()"
   ]
  },
  {
   "cell_type": "code",
   "execution_count": 18,
   "metadata": {
    "collapsed": false
   },
   "outputs": [
    {
     "data": {
      "text/plain": [
       "IdentitySet([])"
      ]
     },
     "execution_count": 18,
     "metadata": {},
     "output_type": "execute_result"
    }
   ],
   "source": [
    "session.new #empty set"
   ]
  },
  {
   "cell_type": "code",
   "execution_count": 19,
   "metadata": {
    "collapsed": false
   },
   "outputs": [
    {
     "data": {
      "text/plain": [
       "IdentitySet([])"
      ]
     },
     "execution_count": 19,
     "metadata": {},
     "output_type": "execute_result"
    }
   ],
   "source": [
    "session.dirty #empty set"
   ]
  },
  {
   "cell_type": "markdown",
   "metadata": {},
   "source": [
    "It is also possible to **rollback** any changes made to the database. <br><br>\n",
    "Let's change the name of customer1 to Emily from Jane. Also, let's create a dummy user just to see how rollback works."
   ]
  },
  {
   "cell_type": "code",
   "execution_count": 20,
   "metadata": {
    "collapsed": true
   },
   "outputs": [],
   "source": [
    "customer1.firstname = \"Emily\""
   ]
  },
  {
   "cell_type": "code",
   "execution_count": 21,
   "metadata": {
    "collapsed": false
   },
   "outputs": [],
   "source": [
    "dummyUser = Customer(firstname = \"Joey\", lastname = \"Tribbiani\")\n",
    "session.add(dummyUser)"
   ]
  },
  {
   "cell_type": "code",
   "execution_count": 22,
   "metadata": {
    "collapsed": false
   },
   "outputs": [
    {
     "name": "stdout",
     "output_type": "stream",
     "text": [
      "2017-02-17 17:37:44,675 INFO sqlalchemy.engine.base.Engine BEGIN (implicit)\n",
      "2017-02-17 17:37:44,675 INFO sqlalchemy.engine.base.Engine SELECT \"Customer\".id AS \"Customer_id\", \"Customer\".lastname AS \"Customer_lastname\" \n",
      "FROM \"Customer\" \n",
      "WHERE \"Customer\".id = ?\n",
      "2017-02-17 17:37:44,690 INFO sqlalchemy.engine.base.Engine (1,)\n",
      "2017-02-17 17:37:44,690 INFO sqlalchemy.engine.base.Engine UPDATE \"Customer\" SET firstname=? WHERE \"Customer\".id = ?\n",
      "2017-02-17 17:37:44,690 INFO sqlalchemy.engine.base.Engine ('Emily', 1)\n",
      "2017-02-17 17:37:44,706 INFO sqlalchemy.engine.base.Engine INSERT INTO \"Customer\" (firstname, lastname) VALUES (?, ?)\n",
      "2017-02-17 17:37:44,706 INFO sqlalchemy.engine.base.Engine ('Joey', 'Tribbiani')\n",
      "2017-02-17 17:37:44,721 INFO sqlalchemy.engine.base.Engine SELECT \"Customer\".id AS \"Customer_id\", \"Customer\".firstname AS \"Customer_firstname\", \"Customer\".lastname AS \"Customer_lastname\" \n",
      "FROM \"Customer\"\n",
      "2017-02-17 17:37:44,721 INFO sqlalchemy.engine.base.Engine ()\n"
     ]
    },
    {
     "data": {
      "text/plain": [
       "[<Customer(firstname='Emily', lastname='Doe')>,\n",
       " <Customer(firstname='Abriella', lastname='Peters')>,\n",
       " <Customer(firstname='Monica', lastname='Geller')>,\n",
       " <Customer(firstname='Chandler', lastname='Bing')>,\n",
       " <Customer(firstname='Joey', lastname='Tribbiani')>]"
      ]
     },
     "execution_count": 22,
     "metadata": {},
     "output_type": "execute_result"
    }
   ],
   "source": [
    "session.query(Customer).all()"
   ]
  },
  {
   "cell_type": "markdown",
   "metadata": {},
   "source": [
    "**Note the name change and the record for the dummy user has been inserted.**"
   ]
  },
  {
   "cell_type": "code",
   "execution_count": 23,
   "metadata": {
    "collapsed": false
   },
   "outputs": [
    {
     "name": "stdout",
     "output_type": "stream",
     "text": [
      "2017-02-17 17:37:44,775 INFO sqlalchemy.engine.base.Engine ROLLBACK\n"
     ]
    }
   ],
   "source": [
    "session.rollback()"
   ]
  },
  {
   "cell_type": "code",
   "execution_count": 24,
   "metadata": {
    "collapsed": false
   },
   "outputs": [
    {
     "name": "stdout",
     "output_type": "stream",
     "text": [
      "2017-02-17 17:37:44,895 INFO sqlalchemy.engine.base.Engine BEGIN (implicit)\n",
      "2017-02-17 17:37:44,895 INFO sqlalchemy.engine.base.Engine SELECT \"Customer\".id AS \"Customer_id\", \"Customer\".firstname AS \"Customer_firstname\", \"Customer\".lastname AS \"Customer_lastname\" \n",
      "FROM \"Customer\"\n",
      "2017-02-17 17:37:44,911 INFO sqlalchemy.engine.base.Engine ()\n"
     ]
    },
    {
     "data": {
      "text/plain": [
       "[<Customer(firstname='Jessica', lastname='Doe')>,\n",
       " <Customer(firstname='Abriella', lastname='Peters')>,\n",
       " <Customer(firstname='Monica', lastname='Geller')>,\n",
       " <Customer(firstname='Chandler', lastname='Bing')>]"
      ]
     },
     "execution_count": 24,
     "metadata": {},
     "output_type": "execute_result"
    }
   ],
   "source": [
    "session.query(Customer).all()"
   ]
  },
  {
   "cell_type": "markdown",
   "metadata": {},
   "source": [
    "**All changes have been rolled back.**"
   ]
  },
  {
   "cell_type": "markdown",
   "metadata": {},
   "source": [
    "<h3>7) Querying</h3><br>\n",
    "The query() method is used to query the tables. A few examples of querying are given below:"
   ]
  },
  {
   "cell_type": "code",
   "execution_count": 25,
   "metadata": {
    "collapsed": false
   },
   "outputs": [
    {
     "name": "stdout",
     "output_type": "stream",
     "text": [
      "2017-02-17 17:37:45,007 INFO sqlalchemy.engine.base.Engine SELECT \"Customer\".id AS \"Customer_id\", \"Customer\".firstname AS \"Customer_firstname\", \"Customer\".lastname AS \"Customer_lastname\" \n",
      "FROM \"Customer\" ORDER BY \"Customer\".id\n",
      "2017-02-17 17:37:45,007 INFO sqlalchemy.engine.base.Engine ()\n",
      "Jessica Doe\n",
      "Abriella Peters\n",
      "Monica Geller\n",
      "Chandler Bing\n"
     ]
    }
   ],
   "source": [
    "for instance in session.query(Customer).order_by(Customer.id):\n",
    "     print(instance.firstname, instance.lastname)"
   ]
  },
  {
   "cell_type": "code",
   "execution_count": 26,
   "metadata": {
    "collapsed": false
   },
   "outputs": [
    {
     "name": "stdout",
     "output_type": "stream",
     "text": [
      "2017-02-17 17:37:45,144 INFO sqlalchemy.engine.base.Engine SELECT \"Customer\".firstname AS \"Customer_firstname\", \"Customer\".lastname AS \"Customer_lastname\" \n",
      "FROM \"Customer\"\n",
      "2017-02-17 17:37:45,144 INFO sqlalchemy.engine.base.Engine ()\n",
      "Jessica Doe\n",
      "Abriella Peters\n",
      "Monica Geller\n",
      "Chandler Bing\n"
     ]
    }
   ],
   "source": [
    "for firstname, lastname in session.query(Customer.firstname, Customer.lastname):\n",
    "     print(firstname, lastname)"
   ]
  },
  {
   "cell_type": "code",
   "execution_count": 39,
   "metadata": {
    "collapsed": false
   },
   "outputs": [
    {
     "name": "stdout",
     "output_type": "stream",
     "text": [
      "2017-02-17 17:45:21,445 INFO sqlalchemy.engine.base.Engine SELECT \"Customer\".id AS \"Customer_id\", \"Customer\".firstname AS \"Customer_firstname\", \"Customer\".lastname AS \"Customer_lastname\" \n",
      "FROM \"Customer\" ORDER BY \"Customer\".id\n",
      " LIMIT ? OFFSET ?\n",
      "2017-02-17 17:45:21,449 INFO sqlalchemy.engine.base.Engine (2, 1)\n",
      "<Customer(firstname='Abriella', lastname='Peters')>\n",
      "<Customer(firstname='Monica', lastname='Geller')>\n"
     ]
    }
   ],
   "source": [
    "for c in session.query(Customer).order_by(Customer.id)[1:3]: #prints 1 and 2 rows\n",
    "    print(c)"
   ]
  },
  {
   "cell_type": "code",
   "execution_count": 28,
   "metadata": {
    "collapsed": false
   },
   "outputs": [
    {
     "name": "stdout",
     "output_type": "stream",
     "text": [
      "2017-02-17 17:37:45,420 INFO sqlalchemy.engine.base.Engine SELECT \"Customer\".firstname AS \"Customer_firstname\" \n",
      "FROM \"Customer\" \n",
      "WHERE \"Customer\".lastname = ?\n",
      "2017-02-17 17:37:45,420 INFO sqlalchemy.engine.base.Engine ('Doe',)\n",
      "Jessica\n"
     ]
    }
   ],
   "source": [
    "for firstname, in session.query(Customer.firstname).filter_by(lastname = 'Doe'):\n",
    "    print(firstname)"
   ]
  },
  {
   "cell_type": "markdown",
   "metadata": {},
   "source": [
    "<h3>8) Building Relationships</h3><br>\n",
    "Let’s consider how to add a table related to Customer can be mapped and queried. Customers can make orders in the system. This implies a basic one to many association from the Customers to a new table which stores orders, which we will call Orders. Using declarative, we define this table along with its mapped class, Orders:"
   ]
  },
  {
   "cell_type": "code",
   "execution_count": 29,
   "metadata": {
    "collapsed": false
   },
   "outputs": [],
   "source": [
    "from sqlalchemy import ForeignKey\n",
    "from sqlalchemy.orm import relationship\n",
    "\n",
    "class Orders(Base):\n",
    "    __tablename__ = 'Orders'\n",
    "    id = Column(Integer, primary_key = True)\n",
    "    item = Column(String, nullable = False)\n",
    "    quantity = Column(Integer, nullable = False)\n",
    "    customerId = Column(Integer, ForeignKey('Customer.id'))\n",
    "\n",
    "    customer = relationship(\"Customer\", back_populates=\"orders\")\n",
    "\n",
    "    def __repr__(self):\n",
    "        return \"<Orders(Item = '%s', Quantity = '%s')>\" % (self.item, self.quantity)\n",
    "\n",
    "Customer.orders = relationship(\"Orders\", order_by = Orders.id, back_populates = \"customer\")"
   ]
  },
  {
   "cell_type": "markdown",
   "metadata": {},
   "source": [
    "The class Orders has a **foreign key** which indicates that the values in this column must be present as values in the remote column. "
   ]
  },
  {
   "cell_type": "code",
   "execution_count": 30,
   "metadata": {
    "collapsed": false
   },
   "outputs": [
    {
     "name": "stdout",
     "output_type": "stream",
     "text": [
      "2017-02-17 17:37:45,700 INFO sqlalchemy.engine.base.Engine PRAGMA table_info(\"Customer\")\n",
      "2017-02-17 17:37:45,715 INFO sqlalchemy.engine.base.Engine ()\n",
      "2017-02-17 17:37:45,715 INFO sqlalchemy.engine.base.Engine PRAGMA table_info(\"Orders\")\n",
      "2017-02-17 17:37:45,715 INFO sqlalchemy.engine.base.Engine ()\n",
      "2017-02-17 17:37:45,735 INFO sqlalchemy.engine.base.Engine \n",
      "CREATE TABLE \"Orders\" (\n",
      "\tid INTEGER NOT NULL, \n",
      "\titem VARCHAR NOT NULL, \n",
      "\tquantity INTEGER NOT NULL, \n",
      "\t\"customerId\" INTEGER, \n",
      "\tPRIMARY KEY (id), \n",
      "\tFOREIGN KEY(\"customerId\") REFERENCES \"Customer\" (id)\n",
      ")\n",
      "\n",
      "\n",
      "2017-02-17 17:37:45,741 INFO sqlalchemy.engine.base.Engine ()\n",
      "2017-02-17 17:37:45,744 INFO sqlalchemy.engine.base.Engine COMMIT\n"
     ]
    }
   ],
   "source": [
    "Base.metadata.create_all(engine)"
   ]
  },
  {
   "cell_type": "code",
   "execution_count": 31,
   "metadata": {
    "collapsed": false
   },
   "outputs": [
    {
     "data": {
      "text/plain": [
       "[]"
      ]
     },
     "execution_count": 31,
     "metadata": {},
     "output_type": "execute_result"
    }
   ],
   "source": [
    "#let us create a customer object\n",
    "customer2 = Customer(firstname = \"Janice\", lastname = \"Hosenstein\")\n",
    "#note the orders attribute\n",
    "customer2.orders"
   ]
  },
  {
   "cell_type": "code",
   "execution_count": 32,
   "metadata": {
    "collapsed": false
   },
   "outputs": [
    {
     "data": {
      "text/plain": [
       "[<Orders(Item = 'Fan', Quantity = '2')>,\n",
       " <Orders(Item = 'Light', Quantity = '1')>]"
      ]
     },
     "execution_count": 32,
     "metadata": {},
     "output_type": "execute_result"
    }
   ],
   "source": [
    "#let's fill a few orders for this customer\n",
    "customer2.orders = [Orders(item = \"Fan\", quantity = 2), Orders(item = \"Light\", quantity = 1)]\n",
    "customer2.orders"
   ]
  },
  {
   "cell_type": "code",
   "execution_count": 33,
   "metadata": {
    "collapsed": false
   },
   "outputs": [
    {
     "name": "stdout",
     "output_type": "stream",
     "text": [
      "2017-02-17 17:37:46,186 INFO sqlalchemy.engine.base.Engine INSERT INTO \"Customer\" (firstname, lastname) VALUES (?, ?)\n",
      "2017-02-17 17:37:46,186 INFO sqlalchemy.engine.base.Engine ('Janice', 'Hosenstein')\n",
      "2017-02-17 17:37:46,202 INFO sqlalchemy.engine.base.Engine INSERT INTO \"Orders\" (item, quantity, \"customerId\") VALUES (?, ?, ?)\n",
      "2017-02-17 17:37:46,202 INFO sqlalchemy.engine.base.Engine ('Fan', 2, 5)\n",
      "2017-02-17 17:37:46,220 INFO sqlalchemy.engine.base.Engine INSERT INTO \"Orders\" (item, quantity, \"customerId\") VALUES (?, ?, ?)\n",
      "2017-02-17 17:37:46,224 INFO sqlalchemy.engine.base.Engine ('Light', 1, 5)\n",
      "2017-02-17 17:37:46,228 INFO sqlalchemy.engine.base.Engine SELECT \"Orders\".id AS \"Orders_id\", \"Orders\".item AS \"Orders_item\", \"Orders\".quantity AS \"Orders_quantity\", \"Orders\".\"customerId\" AS \"Orders_customerId\" \n",
      "FROM \"Orders\"\n",
      "2017-02-17 17:37:46,233 INFO sqlalchemy.engine.base.Engine ()\n"
     ]
    },
    {
     "data": {
      "text/plain": [
       "[<Orders(Item = 'Fan', Quantity = '2')>,\n",
       " <Orders(Item = 'Light', Quantity = '1')>]"
      ]
     },
     "execution_count": 33,
     "metadata": {},
     "output_type": "execute_result"
    }
   ],
   "source": [
    "session.add(customer2)\n",
    "session.query(Orders).all() "
   ]
  },
  {
   "cell_type": "markdown",
   "metadata": {},
   "source": [
    "As evident from the logging data, entries for the 2 orders have been made in the Orders table as well. This is the fucntion of the **back_populate** attribute in the **relationship()** method.<br><br><br> \n",
    "\n",
    "<h3>9) Querying with Joins</h3><br>\n",
    "For an inner join, query.join() can be used. The join condition will automatically be derived if there is only one foreign key in both the tables. "
   ]
  },
  {
   "cell_type": "code",
   "execution_count": 34,
   "metadata": {
    "collapsed": false
   },
   "outputs": [
    {
     "name": "stdout",
     "output_type": "stream",
     "text": [
      "2017-02-17 17:42:58,945 INFO sqlalchemy.engine.base.Engine SELECT \"Customer\".id AS \"Customer_id\", \"Customer\".firstname AS \"Customer_firstname\", \"Customer\".lastname AS \"Customer_lastname\" \n",
      "FROM \"Customer\" JOIN \"Orders\" ON \"Customer\".id = \"Orders\".\"customerId\"\n",
      "2017-02-17 17:42:58,953 INFO sqlalchemy.engine.base.Engine ()\n"
     ]
    },
    {
     "data": {
      "text/plain": [
       "[<Customer(firstname='Janice', lastname='Hosenstein')>]"
      ]
     },
     "execution_count": 34,
     "metadata": {},
     "output_type": "execute_result"
    }
   ],
   "source": [
    "session.query(Customer).join(Orders).all()"
   ]
  },
  {
   "cell_type": "code",
   "execution_count": 35,
   "metadata": {
    "collapsed": false
   },
   "outputs": [
    {
     "name": "stdout",
     "output_type": "stream",
     "text": [
      "2017-02-17 17:43:26,349 INFO sqlalchemy.engine.base.Engine SELECT \"Orders\".id AS \"Orders_id\", \"Orders\".item AS \"Orders_item\", \"Orders\".quantity AS \"Orders_quantity\", \"Orders\".\"customerId\" AS \"Orders_customerId\" \n",
      "FROM \"Orders\" JOIN \"Customer\" ON \"Customer\".id = \"Orders\".\"customerId\"\n",
      "2017-02-17 17:43:26,357 INFO sqlalchemy.engine.base.Engine ()\n"
     ]
    },
    {
     "data": {
      "text/plain": [
       "[<Orders(Item = 'Fan', Quantity = '2')>,\n",
       " <Orders(Item = 'Light', Quantity = '1')>]"
      ]
     },
     "execution_count": 35,
     "metadata": {},
     "output_type": "execute_result"
    }
   ],
   "source": [
    "session.query(Orders).join(Customer).all()"
   ]
  },
  {
   "cell_type": "code",
   "execution_count": 38,
   "metadata": {
    "collapsed": false
   },
   "outputs": [
    {
     "name": "stdout",
     "output_type": "stream",
     "text": [
      "2017-02-17 17:44:59,502 INFO sqlalchemy.engine.base.Engine SELECT \"Customer\".id AS \"Customer_id\", \"Customer\".firstname AS \"Customer_firstname\", \"Customer\".lastname AS \"Customer_lastname\", \"Orders\".id AS \"Orders_id\", \"Orders\".item AS \"Orders_item\", \"Orders\".quantity AS \"Orders_quantity\", \"Orders\".\"customerId\" AS \"Orders_customerId\" \n",
      "FROM \"Customer\", \"Orders\" \n",
      "WHERE \"Customer\".id = \"Orders\".\"customerId\"\n",
      "2017-02-17 17:44:59,512 INFO sqlalchemy.engine.base.Engine ()\n",
      "<Customer(firstname='Janice', lastname='Hosenstein')> <Orders(Item = 'Fan', Quantity = '2')>\n",
      "<Customer(firstname='Janice', lastname='Hosenstein')> <Orders(Item = 'Light', Quantity = '1')>\n"
     ]
    }
   ],
   "source": [
    "for c, o in session.query(Customer, Orders).filter(Customer.id == Orders.customerId).all():\n",
    "    print(c, o)"
   ]
  },
  {
   "cell_type": "markdown",
   "metadata": {},
   "source": [
    "<br>However, if there are no foreign keys or there are several foreign keys, we will have to **explicitly mention each join condition.**"
   ]
  },
  {
   "cell_type": "code",
   "execution_count": 42,
   "metadata": {
    "collapsed": false
   },
   "outputs": [
    {
     "name": "stdout",
     "output_type": "stream",
     "text": [
      "2017-02-17 17:47:59,922 INFO sqlalchemy.engine.base.Engine SELECT \"Customer\".id AS \"Customer_id\", \"Customer\".firstname AS \"Customer_firstname\", \"Customer\".lastname AS \"Customer_lastname\" \n",
      "FROM \"Customer\" JOIN \"Orders\" ON \"Customer\".id = \"Orders\".\"customerId\"\n",
      "2017-02-17 17:47:59,930 INFO sqlalchemy.engine.base.Engine ()\n"
     ]
    },
    {
     "data": {
      "text/plain": [
       "[<Customer(firstname='Janice', lastname='Hosenstein')>]"
      ]
     },
     "execution_count": 42,
     "metadata": {},
     "output_type": "execute_result"
    }
   ],
   "source": [
    "session.query(Customer).join(Orders, Customer.id == Orders.customerId).all()"
   ]
  },
  {
   "cell_type": "markdown",
   "metadata": {},
   "source": [
    "<br><h3>10)Deleting Records</h3><br>\n",
    "\n"
   ]
  },
  {
   "cell_type": "code",
   "execution_count": 45,
   "metadata": {
    "collapsed": false
   },
   "outputs": [
    {
     "name": "stdout",
     "output_type": "stream",
     "text": [
      "2017-02-17 17:53:14,298 INFO sqlalchemy.engine.base.Engine SELECT \"Orders\".id AS \"Orders_id\", \"Orders\".item AS \"Orders_item\", \"Orders\".quantity AS \"Orders_quantity\", \"Orders\".\"customerId\" AS \"Orders_customerId\" \n",
      "FROM \"Orders\" \n",
      "WHERE ? = \"Orders\".\"customerId\" ORDER BY \"Orders\".id\n",
      "2017-02-17 17:53:14,306 INFO sqlalchemy.engine.base.Engine (1,)\n",
      "2017-02-17 17:53:14,314 INFO sqlalchemy.engine.base.Engine DELETE FROM \"Customer\" WHERE \"Customer\".id = ?\n",
      "2017-02-17 17:53:14,318 INFO sqlalchemy.engine.base.Engine (1,)\n",
      "2017-02-17 17:53:14,322 INFO sqlalchemy.engine.base.Engine SELECT \"Customer\".id AS \"Customer_id\", \"Customer\".firstname AS \"Customer_firstname\", \"Customer\".lastname AS \"Customer_lastname\" \n",
      "FROM \"Customer\"\n",
      "2017-02-17 17:53:14,326 INFO sqlalchemy.engine.base.Engine ()\n"
     ]
    },
    {
     "data": {
      "text/plain": [
       "[<Customer(firstname='Abriella', lastname='Peters')>,\n",
       " <Customer(firstname='Monica', lastname='Geller')>,\n",
       " <Customer(firstname='Chandler', lastname='Bing')>,\n",
       " <Customer(firstname='Janice', lastname='Hosenstein')>]"
      ]
     },
     "execution_count": 45,
     "metadata": {},
     "output_type": "execute_result"
    }
   ],
   "source": [
    "session.delete(customer1)\n",
    "session.query(Customer).all()"
   ]
  }
 ],
 "metadata": {
  "anaconda-cloud": {},
  "kernelspec": {
   "display_name": "Python [conda root]",
   "language": "python",
   "name": "conda-root-py"
  },
  "language_info": {
   "codemirror_mode": {
    "name": "ipython",
    "version": 3
   },
   "file_extension": ".py",
   "mimetype": "text/x-python",
   "name": "python",
   "nbconvert_exporter": "python",
   "pygments_lexer": "ipython3",
   "version": "3.5.2"
  }
 },
 "nbformat": 4,
 "nbformat_minor": 1
}
