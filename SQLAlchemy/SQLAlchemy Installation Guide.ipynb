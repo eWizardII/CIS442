{
 "cells": [
  {
   "cell_type": "markdown",
   "metadata": {},
   "source": [
    "## SQLAlchemy Installation Guide\n"
   ]
  },
  {
   "cell_type": "markdown",
   "metadata": {},
   "source": [
    "### Supported Platforms:\n",
    "\n",
    "SQLAlchemy has been tested against the following platforms:\n",
    "\n",
    "•\tPython 2.6 is the minimum Python version supported, through the 2.xx series\n",
    "\n",
    "•\tPython version 3, throughout all 3.xx series\n",
    "\n",
    "•\tPypy 2.1 or greater\n",
    "\n",
    "Platforms that don’t currently have support include Jython and IronPython. Jython has been supported in the past and may be supported in future releases as well, depending on the state of Jython itself.\n"
   ]
  },
  {
   "cell_type": "markdown",
   "metadata": {},
   "source": [
    "### Getting Started:\n",
    "\n",
    "Before we install SQLAlchemy, let's make sure you have the latest version of setuptools, which can make your life a lot easier. At a command prompt, run:\n",
    "\n",
    "easy_install --help\n",
    "\n",
    "If you get a list of commands and options, great: setuptools is installed and working on your system, and you can skip to the next paragraph. If you get an error message like \"command not found\", then you'll need to install setuptools. \n"
   ]
  },
  {
   "cell_type": "markdown",
   "metadata": {},
   "source": [
    "### Supported Installation Methods:\n",
    "\n",
    "SQLAlchemy installation is via standard Python methodologies that are based on setuptools, either by referring to setup.py directly or by using pip or other setuptools-compatible approaches.\n",
    "Note: Setuptools is now required by the setup.py file; plain distutils installs are no longer supported.\n",
    "\n",
    "**Install via pip:**\n",
    "\n",
    "When pip is available, the distribution can be downloaded from Pypi and installed in one step:\n",
    "\n",
    "pip install SQLAlchemy\n",
    "\n",
    "This command will download the latest released version of SQLAlchemy from the Python Cheese Shop and install it to your system.\n",
    "\n",
    "In order to install the latest prerelease version, such as 1.1.0b1, pip requires that the --pre flag be used:\n",
    "\n",
    "pip install --pre SQLAlchemy\n",
    "\n",
    "Where above, if the most recent version is a prerelease, it will be installed instead of the latest released version.\n",
    "\n",
    "**Installing using setup.py:**\n",
    "\n",
    "Otherwise, you can install from the distribution using the \n",
    "\n",
    "setup.py script\n",
    "\n",
    "**Installing the C Extensions:**\n",
    "\n",
    "SQLAlchemy includes C extensions which provide an extra speed boost for dealing with result sets. The extensions are supported on both the 2.xx and 3.xx series of Python.\n",
    "\n",
    "setup.py will automatically build the extensions if an appropriate platform is detected. If the build of the C extensions fails due to a missing compiler or other issue, the setup process will output a warning message and re-run the build without the C extensions upon completion, reporting final status.\n",
    "\n",
    "To run the build/install without even attempting to compile the C extensions, the DISABLE_SQLALCHEMY_CEXT environment variable may be specified. The use case for this is either for special testing circumstances, or in the rare case of compatibility/build issues not overcome by the usual “rebuild” mechanism:\n",
    "\n",
    "export DISABLE_SQLALCHEMY_CEXT=1; python setup.py install\n",
    "\n",
    "**Installing on Python 3:**\n",
    "\n",
    "SQLAlchemy runs directly on Python 2 or Python 3, and can be installed in either environment without any adjustments or code conversion.\n",
    "\n",
    "**Installing a Database API:**\n",
    "\n",
    "SQLAlchemy is designed to operate with a DBAPI implementation built for a particular database, and includes support for the most popular databases. The individual database sections in Dialects enumerate the available DBAPIs for each database, including external links.\n",
    "\n",
    "**Checking the Installed SQLAlchemy Version:**\n",
    "\n",
    "This documentation covers SQLAlchemy version 1.1. If you’re working on a system that already has SQLAlchemy installed, check the version from your Python prompt like this:\n"
   ]
  },
  {
   "cell_type": "code",
   "execution_count": 3,
   "metadata": {
    "collapsed": false
   },
   "outputs": [],
   "source": [
    "import sqlalchemy"
   ]
  },
  {
   "cell_type": "markdown",
   "metadata": {},
   "source": [
    "### OS Specific Installations: \n",
    "\n",
    "**Installing SQLAlchemy on Windows:**\n",
    "\n",
    "Before installing SQLAlchemy on Windows, you need to install Python using its Windows installer. \n",
    "\n",
    "You can download one of Python's Windows MSI installer at Python's release page. You can install it by double clicking the .msi file.\n",
    "\n",
    "After you have installed Python on your Windows system, you can download the source code of SQLAlchemy from SQLAlchemy Download Page and install it using its setup.py script.\n"
   ]
  },
  {
   "cell_type": "code",
   "execution_count": null,
   "metadata": {
    "collapsed": true
   },
   "outputs": [],
   "source": [
    "#C:\\> C:\\Python27\\python.exe .\\setup.py install\n",
    "\n",
    "running install\n",
    "\n",
    "running build\n",
    "\n",
    "running build_py\n",
    "\n",
    "   ......\n",
    "   \n",
    "Plain-Python build succeeded."
   ]
  },
  {
   "cell_type": "markdown",
   "metadata": {},
   "source": [
    "**Installing SQLAlchemy on Linux:**\n",
    "\n",
    "It's recommended that we create a virtualenv before we install SQLAlchemy by doing the following: \n"
   ]
  },
  {
   "cell_type": "code",
   "execution_count": null,
   "metadata": {
    "collapsed": true
   },
   "outputs": [],
   "source": [
    "$ virtualenv sqlalchemy-workspace\n",
    "\n",
    "New python executable in sqlalchemy-workspace/bin/python\n",
    "\n",
    "Installing distribute....................done.\n",
    "\n",
    "Installing pip...............done\n",
    "\n",
    "$ cd sqlalchemy-workspace\n",
    "\n",
    "$ source bin/activate"
   ]
  },
  {
   "cell_type": "markdown",
   "metadata": {},
   "source": [
    "Easiest way to install SQLAlchemy is to use Python's package manager pip:"
   ]
  },
  {
   "cell_type": "code",
   "execution_count": null,
   "metadata": {
    "collapsed": true
   },
   "outputs": [],
   "source": [
    "$ pip install sqlalchemy\n",
    "\n",
    "Downloading/unpacking sqlalchemy\n",
    "\n",
    "  Downloading SQLAlchemy-0.8.1.tar.gz (3.8Mb): 3.8Mb downloaded\n",
    "  \n",
    "  Running setup.py egg_info for package sqlalchemy\n",
    "    \n",
    "    ......\n",
    " \n",
    "    no previously-included directories found matching 'doc/build/output'\n",
    "    \n",
    "Successfully installed sqlalchemy\n",
    "\n",
    "Cleaning up..."
   ]
  },
  {
   "cell_type": "markdown",
   "metadata": {},
   "source": [
    "**Installing SQLAlchemy on Mac OS X:**\n",
    "\n",
    "Installing SQLAlchemy on Mac OS X is relatively the same as Linux. Once you have created a Python virtualenv following the same steps as Linux, you can install SQLAlchemy using the following commands:\n"
   ]
  },
  {
   "cell_type": "code",
   "execution_count": null,
   "metadata": {
    "collapsed": true
   },
   "outputs": [],
   "source": [
    "$ virtualenv sqlalchemy-workspace\n",
    "\n",
    "New python executable in sqlalchemy-workspace/bin/python\n",
    "\n",
    "Installing setuptools............done.\n",
    "\n",
    "Installing pip...............done.\n",
    "\n",
    "$ cd sqlalchemy-workspace\n",
    "\n",
    "$ source bin/activate\n",
    "\n",
    "$ pip install sqlalchemy\n",
    "\n",
    "Downloading/unpacking sqlalchemy\n",
    "\n",
    "  Downloading SQLAlchemy-0.8.2.tar.gz (3.8MB): 3.8MB downloaded\n",
    "  \n",
    "  Running setup.py egg_info for package sqlalchemy\n",
    " \n",
    "  ......\n",
    " \n",
    "    no previously-included directories found matching 'doc/build/output'\n",
    "    \n",
    "Successfully installed sqlalchemy\n",
    "\n",
    "Cleaning up..."
   ]
  },
  {
   "cell_type": "markdown",
   "metadata": {},
   "source": [
    "You have now successfully installed SQLAlchemy. \n",
    "\n",
    "### SQL away!"
   ]
  }
 ],
 "metadata": {
  "kernelspec": {
   "display_name": "Python [conda root]",
   "language": "python",
   "name": "conda-root-py"
  },
  "language_info": {
   "codemirror_mode": {
    "name": "ipython",
    "version": 3
   },
   "file_extension": ".py",
   "mimetype": "text/x-python",
   "name": "python",
   "nbconvert_exporter": "python",
   "pygments_lexer": "ipython3",
   "version": "3.5.2"
  }
 },
 "nbformat": 4,
 "nbformat_minor": 1
}
