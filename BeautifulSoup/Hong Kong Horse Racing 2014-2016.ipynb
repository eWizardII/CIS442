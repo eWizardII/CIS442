{
 "cells": [
  {
   "cell_type": "markdown",
   "metadata": {},
   "source": [
    "# Part I : Exploratory Analysis"
   ]
  },
  {
   "cell_type": "code",
   "execution_count": 1,
   "metadata": {
    "collapsed": false
   },
   "outputs": [],
   "source": [
    "import numpy as np\n",
    "import pandas as pd\n",
    "import matplotlib.pyplot as plt\n",
    "import seaborn as sns\n",
    "from sklearn import tree\n",
    "from sklearn.model_selection import train_test_split\n",
    "from sklearn.model_selection import cross_val_score\n",
    "from sklearn.ensemble import RandomForestClassifier\n",
    "from sklearn.ensemble import AdaBoostClassifier\n",
    "from sklearn import preprocessing\n",
    "%matplotlib inline"
   ]
  },
  {
   "cell_type": "code",
   "execution_count": 2,
   "metadata": {
    "collapsed": false
   },
   "outputs": [],
   "source": [
    "df1=pd.read_csv('race-result-horse.csv.zip')\n",
    "# drop horse_name, since we have horse_id as reference. Redadant column\n",
    "df1=df1.drop('horse_name',axis=1)\n",
    "\n",
    "\n",
    "df2=pd.read_csv('race-result-race.csv.zip')\n",
    "# drop src, useless column\n",
    "df2=df2.drop('src',axis=1)"
   ]
  },
  {
   "cell_type": "code",
   "execution_count": 3,
   "metadata": {
    "collapsed": false
   },
   "outputs": [
    {
     "data": {
      "text/html": [
       "<div>\n",
       "<table border=\"1\" class=\"dataframe\">\n",
       "  <thead>\n",
       "    <tr style=\"text-align: right;\">\n",
       "      <th></th>\n",
       "      <th>finishing_position</th>\n",
       "      <th>horse_number</th>\n",
       "      <th>horse_id</th>\n",
       "      <th>jockey</th>\n",
       "      <th>trainer</th>\n",
       "      <th>actual_weight</th>\n",
       "      <th>declared_horse_weight</th>\n",
       "      <th>draw</th>\n",
       "      <th>length_behind_winner</th>\n",
       "      <th>running_position_1</th>\n",
       "      <th>running_position_2</th>\n",
       "      <th>running_position_3</th>\n",
       "      <th>running_position_4</th>\n",
       "      <th>finish_time</th>\n",
       "      <th>win_odds</th>\n",
       "      <th>running_position_5</th>\n",
       "      <th>running_position_6</th>\n",
       "      <th>race_id</th>\n",
       "    </tr>\n",
       "  </thead>\n",
       "  <tbody>\n",
       "    <tr>\n",
       "      <th>0</th>\n",
       "      <td>1</td>\n",
       "      <td>1.0</td>\n",
       "      <td>K019</td>\n",
       "      <td>B Prebble</td>\n",
       "      <td>D Cruz</td>\n",
       "      <td>133.0</td>\n",
       "      <td>1032.0</td>\n",
       "      <td>1.0</td>\n",
       "      <td>-</td>\n",
       "      <td>1.0</td>\n",
       "      <td>2.0</td>\n",
       "      <td>2.0</td>\n",
       "      <td>1.0</td>\n",
       "      <td>1.22.33</td>\n",
       "      <td>3.8</td>\n",
       "      <td>NaN</td>\n",
       "      <td>NaN</td>\n",
       "      <td>2014-001</td>\n",
       "    </tr>\n",
       "    <tr>\n",
       "      <th>1</th>\n",
       "      <td>2</td>\n",
       "      <td>2.0</td>\n",
       "      <td>S070</td>\n",
       "      <td>D Whyte</td>\n",
       "      <td>D E Ferraris</td>\n",
       "      <td>133.0</td>\n",
       "      <td>1075.0</td>\n",
       "      <td>13.0</td>\n",
       "      <td>2</td>\n",
       "      <td>8.0</td>\n",
       "      <td>9.0</td>\n",
       "      <td>9.0</td>\n",
       "      <td>2.0</td>\n",
       "      <td>1.22.65</td>\n",
       "      <td>8.0</td>\n",
       "      <td>NaN</td>\n",
       "      <td>NaN</td>\n",
       "      <td>2014-001</td>\n",
       "    </tr>\n",
       "  </tbody>\n",
       "</table>\n",
       "</div>"
      ],
      "text/plain": [
       "  finishing_position  horse_number horse_id     jockey       trainer  \\\n",
       "0                  1           1.0     K019  B Prebble        D Cruz   \n",
       "1                  2           2.0     S070    D Whyte  D E Ferraris   \n",
       "\n",
       "   actual_weight  declared_horse_weight  draw length_behind_winner  \\\n",
       "0          133.0                 1032.0   1.0                    -   \n",
       "1          133.0                 1075.0  13.0                    2   \n",
       "\n",
       "   running_position_1  running_position_2  running_position_3  \\\n",
       "0                 1.0                 2.0                 2.0   \n",
       "1                 8.0                 9.0                 9.0   \n",
       "\n",
       "   running_position_4 finish_time  win_odds  running_position_5  \\\n",
       "0                 1.0     1.22.33       3.8                 NaN   \n",
       "1                 2.0     1.22.65       8.0                 NaN   \n",
       "\n",
       "   running_position_6   race_id  \n",
       "0                 NaN  2014-001  \n",
       "1                 NaN  2014-001  "
      ]
     },
     "execution_count": 3,
     "metadata": {},
     "output_type": "execute_result"
    }
   ],
   "source": [
    "df1.head(2)"
   ]
  },
  {
   "cell_type": "code",
   "execution_count": 4,
   "metadata": {
    "collapsed": false
   },
   "outputs": [
    {
     "data": {
      "text/plain": [
       "(1561,)"
      ]
     },
     "execution_count": 4,
     "metadata": {},
     "output_type": "execute_result"
    }
   ],
   "source": [
    "# This dataset contains in total 1561 different races\n",
    "df1.race_id.unique().shape"
   ]
  },
  {
   "cell_type": "code",
   "execution_count": 5,
   "metadata": {
    "collapsed": false
   },
   "outputs": [
    {
     "data": {
      "text/plain": [
       "(88,)"
      ]
     },
     "execution_count": 5,
     "metadata": {},
     "output_type": "execute_result"
    }
   ],
   "source": [
    "# There are in total 88 different jockeys\n",
    "df1.jockey.unique().shape"
   ]
  },
  {
   "cell_type": "code",
   "execution_count": 6,
   "metadata": {
    "collapsed": false
   },
   "outputs": [
    {
     "data": {
      "text/plain": [
       "(77,)"
      ]
     },
     "execution_count": 6,
     "metadata": {},
     "output_type": "execute_result"
    }
   ],
   "source": [
    "# There are in total 77 different trainers\n",
    "df1.trainer.unique().shape"
   ]
  },
  {
   "cell_type": "code",
   "execution_count": 7,
   "metadata": {
    "collapsed": false
   },
   "outputs": [
    {
     "data": {
      "text/plain": [
       "(1747,)"
      ]
     },
     "execution_count": 7,
     "metadata": {},
     "output_type": "execute_result"
    }
   ],
   "source": [
    "# There are in total 1747 different horses\n",
    "df1.horse_id.unique().shape"
   ]
  },
  {
   "cell_type": "markdown",
   "metadata": {},
   "source": [
    "## Out of 1561 races, what is the possibility that horse_number==1, and draw is also ==1?"
   ]
  },
  {
   "cell_type": "code",
   "execution_count": 8,
   "metadata": {
    "collapsed": false
   },
   "outputs": [
    {
     "data": {
      "text/html": [
       "<div>\n",
       "<table border=\"1\" class=\"dataframe\">\n",
       "  <thead>\n",
       "    <tr style=\"text-align: right;\">\n",
       "      <th></th>\n",
       "      <th>finishing_position</th>\n",
       "      <th>horse_number</th>\n",
       "      <th>horse_id</th>\n",
       "      <th>jockey</th>\n",
       "      <th>trainer</th>\n",
       "      <th>actual_weight</th>\n",
       "      <th>declared_horse_weight</th>\n",
       "      <th>draw</th>\n",
       "      <th>length_behind_winner</th>\n",
       "      <th>running_position_1</th>\n",
       "      <th>running_position_2</th>\n",
       "      <th>running_position_3</th>\n",
       "      <th>running_position_4</th>\n",
       "      <th>finish_time</th>\n",
       "      <th>win_odds</th>\n",
       "      <th>running_position_5</th>\n",
       "      <th>running_position_6</th>\n",
       "      <th>race_id</th>\n",
       "    </tr>\n",
       "  </thead>\n",
       "  <tbody>\n",
       "    <tr>\n",
       "      <th>0</th>\n",
       "      <td>1</td>\n",
       "      <td>1.0</td>\n",
       "      <td>K019</td>\n",
       "      <td>B Prebble</td>\n",
       "      <td>D Cruz</td>\n",
       "      <td>133.0</td>\n",
       "      <td>1032.0</td>\n",
       "      <td>1.0</td>\n",
       "      <td>-</td>\n",
       "      <td>1.0</td>\n",
       "      <td>2.0</td>\n",
       "      <td>2.0</td>\n",
       "      <td>1.0</td>\n",
       "      <td>1.22.33</td>\n",
       "      <td>3.8</td>\n",
       "      <td>NaN</td>\n",
       "      <td>NaN</td>\n",
       "      <td>2014-001</td>\n",
       "    </tr>\n",
       "    <tr>\n",
       "      <th>133</th>\n",
       "      <td>13</td>\n",
       "      <td>1.0</td>\n",
       "      <td>N324</td>\n",
       "      <td>B Prebble</td>\n",
       "      <td>J Size</td>\n",
       "      <td>133.0</td>\n",
       "      <td>1211.0</td>\n",
       "      <td>1.0</td>\n",
       "      <td>7</td>\n",
       "      <td>10.0</td>\n",
       "      <td>11.0</td>\n",
       "      <td>13.0</td>\n",
       "      <td>NaN</td>\n",
       "      <td>0.56.90</td>\n",
       "      <td>37.0</td>\n",
       "      <td>NaN</td>\n",
       "      <td>NaN</td>\n",
       "      <td>2014-009</td>\n",
       "    </tr>\n",
       "    <tr>\n",
       "      <th>210</th>\n",
       "      <td>7</td>\n",
       "      <td>1.0</td>\n",
       "      <td>P301</td>\n",
       "      <td>A Suborics</td>\n",
       "      <td>A S Cruz</td>\n",
       "      <td>133.0</td>\n",
       "      <td>1183.0</td>\n",
       "      <td>1.0</td>\n",
       "      <td>5</td>\n",
       "      <td>2.0</td>\n",
       "      <td>3.0</td>\n",
       "      <td>7.0</td>\n",
       "      <td>NaN</td>\n",
       "      <td>0.56.88</td>\n",
       "      <td>31.0</td>\n",
       "      <td>NaN</td>\n",
       "      <td>NaN</td>\n",
       "      <td>2014-017</td>\n",
       "    </tr>\n",
       "    <tr>\n",
       "      <th>405</th>\n",
       "      <td>2</td>\n",
       "      <td>1.0</td>\n",
       "      <td>P425</td>\n",
       "      <td>J Moreira</td>\n",
       "      <td>S Woods</td>\n",
       "      <td>133.0</td>\n",
       "      <td>1100.0</td>\n",
       "      <td>1.0</td>\n",
       "      <td>N</td>\n",
       "      <td>7.0</td>\n",
       "      <td>8.0</td>\n",
       "      <td>9.0</td>\n",
       "      <td>2.0</td>\n",
       "      <td>1.40.67</td>\n",
       "      <td>2.9</td>\n",
       "      <td>NaN</td>\n",
       "      <td>NaN</td>\n",
       "      <td>2014-034</td>\n",
       "    </tr>\n",
       "    <tr>\n",
       "      <th>446</th>\n",
       "      <td>9</td>\n",
       "      <td>1.0</td>\n",
       "      <td>P082</td>\n",
       "      <td>K C Ng</td>\n",
       "      <td>C H Yip</td>\n",
       "      <td>128.0</td>\n",
       "      <td>1052.0</td>\n",
       "      <td>1.0</td>\n",
       "      <td>3-3/4</td>\n",
       "      <td>10.0</td>\n",
       "      <td>13.0</td>\n",
       "      <td>9.0</td>\n",
       "      <td>NaN</td>\n",
       "      <td>0.56.99</td>\n",
       "      <td>30.0</td>\n",
       "      <td>NaN</td>\n",
       "      <td>NaN</td>\n",
       "      <td>2014-037</td>\n",
       "    </tr>\n",
       "    <tr>\n",
       "      <th>481</th>\n",
       "      <td>6</td>\n",
       "      <td>1.0</td>\n",
       "      <td>M391</td>\n",
       "      <td>D Whyte</td>\n",
       "      <td>C H Yip</td>\n",
       "      <td>131.0</td>\n",
       "      <td>1113.0</td>\n",
       "      <td>1.0</td>\n",
       "      <td>2</td>\n",
       "      <td>9.0</td>\n",
       "      <td>7.0</td>\n",
       "      <td>7.0</td>\n",
       "      <td>6.0</td>\n",
       "      <td>1.35.48</td>\n",
       "      <td>9.5</td>\n",
       "      <td>NaN</td>\n",
       "      <td>NaN</td>\n",
       "      <td>2014-039</td>\n",
       "    </tr>\n",
       "    <tr>\n",
       "      <th>563</th>\n",
       "      <td>9</td>\n",
       "      <td>1.0</td>\n",
       "      <td>S221</td>\n",
       "      <td>M Chadwick</td>\n",
       "      <td>A S Cruz</td>\n",
       "      <td>133.0</td>\n",
       "      <td>1087.0</td>\n",
       "      <td>1.0</td>\n",
       "      <td>3-3/4</td>\n",
       "      <td>5.0</td>\n",
       "      <td>7.0</td>\n",
       "      <td>8.0</td>\n",
       "      <td>9.0</td>\n",
       "      <td>1.35.06</td>\n",
       "      <td>9.2</td>\n",
       "      <td>NaN</td>\n",
       "      <td>NaN</td>\n",
       "      <td>2014-045</td>\n",
       "    </tr>\n",
       "    <tr>\n",
       "      <th>610</th>\n",
       "      <td>1</td>\n",
       "      <td>1.0</td>\n",
       "      <td>S070</td>\n",
       "      <td>D Whyte</td>\n",
       "      <td>D E Ferraris</td>\n",
       "      <td>133.0</td>\n",
       "      <td>1074.0</td>\n",
       "      <td>1.0</td>\n",
       "      <td>-</td>\n",
       "      <td>9.0</td>\n",
       "      <td>7.0</td>\n",
       "      <td>6.0</td>\n",
       "      <td>1.0</td>\n",
       "      <td>1.23.41</td>\n",
       "      <td>3.1</td>\n",
       "      <td>NaN</td>\n",
       "      <td>NaN</td>\n",
       "      <td>2014-050</td>\n",
       "    </tr>\n",
       "    <tr>\n",
       "      <th>852</th>\n",
       "      <td>2</td>\n",
       "      <td>1.0</td>\n",
       "      <td>N111</td>\n",
       "      <td>Z Purton</td>\n",
       "      <td>P O'Sullivan</td>\n",
       "      <td>133.0</td>\n",
       "      <td>1092.0</td>\n",
       "      <td>1.0</td>\n",
       "      <td>1</td>\n",
       "      <td>6.0</td>\n",
       "      <td>6.0</td>\n",
       "      <td>5.0</td>\n",
       "      <td>2.0</td>\n",
       "      <td>1.39.96</td>\n",
       "      <td>4.8</td>\n",
       "      <td>NaN</td>\n",
       "      <td>NaN</td>\n",
       "      <td>2014-071</td>\n",
       "    </tr>\n",
       "    <tr>\n",
       "      <th>1227</th>\n",
       "      <td>11</td>\n",
       "      <td>1.0</td>\n",
       "      <td>S160</td>\n",
       "      <td>A Suborics</td>\n",
       "      <td>C S Shum</td>\n",
       "      <td>133.0</td>\n",
       "      <td>997.0</td>\n",
       "      <td>1.0</td>\n",
       "      <td>10</td>\n",
       "      <td>3.0</td>\n",
       "      <td>2.0</td>\n",
       "      <td>11.0</td>\n",
       "      <td>NaN</td>\n",
       "      <td>1.11.81</td>\n",
       "      <td>7.8</td>\n",
       "      <td>NaN</td>\n",
       "      <td>NaN</td>\n",
       "      <td>2014-099</td>\n",
       "    </tr>\n",
       "    <tr>\n",
       "      <th>1544</th>\n",
       "      <td>2</td>\n",
       "      <td>1.0</td>\n",
       "      <td>N342</td>\n",
       "      <td>N Callan</td>\n",
       "      <td>R Gibson</td>\n",
       "      <td>133.0</td>\n",
       "      <td>1105.0</td>\n",
       "      <td>1.0</td>\n",
       "      <td>1/2</td>\n",
       "      <td>3.0</td>\n",
       "      <td>3.0</td>\n",
       "      <td>2.0</td>\n",
       "      <td>NaN</td>\n",
       "      <td>1.09.79</td>\n",
       "      <td>6.2</td>\n",
       "      <td>NaN</td>\n",
       "      <td>NaN</td>\n",
       "      <td>2014-126</td>\n",
       "    </tr>\n",
       "    <tr>\n",
       "      <th>1795</th>\n",
       "      <td>3</td>\n",
       "      <td>1.0</td>\n",
       "      <td>K288</td>\n",
       "      <td>O Doleuze</td>\n",
       "      <td>R Gibson</td>\n",
       "      <td>133.0</td>\n",
       "      <td>1113.0</td>\n",
       "      <td>1.0</td>\n",
       "      <td>1-1/4</td>\n",
       "      <td>10.0</td>\n",
       "      <td>10.0</td>\n",
       "      <td>9.0</td>\n",
       "      <td>8.0</td>\n",
       "      <td>1.49.27</td>\n",
       "      <td>14.0</td>\n",
       "      <td>3.0</td>\n",
       "      <td>NaN</td>\n",
       "      <td>2014-144</td>\n",
       "    </tr>\n",
       "    <tr>\n",
       "      <th>1882</th>\n",
       "      <td>1</td>\n",
       "      <td>1.0</td>\n",
       "      <td>N409</td>\n",
       "      <td>G Mosse</td>\n",
       "      <td>T K Ng</td>\n",
       "      <td>133.0</td>\n",
       "      <td>1066.0</td>\n",
       "      <td>1.0</td>\n",
       "      <td>-</td>\n",
       "      <td>11.0</td>\n",
       "      <td>10.0</td>\n",
       "      <td>1.0</td>\n",
       "      <td>NaN</td>\n",
       "      <td>0.57.71</td>\n",
       "      <td>3.1</td>\n",
       "      <td>NaN</td>\n",
       "      <td>NaN</td>\n",
       "      <td>2014-152</td>\n",
       "    </tr>\n",
       "    <tr>\n",
       "      <th>2039</th>\n",
       "      <td>14</td>\n",
       "      <td>1.0</td>\n",
       "      <td>S327</td>\n",
       "      <td>U Rispoli</td>\n",
       "      <td>R Gibson</td>\n",
       "      <td>133.0</td>\n",
       "      <td>1106.0</td>\n",
       "      <td>1.0</td>\n",
       "      <td>22-3/4</td>\n",
       "      <td>1.0</td>\n",
       "      <td>1.0</td>\n",
       "      <td>2.0</td>\n",
       "      <td>14.0</td>\n",
       "      <td>1.38.50</td>\n",
       "      <td>45.0</td>\n",
       "      <td>NaN</td>\n",
       "      <td>NaN</td>\n",
       "      <td>2014-162</td>\n",
       "    </tr>\n",
       "    <tr>\n",
       "      <th>2132</th>\n",
       "      <td>3</td>\n",
       "      <td>1.0</td>\n",
       "      <td>P383</td>\n",
       "      <td>Z Purton</td>\n",
       "      <td>C H Yip</td>\n",
       "      <td>133.0</td>\n",
       "      <td>1028.0</td>\n",
       "      <td>1.0</td>\n",
       "      <td>2-3/4</td>\n",
       "      <td>3.0</td>\n",
       "      <td>4.0</td>\n",
       "      <td>4.0</td>\n",
       "      <td>3.0</td>\n",
       "      <td>1.41.77</td>\n",
       "      <td>4.4</td>\n",
       "      <td>NaN</td>\n",
       "      <td>NaN</td>\n",
       "      <td>2014-171</td>\n",
       "    </tr>\n",
       "    <tr>\n",
       "      <th>2231</th>\n",
       "      <td>13</td>\n",
       "      <td>1.0</td>\n",
       "      <td>P248</td>\n",
       "      <td>D Whyte</td>\n",
       "      <td>D J Hall</td>\n",
       "      <td>133.0</td>\n",
       "      <td>1148.0</td>\n",
       "      <td>1.0</td>\n",
       "      <td>7-1/2</td>\n",
       "      <td>1.0</td>\n",
       "      <td>2.0</td>\n",
       "      <td>13.0</td>\n",
       "      <td>NaN</td>\n",
       "      <td>1.09.87</td>\n",
       "      <td>9.0</td>\n",
       "      <td>NaN</td>\n",
       "      <td>NaN</td>\n",
       "      <td>2014-186</td>\n",
       "    </tr>\n",
       "    <tr>\n",
       "      <th>2377</th>\n",
       "      <td>2</td>\n",
       "      <td>1.0</td>\n",
       "      <td>N013</td>\n",
       "      <td>D Whyte</td>\n",
       "      <td>R Gibson</td>\n",
       "      <td>133.0</td>\n",
       "      <td>1029.0</td>\n",
       "      <td>1.0</td>\n",
       "      <td>SH</td>\n",
       "      <td>4.0</td>\n",
       "      <td>3.0</td>\n",
       "      <td>3.0</td>\n",
       "      <td>4.0</td>\n",
       "      <td>1.51.31</td>\n",
       "      <td>8.3</td>\n",
       "      <td>2.0</td>\n",
       "      <td>NaN</td>\n",
       "      <td>2014-190</td>\n",
       "    </tr>\n",
       "    <tr>\n",
       "      <th>2450</th>\n",
       "      <td>2</td>\n",
       "      <td>1.0</td>\n",
       "      <td>S044</td>\n",
       "      <td>N Rawiller</td>\n",
       "      <td>T P Yung</td>\n",
       "      <td>133.0</td>\n",
       "      <td>1178.0</td>\n",
       "      <td>1.0</td>\n",
       "      <td>1-1/2</td>\n",
       "      <td>2.0</td>\n",
       "      <td>2.0</td>\n",
       "      <td>2.0</td>\n",
       "      <td>2.0</td>\n",
       "      <td>1.21.54</td>\n",
       "      <td>8.4</td>\n",
       "      <td>NaN</td>\n",
       "      <td>NaN</td>\n",
       "      <td>2014-204</td>\n",
       "    </tr>\n",
       "    <tr>\n",
       "      <th>2551</th>\n",
       "      <td>12</td>\n",
       "      <td>1.0</td>\n",
       "      <td>S189</td>\n",
       "      <td>T H So</td>\n",
       "      <td>S Woods</td>\n",
       "      <td>129.0</td>\n",
       "      <td>1014.0</td>\n",
       "      <td>1.0</td>\n",
       "      <td>7</td>\n",
       "      <td>6.0</td>\n",
       "      <td>7.0</td>\n",
       "      <td>7.0</td>\n",
       "      <td>12.0</td>\n",
       "      <td>1.35.83</td>\n",
       "      <td>99.0</td>\n",
       "      <td>NaN</td>\n",
       "      <td>NaN</td>\n",
       "      <td>2014-202</td>\n",
       "    </tr>\n",
       "    <tr>\n",
       "      <th>2682</th>\n",
       "      <td>11</td>\n",
       "      <td>1.0</td>\n",
       "      <td>M163</td>\n",
       "      <td>K C Leung</td>\n",
       "      <td>S Woods</td>\n",
       "      <td>127.0</td>\n",
       "      <td>1157.0</td>\n",
       "      <td>1.0</td>\n",
       "      <td>9-3/4</td>\n",
       "      <td>12.0</td>\n",
       "      <td>12.0</td>\n",
       "      <td>11.0</td>\n",
       "      <td>NaN</td>\n",
       "      <td>1.09.88</td>\n",
       "      <td>88.0</td>\n",
       "      <td>NaN</td>\n",
       "      <td>NaN</td>\n",
       "      <td>2014-222</td>\n",
       "    </tr>\n",
       "    <tr>\n",
       "      <th>2707</th>\n",
       "      <td>9</td>\n",
       "      <td>1.0</td>\n",
       "      <td>M331</td>\n",
       "      <td>C Y Ho</td>\n",
       "      <td>D J Hall</td>\n",
       "      <td>131.0</td>\n",
       "      <td>1229.0</td>\n",
       "      <td>1.0</td>\n",
       "      <td>6-1/4</td>\n",
       "      <td>12.0</td>\n",
       "      <td>12.0</td>\n",
       "      <td>9.0</td>\n",
       "      <td>NaN</td>\n",
       "      <td>1.10.98</td>\n",
       "      <td>44.0</td>\n",
       "      <td>NaN</td>\n",
       "      <td>NaN</td>\n",
       "      <td>2014-214</td>\n",
       "    </tr>\n",
       "    <tr>\n",
       "      <th>3296</th>\n",
       "      <td>10</td>\n",
       "      <td>1.0</td>\n",
       "      <td>T162</td>\n",
       "      <td>N Rawiller</td>\n",
       "      <td>J Moore</td>\n",
       "      <td>133.0</td>\n",
       "      <td>1039.0</td>\n",
       "      <td>1.0</td>\n",
       "      <td>3-3/4</td>\n",
       "      <td>8.0</td>\n",
       "      <td>6.0</td>\n",
       "      <td>10.0</td>\n",
       "      <td>NaN</td>\n",
       "      <td>1.10.24</td>\n",
       "      <td>7.7</td>\n",
       "      <td>NaN</td>\n",
       "      <td>NaN</td>\n",
       "      <td>2014-270</td>\n",
       "    </tr>\n",
       "    <tr>\n",
       "      <th>3663</th>\n",
       "      <td>13</td>\n",
       "      <td>1.0</td>\n",
       "      <td>S187</td>\n",
       "      <td>C K Tong</td>\n",
       "      <td>Y S Tsui</td>\n",
       "      <td>131.0</td>\n",
       "      <td>1045.0</td>\n",
       "      <td>1.0</td>\n",
       "      <td>16-1/2</td>\n",
       "      <td>2.0</td>\n",
       "      <td>1.0</td>\n",
       "      <td>1.0</td>\n",
       "      <td>2.0</td>\n",
       "      <td>1.50.49</td>\n",
       "      <td>99.0</td>\n",
       "      <td>13.0</td>\n",
       "      <td>NaN</td>\n",
       "      <td>2014-288</td>\n",
       "    </tr>\n",
       "    <tr>\n",
       "      <th>4026</th>\n",
       "      <td>9</td>\n",
       "      <td>1.0</td>\n",
       "      <td>P189</td>\n",
       "      <td>D Whyte</td>\n",
       "      <td>T P Yung</td>\n",
       "      <td>133.0</td>\n",
       "      <td>1097.0</td>\n",
       "      <td>1.0</td>\n",
       "      <td>4-1/2</td>\n",
       "      <td>3.0</td>\n",
       "      <td>4.0</td>\n",
       "      <td>4.0</td>\n",
       "      <td>9.0</td>\n",
       "      <td>1.41.55</td>\n",
       "      <td>5.0</td>\n",
       "      <td>NaN</td>\n",
       "      <td>NaN</td>\n",
       "      <td>2014-318</td>\n",
       "    </tr>\n",
       "    <tr>\n",
       "      <th>4199</th>\n",
       "      <td>1</td>\n",
       "      <td>1.0</td>\n",
       "      <td>T037</td>\n",
       "      <td>K C Ng</td>\n",
       "      <td>C H Yip</td>\n",
       "      <td>128.0</td>\n",
       "      <td>1138.0</td>\n",
       "      <td>1.0</td>\n",
       "      <td>-</td>\n",
       "      <td>1.0</td>\n",
       "      <td>1.0</td>\n",
       "      <td>1.0</td>\n",
       "      <td>NaN</td>\n",
       "      <td>0.57.19</td>\n",
       "      <td>3.4</td>\n",
       "      <td>NaN</td>\n",
       "      <td>NaN</td>\n",
       "      <td>2014-332</td>\n",
       "    </tr>\n",
       "    <tr>\n",
       "      <th>4355</th>\n",
       "      <td>1</td>\n",
       "      <td>1.0</td>\n",
       "      <td>S143</td>\n",
       "      <td>D Whyte</td>\n",
       "      <td>A S Cruz</td>\n",
       "      <td>126.0</td>\n",
       "      <td>1117.0</td>\n",
       "      <td>1.0</td>\n",
       "      <td>-</td>\n",
       "      <td>3.0</td>\n",
       "      <td>3.0</td>\n",
       "      <td>1.0</td>\n",
       "      <td>NaN</td>\n",
       "      <td>0.55.49</td>\n",
       "      <td>1.8</td>\n",
       "      <td>NaN</td>\n",
       "      <td>NaN</td>\n",
       "      <td>2014-343</td>\n",
       "    </tr>\n",
       "    <tr>\n",
       "      <th>4456</th>\n",
       "      <td>DISQ</td>\n",
       "      <td>1.0</td>\n",
       "      <td>S145</td>\n",
       "      <td>J Moreira</td>\n",
       "      <td>J Moore</td>\n",
       "      <td>133.0</td>\n",
       "      <td>1162.0</td>\n",
       "      <td>1.0</td>\n",
       "      <td>+1/2</td>\n",
       "      <td>6.0</td>\n",
       "      <td>4.0</td>\n",
       "      <td>6.0</td>\n",
       "      <td>6.0</td>\n",
       "      <td>1.48.42</td>\n",
       "      <td>3.1</td>\n",
       "      <td>1.0</td>\n",
       "      <td>NaN</td>\n",
       "      <td>2014-352</td>\n",
       "    </tr>\n",
       "    <tr>\n",
       "      <th>4457</th>\n",
       "      <td>1</td>\n",
       "      <td>1.0</td>\n",
       "      <td>P018</td>\n",
       "      <td>Z Purton</td>\n",
       "      <td>C Fownes</td>\n",
       "      <td>133.0</td>\n",
       "      <td>1128.0</td>\n",
       "      <td>1.0</td>\n",
       "      <td>-</td>\n",
       "      <td>5.0</td>\n",
       "      <td>5.0</td>\n",
       "      <td>1.0</td>\n",
       "      <td>NaN</td>\n",
       "      <td>0.57.10</td>\n",
       "      <td>3.0</td>\n",
       "      <td>NaN</td>\n",
       "      <td>NaN</td>\n",
       "      <td>2014-353</td>\n",
       "    </tr>\n",
       "    <tr>\n",
       "      <th>4558</th>\n",
       "      <td>7</td>\n",
       "      <td>1.0</td>\n",
       "      <td>S410</td>\n",
       "      <td>J Moreira</td>\n",
       "      <td>K W Lui</td>\n",
       "      <td>133.0</td>\n",
       "      <td>1134.0</td>\n",
       "      <td>1.0</td>\n",
       "      <td>1-3/4</td>\n",
       "      <td>3.0</td>\n",
       "      <td>5.0</td>\n",
       "      <td>7.0</td>\n",
       "      <td>NaN</td>\n",
       "      <td>1.11.27</td>\n",
       "      <td>8.6</td>\n",
       "      <td>NaN</td>\n",
       "      <td>NaN</td>\n",
       "      <td>2014-359</td>\n",
       "    </tr>\n",
       "    <tr>\n",
       "      <th>4773</th>\n",
       "      <td>9</td>\n",
       "      <td>1.0</td>\n",
       "      <td>S409</td>\n",
       "      <td>O Doleuze</td>\n",
       "      <td>R Gibson</td>\n",
       "      <td>133.0</td>\n",
       "      <td>1067.0</td>\n",
       "      <td>1.0</td>\n",
       "      <td>6-3/4</td>\n",
       "      <td>8.0</td>\n",
       "      <td>9.0</td>\n",
       "      <td>9.0</td>\n",
       "      <td>NaN</td>\n",
       "      <td>1.10.09</td>\n",
       "      <td>11.0</td>\n",
       "      <td>NaN</td>\n",
       "      <td>NaN</td>\n",
       "      <td>2014-376</td>\n",
       "    </tr>\n",
       "    <tr>\n",
       "      <th>...</th>\n",
       "      <td>...</td>\n",
       "      <td>...</td>\n",
       "      <td>...</td>\n",
       "      <td>...</td>\n",
       "      <td>...</td>\n",
       "      <td>...</td>\n",
       "      <td>...</td>\n",
       "      <td>...</td>\n",
       "      <td>...</td>\n",
       "      <td>...</td>\n",
       "      <td>...</td>\n",
       "      <td>...</td>\n",
       "      <td>...</td>\n",
       "      <td>...</td>\n",
       "      <td>...</td>\n",
       "      <td>...</td>\n",
       "      <td>...</td>\n",
       "      <td>...</td>\n",
       "    </tr>\n",
       "    <tr>\n",
       "      <th>15101</th>\n",
       "      <td>2</td>\n",
       "      <td>1.0</td>\n",
       "      <td>S379</td>\n",
       "      <td>N Rawiller</td>\n",
       "      <td>W Y So</td>\n",
       "      <td>133.0</td>\n",
       "      <td>1006.0</td>\n",
       "      <td>1.0</td>\n",
       "      <td>1</td>\n",
       "      <td>2.0</td>\n",
       "      <td>4.0</td>\n",
       "      <td>4.0</td>\n",
       "      <td>3.0</td>\n",
       "      <td>1.48.58</td>\n",
       "      <td>3.9</td>\n",
       "      <td>2.0</td>\n",
       "      <td>NaN</td>\n",
       "      <td>2015-401</td>\n",
       "    </tr>\n",
       "    <tr>\n",
       "      <th>15129</th>\n",
       "      <td>2</td>\n",
       "      <td>1.0</td>\n",
       "      <td>S306</td>\n",
       "      <td>G Schofield</td>\n",
       "      <td>T P Yung</td>\n",
       "      <td>133.0</td>\n",
       "      <td>1076.0</td>\n",
       "      <td>1.0</td>\n",
       "      <td>3</td>\n",
       "      <td>8.0</td>\n",
       "      <td>9.0</td>\n",
       "      <td>4.0</td>\n",
       "      <td>2.0</td>\n",
       "      <td>1.39.63</td>\n",
       "      <td>14.0</td>\n",
       "      <td>NaN</td>\n",
       "      <td>NaN</td>\n",
       "      <td>2015-403</td>\n",
       "    </tr>\n",
       "    <tr>\n",
       "      <th>15302</th>\n",
       "      <td>9</td>\n",
       "      <td>1.0</td>\n",
       "      <td>T236</td>\n",
       "      <td>R Moore</td>\n",
       "      <td>Y S Tsui</td>\n",
       "      <td>133.0</td>\n",
       "      <td>1141.0</td>\n",
       "      <td>1.0</td>\n",
       "      <td>8</td>\n",
       "      <td>2.0</td>\n",
       "      <td>1.0</td>\n",
       "      <td>1.0</td>\n",
       "      <td>9.0</td>\n",
       "      <td>1.35.94</td>\n",
       "      <td>13.0</td>\n",
       "      <td>NaN</td>\n",
       "      <td>NaN</td>\n",
       "      <td>2015-425</td>\n",
       "    </tr>\n",
       "    <tr>\n",
       "      <th>15388</th>\n",
       "      <td>1</td>\n",
       "      <td>1.0</td>\n",
       "      <td>S269</td>\n",
       "      <td>Z Purton</td>\n",
       "      <td>P O'Sullivan</td>\n",
       "      <td>133.0</td>\n",
       "      <td>1099.0</td>\n",
       "      <td>1.0</td>\n",
       "      <td>-</td>\n",
       "      <td>5.0</td>\n",
       "      <td>3.0</td>\n",
       "      <td>1.0</td>\n",
       "      <td>NaN</td>\n",
       "      <td>1.09.56</td>\n",
       "      <td>2.6</td>\n",
       "      <td>NaN</td>\n",
       "      <td>NaN</td>\n",
       "      <td>2015-423</td>\n",
       "    </tr>\n",
       "    <tr>\n",
       "      <th>15436</th>\n",
       "      <td>9</td>\n",
       "      <td>1.0</td>\n",
       "      <td>T274</td>\n",
       "      <td>B Prebble</td>\n",
       "      <td>W Y So</td>\n",
       "      <td>133.0</td>\n",
       "      <td>1097.0</td>\n",
       "      <td>1.0</td>\n",
       "      <td>8</td>\n",
       "      <td>9.0</td>\n",
       "      <td>9.0</td>\n",
       "      <td>9.0</td>\n",
       "      <td>NaN</td>\n",
       "      <td>1.11.72</td>\n",
       "      <td>39.0</td>\n",
       "      <td>NaN</td>\n",
       "      <td>NaN</td>\n",
       "      <td>2015-427</td>\n",
       "    </tr>\n",
       "    <tr>\n",
       "      <th>15625</th>\n",
       "      <td>13</td>\n",
       "      <td>1.0</td>\n",
       "      <td>T065</td>\n",
       "      <td>R Moore</td>\n",
       "      <td>K L Man</td>\n",
       "      <td>133.0</td>\n",
       "      <td>1185.0</td>\n",
       "      <td>1.0</td>\n",
       "      <td>5</td>\n",
       "      <td>4.0</td>\n",
       "      <td>3.0</td>\n",
       "      <td>4.0</td>\n",
       "      <td>13.0</td>\n",
       "      <td>1.36.70</td>\n",
       "      <td>9.6</td>\n",
       "      <td>NaN</td>\n",
       "      <td>NaN</td>\n",
       "      <td>2015-441</td>\n",
       "    </tr>\n",
       "    <tr>\n",
       "      <th>16377</th>\n",
       "      <td>4</td>\n",
       "      <td>1.0</td>\n",
       "      <td>N047</td>\n",
       "      <td>K K Chiong</td>\n",
       "      <td>T P Yung</td>\n",
       "      <td>123.0</td>\n",
       "      <td>1070.0</td>\n",
       "      <td>1.0</td>\n",
       "      <td>3/4</td>\n",
       "      <td>6.0</td>\n",
       "      <td>6.0</td>\n",
       "      <td>6.0</td>\n",
       "      <td>4.0</td>\n",
       "      <td>1.42.21</td>\n",
       "      <td>5.3</td>\n",
       "      <td>NaN</td>\n",
       "      <td>NaN</td>\n",
       "      <td>2015-502</td>\n",
       "    </tr>\n",
       "    <tr>\n",
       "      <th>16469</th>\n",
       "      <td>13</td>\n",
       "      <td>1.0</td>\n",
       "      <td>V215</td>\n",
       "      <td>N Rawiller</td>\n",
       "      <td>P O'Sullivan</td>\n",
       "      <td>133.0</td>\n",
       "      <td>1174.0</td>\n",
       "      <td>1.0</td>\n",
       "      <td>9-1/4</td>\n",
       "      <td>8.0</td>\n",
       "      <td>9.0</td>\n",
       "      <td>13.0</td>\n",
       "      <td>NaN</td>\n",
       "      <td>1.11.45</td>\n",
       "      <td>99.0</td>\n",
       "      <td>NaN</td>\n",
       "      <td>NaN</td>\n",
       "      <td>2015-517</td>\n",
       "    </tr>\n",
       "    <tr>\n",
       "      <th>16548</th>\n",
       "      <td>7</td>\n",
       "      <td>1.0</td>\n",
       "      <td>P439</td>\n",
       "      <td>N Callan</td>\n",
       "      <td>C Fownes</td>\n",
       "      <td>133.0</td>\n",
       "      <td>1099.0</td>\n",
       "      <td>1.0</td>\n",
       "      <td>5-3/4</td>\n",
       "      <td>9.0</td>\n",
       "      <td>9.0</td>\n",
       "      <td>8.0</td>\n",
       "      <td>7.0</td>\n",
       "      <td>2.02.94</td>\n",
       "      <td>48.0</td>\n",
       "      <td>7.0</td>\n",
       "      <td>NaN</td>\n",
       "      <td>2015-513</td>\n",
       "    </tr>\n",
       "    <tr>\n",
       "      <th>16632</th>\n",
       "      <td>12</td>\n",
       "      <td>1.0</td>\n",
       "      <td>T350</td>\n",
       "      <td>D Whyte</td>\n",
       "      <td>J Size</td>\n",
       "      <td>132.0</td>\n",
       "      <td>985.0</td>\n",
       "      <td>1.0</td>\n",
       "      <td>8-3/4</td>\n",
       "      <td>3.0</td>\n",
       "      <td>2.0</td>\n",
       "      <td>12.0</td>\n",
       "      <td>NaN</td>\n",
       "      <td>1.12.07</td>\n",
       "      <td>9.3</td>\n",
       "      <td>NaN</td>\n",
       "      <td>NaN</td>\n",
       "      <td>2015-521</td>\n",
       "    </tr>\n",
       "    <tr>\n",
       "      <th>16662</th>\n",
       "      <td>5</td>\n",
       "      <td>1.0</td>\n",
       "      <td>T390</td>\n",
       "      <td>G Mosse</td>\n",
       "      <td>K L Man</td>\n",
       "      <td>133.0</td>\n",
       "      <td>1011.0</td>\n",
       "      <td>1.0</td>\n",
       "      <td>3-1/4</td>\n",
       "      <td>7.0</td>\n",
       "      <td>7.0</td>\n",
       "      <td>8.0</td>\n",
       "      <td>5.0</td>\n",
       "      <td>1.40.24</td>\n",
       "      <td>7.0</td>\n",
       "      <td>NaN</td>\n",
       "      <td>NaN</td>\n",
       "      <td>2015-524</td>\n",
       "    </tr>\n",
       "    <tr>\n",
       "      <th>16834</th>\n",
       "      <td>2</td>\n",
       "      <td>1.0</td>\n",
       "      <td>P286</td>\n",
       "      <td>O Doleuze</td>\n",
       "      <td>C W Chang</td>\n",
       "      <td>133.0</td>\n",
       "      <td>1097.0</td>\n",
       "      <td>1.0</td>\n",
       "      <td>SH</td>\n",
       "      <td>1.0</td>\n",
       "      <td>1.0</td>\n",
       "      <td>2.0</td>\n",
       "      <td>4.0</td>\n",
       "      <td>1.51.42</td>\n",
       "      <td>6.0</td>\n",
       "      <td>2.0</td>\n",
       "      <td>NaN</td>\n",
       "      <td>2015-538</td>\n",
       "    </tr>\n",
       "    <tr>\n",
       "      <th>16898</th>\n",
       "      <td>3</td>\n",
       "      <td>1.0</td>\n",
       "      <td>V184</td>\n",
       "      <td>K C Ng</td>\n",
       "      <td>A S Cruz</td>\n",
       "      <td>128.0</td>\n",
       "      <td>1191.0</td>\n",
       "      <td>1.0</td>\n",
       "      <td>3-1/2</td>\n",
       "      <td>4.0</td>\n",
       "      <td>3.0</td>\n",
       "      <td>3.0</td>\n",
       "      <td>3.0</td>\n",
       "      <td>1.39.31</td>\n",
       "      <td>16.0</td>\n",
       "      <td>NaN</td>\n",
       "      <td>NaN</td>\n",
       "      <td>2015-543</td>\n",
       "    </tr>\n",
       "    <tr>\n",
       "      <th>16955</th>\n",
       "      <td>14</td>\n",
       "      <td>1.0</td>\n",
       "      <td>S106</td>\n",
       "      <td>N Rawiller</td>\n",
       "      <td>T K Ng</td>\n",
       "      <td>133.0</td>\n",
       "      <td>1034.0</td>\n",
       "      <td>1.0</td>\n",
       "      <td>26-3/4</td>\n",
       "      <td>11.0</td>\n",
       "      <td>12.0</td>\n",
       "      <td>14.0</td>\n",
       "      <td>14.0</td>\n",
       "      <td>1.26.71</td>\n",
       "      <td>99.0</td>\n",
       "      <td>NaN</td>\n",
       "      <td>NaN</td>\n",
       "      <td>2015-555</td>\n",
       "    </tr>\n",
       "    <tr>\n",
       "      <th>17011</th>\n",
       "      <td>1</td>\n",
       "      <td>1.0</td>\n",
       "      <td>S240</td>\n",
       "      <td>K K Chiong</td>\n",
       "      <td>A T Millard</td>\n",
       "      <td>123.0</td>\n",
       "      <td>1159.0</td>\n",
       "      <td>1.0</td>\n",
       "      <td>-</td>\n",
       "      <td>1.0</td>\n",
       "      <td>1.0</td>\n",
       "      <td>1.0</td>\n",
       "      <td>NaN</td>\n",
       "      <td>0.57.05</td>\n",
       "      <td>5.7</td>\n",
       "      <td>NaN</td>\n",
       "      <td>NaN</td>\n",
       "      <td>2015-550</td>\n",
       "    </tr>\n",
       "    <tr>\n",
       "      <th>17213</th>\n",
       "      <td>10</td>\n",
       "      <td>1.0</td>\n",
       "      <td>S316</td>\n",
       "      <td>N Callan</td>\n",
       "      <td>D J Hall</td>\n",
       "      <td>133.0</td>\n",
       "      <td>1090.0</td>\n",
       "      <td>1.0</td>\n",
       "      <td>5</td>\n",
       "      <td>11.0</td>\n",
       "      <td>10.0</td>\n",
       "      <td>10.0</td>\n",
       "      <td>NaN</td>\n",
       "      <td>0.56.33</td>\n",
       "      <td>21.0</td>\n",
       "      <td>NaN</td>\n",
       "      <td>NaN</td>\n",
       "      <td>2015-567</td>\n",
       "    </tr>\n",
       "    <tr>\n",
       "      <th>17364</th>\n",
       "      <td>5</td>\n",
       "      <td>1.0</td>\n",
       "      <td>S172</td>\n",
       "      <td>C Y Ho</td>\n",
       "      <td>Y S Tsui</td>\n",
       "      <td>131.0</td>\n",
       "      <td>1142.0</td>\n",
       "      <td>1.0</td>\n",
       "      <td>2-1/2</td>\n",
       "      <td>7.0</td>\n",
       "      <td>6.0</td>\n",
       "      <td>5.0</td>\n",
       "      <td>NaN</td>\n",
       "      <td>0.57.64</td>\n",
       "      <td>52.0</td>\n",
       "      <td>NaN</td>\n",
       "      <td>NaN</td>\n",
       "      <td>2015-580</td>\n",
       "    </tr>\n",
       "    <tr>\n",
       "      <th>17938</th>\n",
       "      <td>5</td>\n",
       "      <td>1.0</td>\n",
       "      <td>T164</td>\n",
       "      <td>Z Purton</td>\n",
       "      <td>D J Hall</td>\n",
       "      <td>133.0</td>\n",
       "      <td>1140.0</td>\n",
       "      <td>1.0</td>\n",
       "      <td>2-1/4</td>\n",
       "      <td>6.0</td>\n",
       "      <td>4.0</td>\n",
       "      <td>5.0</td>\n",
       "      <td>NaN</td>\n",
       "      <td>1.09.64</td>\n",
       "      <td>9.8</td>\n",
       "      <td>NaN</td>\n",
       "      <td>NaN</td>\n",
       "      <td>2015-625</td>\n",
       "    </tr>\n",
       "    <tr>\n",
       "      <th>18023</th>\n",
       "      <td>4</td>\n",
       "      <td>1.0</td>\n",
       "      <td>P190</td>\n",
       "      <td>C Schofield</td>\n",
       "      <td>C H Yip</td>\n",
       "      <td>133.0</td>\n",
       "      <td>1033.0</td>\n",
       "      <td>1.0</td>\n",
       "      <td>1-1/2</td>\n",
       "      <td>9.0</td>\n",
       "      <td>8.0</td>\n",
       "      <td>4.0</td>\n",
       "      <td>NaN</td>\n",
       "      <td>1.10.49</td>\n",
       "      <td>9.9</td>\n",
       "      <td>NaN</td>\n",
       "      <td>NaN</td>\n",
       "      <td>2015-633</td>\n",
       "    </tr>\n",
       "    <tr>\n",
       "      <th>18153</th>\n",
       "      <td>3</td>\n",
       "      <td>1.0</td>\n",
       "      <td>V253</td>\n",
       "      <td>D Whyte</td>\n",
       "      <td>J Moore</td>\n",
       "      <td>133.0</td>\n",
       "      <td>1263.0</td>\n",
       "      <td>1.0</td>\n",
       "      <td>1</td>\n",
       "      <td>6.0</td>\n",
       "      <td>5.0</td>\n",
       "      <td>3.0</td>\n",
       "      <td>NaN</td>\n",
       "      <td>1.09.52</td>\n",
       "      <td>14.0</td>\n",
       "      <td>NaN</td>\n",
       "      <td>NaN</td>\n",
       "      <td>2015-642</td>\n",
       "    </tr>\n",
       "    <tr>\n",
       "      <th>18512</th>\n",
       "      <td>5</td>\n",
       "      <td>1.0</td>\n",
       "      <td>V197</td>\n",
       "      <td>K K Chiong</td>\n",
       "      <td>D E Ferraris</td>\n",
       "      <td>126.0</td>\n",
       "      <td>1124.0</td>\n",
       "      <td>1.0</td>\n",
       "      <td>2-3/4</td>\n",
       "      <td>8.0</td>\n",
       "      <td>6.0</td>\n",
       "      <td>5.0</td>\n",
       "      <td>NaN</td>\n",
       "      <td>0.56.51</td>\n",
       "      <td>10.0</td>\n",
       "      <td>NaN</td>\n",
       "      <td>NaN</td>\n",
       "      <td>2015-670</td>\n",
       "    </tr>\n",
       "    <tr>\n",
       "      <th>18552</th>\n",
       "      <td>2</td>\n",
       "      <td>1.0</td>\n",
       "      <td>T189</td>\n",
       "      <td>K K Chiong</td>\n",
       "      <td>A S Cruz</td>\n",
       "      <td>126.0</td>\n",
       "      <td>1088.0</td>\n",
       "      <td>1.0</td>\n",
       "      <td>3/4</td>\n",
       "      <td>3.0</td>\n",
       "      <td>1.0</td>\n",
       "      <td>1.0</td>\n",
       "      <td>2.0</td>\n",
       "      <td>1.21.82</td>\n",
       "      <td>3.7</td>\n",
       "      <td>NaN</td>\n",
       "      <td>NaN</td>\n",
       "      <td>2015-673</td>\n",
       "    </tr>\n",
       "    <tr>\n",
       "      <th>18619</th>\n",
       "      <td>1</td>\n",
       "      <td>1.0</td>\n",
       "      <td>S337</td>\n",
       "      <td>J Moreira</td>\n",
       "      <td>D E Ferraris</td>\n",
       "      <td>133.0</td>\n",
       "      <td>1176.0</td>\n",
       "      <td>1.0</td>\n",
       "      <td>-</td>\n",
       "      <td>4.0</td>\n",
       "      <td>4.0</td>\n",
       "      <td>1.0</td>\n",
       "      <td>NaN</td>\n",
       "      <td>1.10.28</td>\n",
       "      <td>2.7</td>\n",
       "      <td>NaN</td>\n",
       "      <td>NaN</td>\n",
       "      <td>2015-679</td>\n",
       "    </tr>\n",
       "    <tr>\n",
       "      <th>18939</th>\n",
       "      <td>2</td>\n",
       "      <td>1.0</td>\n",
       "      <td>S298</td>\n",
       "      <td>N Callan</td>\n",
       "      <td>D E Ferraris</td>\n",
       "      <td>133.0</td>\n",
       "      <td>1111.0</td>\n",
       "      <td>1.0</td>\n",
       "      <td>1</td>\n",
       "      <td>5.0</td>\n",
       "      <td>5.0</td>\n",
       "      <td>5.0</td>\n",
       "      <td>2.0</td>\n",
       "      <td>1.40.77</td>\n",
       "      <td>6.3</td>\n",
       "      <td>NaN</td>\n",
       "      <td>NaN</td>\n",
       "      <td>2015-703</td>\n",
       "    </tr>\n",
       "    <tr>\n",
       "      <th>19138</th>\n",
       "      <td>5</td>\n",
       "      <td>1.0</td>\n",
       "      <td>T387</td>\n",
       "      <td>H N Wong</td>\n",
       "      <td>D Cruz</td>\n",
       "      <td>126.0</td>\n",
       "      <td>1107.0</td>\n",
       "      <td>1.0</td>\n",
       "      <td>3</td>\n",
       "      <td>3.0</td>\n",
       "      <td>3.0</td>\n",
       "      <td>5.0</td>\n",
       "      <td>NaN</td>\n",
       "      <td>1.11.49</td>\n",
       "      <td>6.1</td>\n",
       "      <td>NaN</td>\n",
       "      <td>NaN</td>\n",
       "      <td>2015-719</td>\n",
       "    </tr>\n",
       "    <tr>\n",
       "      <th>19553</th>\n",
       "      <td>1</td>\n",
       "      <td>1.0</td>\n",
       "      <td>S352</td>\n",
       "      <td>M Chadwick</td>\n",
       "      <td>A S Cruz</td>\n",
       "      <td>133.0</td>\n",
       "      <td>1073.0</td>\n",
       "      <td>1.0</td>\n",
       "      <td>-</td>\n",
       "      <td>4.0</td>\n",
       "      <td>4.0</td>\n",
       "      <td>1.0</td>\n",
       "      <td>NaN</td>\n",
       "      <td>1.08.50</td>\n",
       "      <td>14.0</td>\n",
       "      <td>NaN</td>\n",
       "      <td>NaN</td>\n",
       "      <td>2015-751</td>\n",
       "    </tr>\n",
       "    <tr>\n",
       "      <th>19654</th>\n",
       "      <td>3</td>\n",
       "      <td>1.0</td>\n",
       "      <td>T265</td>\n",
       "      <td>J Moreira</td>\n",
       "      <td>Y S Tsui</td>\n",
       "      <td>133.0</td>\n",
       "      <td>960.0</td>\n",
       "      <td>1.0</td>\n",
       "      <td>1/2</td>\n",
       "      <td>9.0</td>\n",
       "      <td>11.0</td>\n",
       "      <td>10.0</td>\n",
       "      <td>3.0</td>\n",
       "      <td>1.21.99</td>\n",
       "      <td>4.2</td>\n",
       "      <td>NaN</td>\n",
       "      <td>NaN</td>\n",
       "      <td>2015-757</td>\n",
       "    </tr>\n",
       "    <tr>\n",
       "      <th>19743</th>\n",
       "      <td>6</td>\n",
       "      <td>1.0</td>\n",
       "      <td>S367</td>\n",
       "      <td>N Rawiller</td>\n",
       "      <td>J Size</td>\n",
       "      <td>133.0</td>\n",
       "      <td>1125.0</td>\n",
       "      <td>1.0</td>\n",
       "      <td>2-1/4</td>\n",
       "      <td>1.0</td>\n",
       "      <td>1.0</td>\n",
       "      <td>6.0</td>\n",
       "      <td>NaN</td>\n",
       "      <td>1.10.92</td>\n",
       "      <td>2.9</td>\n",
       "      <td>NaN</td>\n",
       "      <td>NaN</td>\n",
       "      <td>2015-765</td>\n",
       "    </tr>\n",
       "    <tr>\n",
       "      <th>19840</th>\n",
       "      <td>7</td>\n",
       "      <td>1.0</td>\n",
       "      <td>S279</td>\n",
       "      <td>H W Lai</td>\n",
       "      <td>K L Man</td>\n",
       "      <td>132.0</td>\n",
       "      <td>1028.0</td>\n",
       "      <td>1.0</td>\n",
       "      <td>3</td>\n",
       "      <td>3.0</td>\n",
       "      <td>3.0</td>\n",
       "      <td>7.0</td>\n",
       "      <td>NaN</td>\n",
       "      <td>1.10.49</td>\n",
       "      <td>18.0</td>\n",
       "      <td>NaN</td>\n",
       "      <td>NaN</td>\n",
       "      <td>2015-773</td>\n",
       "    </tr>\n",
       "    <tr>\n",
       "      <th>19935</th>\n",
       "      <td>5</td>\n",
       "      <td>1.0</td>\n",
       "      <td>T421</td>\n",
       "      <td>H W Lai</td>\n",
       "      <td>W Y So</td>\n",
       "      <td>133.0</td>\n",
       "      <td>1060.0</td>\n",
       "      <td>1.0</td>\n",
       "      <td>3-3/4</td>\n",
       "      <td>4.0</td>\n",
       "      <td>3.0</td>\n",
       "      <td>4.0</td>\n",
       "      <td>5.0</td>\n",
       "      <td>1.22.05</td>\n",
       "      <td>5.9</td>\n",
       "      <td>NaN</td>\n",
       "      <td>NaN</td>\n",
       "      <td>2015-778</td>\n",
       "    </tr>\n",
       "  </tbody>\n",
       "</table>\n",
       "<p>124 rows × 18 columns</p>\n",
       "</div>"
      ],
      "text/plain": [
       "      finishing_position  horse_number horse_id       jockey       trainer  \\\n",
       "0                      1           1.0     K019    B Prebble        D Cruz   \n",
       "133                   13           1.0     N324    B Prebble        J Size   \n",
       "210                    7           1.0     P301   A Suborics      A S Cruz   \n",
       "405                    2           1.0     P425    J Moreira       S Woods   \n",
       "446                    9           1.0     P082       K C Ng       C H Yip   \n",
       "481                    6           1.0     M391      D Whyte       C H Yip   \n",
       "563                    9           1.0     S221   M Chadwick      A S Cruz   \n",
       "610                    1           1.0     S070      D Whyte  D E Ferraris   \n",
       "852                    2           1.0     N111     Z Purton  P O'Sullivan   \n",
       "1227                  11           1.0     S160   A Suborics      C S Shum   \n",
       "1544                   2           1.0     N342     N Callan      R Gibson   \n",
       "1795                   3           1.0     K288    O Doleuze      R Gibson   \n",
       "1882                   1           1.0     N409      G Mosse        T K Ng   \n",
       "2039                  14           1.0     S327    U Rispoli      R Gibson   \n",
       "2132                   3           1.0     P383     Z Purton       C H Yip   \n",
       "2231                  13           1.0     P248      D Whyte      D J Hall   \n",
       "2377                   2           1.0     N013      D Whyte      R Gibson   \n",
       "2450                   2           1.0     S044   N Rawiller      T P Yung   \n",
       "2551                  12           1.0     S189       T H So       S Woods   \n",
       "2682                  11           1.0     M163    K C Leung       S Woods   \n",
       "2707                   9           1.0     M331       C Y Ho      D J Hall   \n",
       "3296                  10           1.0     T162   N Rawiller       J Moore   \n",
       "3663                  13           1.0     S187     C K Tong      Y S Tsui   \n",
       "4026                   9           1.0     P189      D Whyte      T P Yung   \n",
       "4199                   1           1.0     T037       K C Ng       C H Yip   \n",
       "4355                   1           1.0     S143      D Whyte      A S Cruz   \n",
       "4456                DISQ           1.0     S145    J Moreira       J Moore   \n",
       "4457                   1           1.0     P018     Z Purton      C Fownes   \n",
       "4558                   7           1.0     S410    J Moreira       K W Lui   \n",
       "4773                   9           1.0     S409    O Doleuze      R Gibson   \n",
       "...                  ...           ...      ...          ...           ...   \n",
       "15101                  2           1.0     S379   N Rawiller        W Y So   \n",
       "15129                  2           1.0     S306  G Schofield      T P Yung   \n",
       "15302                  9           1.0     T236      R Moore      Y S Tsui   \n",
       "15388                  1           1.0     S269     Z Purton  P O'Sullivan   \n",
       "15436                  9           1.0     T274    B Prebble        W Y So   \n",
       "15625                 13           1.0     T065      R Moore       K L Man   \n",
       "16377                  4           1.0     N047   K K Chiong      T P Yung   \n",
       "16469                 13           1.0     V215   N Rawiller  P O'Sullivan   \n",
       "16548                  7           1.0     P439     N Callan      C Fownes   \n",
       "16632                 12           1.0     T350      D Whyte        J Size   \n",
       "16662                  5           1.0     T390      G Mosse       K L Man   \n",
       "16834                  2           1.0     P286    O Doleuze     C W Chang   \n",
       "16898                  3           1.0     V184       K C Ng      A S Cruz   \n",
       "16955                 14           1.0     S106   N Rawiller        T K Ng   \n",
       "17011                  1           1.0     S240   K K Chiong   A T Millard   \n",
       "17213                 10           1.0     S316     N Callan      D J Hall   \n",
       "17364                  5           1.0     S172       C Y Ho      Y S Tsui   \n",
       "17938                  5           1.0     T164     Z Purton      D J Hall   \n",
       "18023                  4           1.0     P190  C Schofield       C H Yip   \n",
       "18153                  3           1.0     V253      D Whyte       J Moore   \n",
       "18512                  5           1.0     V197   K K Chiong  D E Ferraris   \n",
       "18552                  2           1.0     T189   K K Chiong      A S Cruz   \n",
       "18619                  1           1.0     S337    J Moreira  D E Ferraris   \n",
       "18939                  2           1.0     S298     N Callan  D E Ferraris   \n",
       "19138                  5           1.0     T387     H N Wong        D Cruz   \n",
       "19553                  1           1.0     S352   M Chadwick      A S Cruz   \n",
       "19654                  3           1.0     T265    J Moreira      Y S Tsui   \n",
       "19743                  6           1.0     S367   N Rawiller        J Size   \n",
       "19840                  7           1.0     S279      H W Lai       K L Man   \n",
       "19935                  5           1.0     T421      H W Lai        W Y So   \n",
       "\n",
       "       actual_weight  declared_horse_weight  draw length_behind_winner  \\\n",
       "0              133.0                 1032.0   1.0                    -   \n",
       "133            133.0                 1211.0   1.0                    7   \n",
       "210            133.0                 1183.0   1.0                    5   \n",
       "405            133.0                 1100.0   1.0                    N   \n",
       "446            128.0                 1052.0   1.0                3-3/4   \n",
       "481            131.0                 1113.0   1.0                    2   \n",
       "563            133.0                 1087.0   1.0                3-3/4   \n",
       "610            133.0                 1074.0   1.0                    -   \n",
       "852            133.0                 1092.0   1.0                    1   \n",
       "1227           133.0                  997.0   1.0                   10   \n",
       "1544           133.0                 1105.0   1.0                  1/2   \n",
       "1795           133.0                 1113.0   1.0                1-1/4   \n",
       "1882           133.0                 1066.0   1.0                    -   \n",
       "2039           133.0                 1106.0   1.0               22-3/4   \n",
       "2132           133.0                 1028.0   1.0                2-3/4   \n",
       "2231           133.0                 1148.0   1.0                7-1/2   \n",
       "2377           133.0                 1029.0   1.0                   SH   \n",
       "2450           133.0                 1178.0   1.0                1-1/2   \n",
       "2551           129.0                 1014.0   1.0                    7   \n",
       "2682           127.0                 1157.0   1.0                9-3/4   \n",
       "2707           131.0                 1229.0   1.0                6-1/4   \n",
       "3296           133.0                 1039.0   1.0                3-3/4   \n",
       "3663           131.0                 1045.0   1.0               16-1/2   \n",
       "4026           133.0                 1097.0   1.0                4-1/2   \n",
       "4199           128.0                 1138.0   1.0                    -   \n",
       "4355           126.0                 1117.0   1.0                    -   \n",
       "4456           133.0                 1162.0   1.0                 +1/2   \n",
       "4457           133.0                 1128.0   1.0                    -   \n",
       "4558           133.0                 1134.0   1.0                1-3/4   \n",
       "4773           133.0                 1067.0   1.0                6-3/4   \n",
       "...              ...                    ...   ...                  ...   \n",
       "15101          133.0                 1006.0   1.0                    1   \n",
       "15129          133.0                 1076.0   1.0                    3   \n",
       "15302          133.0                 1141.0   1.0                    8   \n",
       "15388          133.0                 1099.0   1.0                    -   \n",
       "15436          133.0                 1097.0   1.0                    8   \n",
       "15625          133.0                 1185.0   1.0                    5   \n",
       "16377          123.0                 1070.0   1.0                  3/4   \n",
       "16469          133.0                 1174.0   1.0                9-1/4   \n",
       "16548          133.0                 1099.0   1.0                5-3/4   \n",
       "16632          132.0                  985.0   1.0                8-3/4   \n",
       "16662          133.0                 1011.0   1.0                3-1/4   \n",
       "16834          133.0                 1097.0   1.0                   SH   \n",
       "16898          128.0                 1191.0   1.0                3-1/2   \n",
       "16955          133.0                 1034.0   1.0               26-3/4   \n",
       "17011          123.0                 1159.0   1.0                    -   \n",
       "17213          133.0                 1090.0   1.0                    5   \n",
       "17364          131.0                 1142.0   1.0                2-1/2   \n",
       "17938          133.0                 1140.0   1.0                2-1/4   \n",
       "18023          133.0                 1033.0   1.0                1-1/2   \n",
       "18153          133.0                 1263.0   1.0                    1   \n",
       "18512          126.0                 1124.0   1.0                2-3/4   \n",
       "18552          126.0                 1088.0   1.0                  3/4   \n",
       "18619          133.0                 1176.0   1.0                    -   \n",
       "18939          133.0                 1111.0   1.0                    1   \n",
       "19138          126.0                 1107.0   1.0                    3   \n",
       "19553          133.0                 1073.0   1.0                    -   \n",
       "19654          133.0                  960.0   1.0                  1/2   \n",
       "19743          133.0                 1125.0   1.0                2-1/4   \n",
       "19840          132.0                 1028.0   1.0                    3   \n",
       "19935          133.0                 1060.0   1.0                3-3/4   \n",
       "\n",
       "       running_position_1  running_position_2  running_position_3  \\\n",
       "0                     1.0                 2.0                 2.0   \n",
       "133                  10.0                11.0                13.0   \n",
       "210                   2.0                 3.0                 7.0   \n",
       "405                   7.0                 8.0                 9.0   \n",
       "446                  10.0                13.0                 9.0   \n",
       "481                   9.0                 7.0                 7.0   \n",
       "563                   5.0                 7.0                 8.0   \n",
       "610                   9.0                 7.0                 6.0   \n",
       "852                   6.0                 6.0                 5.0   \n",
       "1227                  3.0                 2.0                11.0   \n",
       "1544                  3.0                 3.0                 2.0   \n",
       "1795                 10.0                10.0                 9.0   \n",
       "1882                 11.0                10.0                 1.0   \n",
       "2039                  1.0                 1.0                 2.0   \n",
       "2132                  3.0                 4.0                 4.0   \n",
       "2231                  1.0                 2.0                13.0   \n",
       "2377                  4.0                 3.0                 3.0   \n",
       "2450                  2.0                 2.0                 2.0   \n",
       "2551                  6.0                 7.0                 7.0   \n",
       "2682                 12.0                12.0                11.0   \n",
       "2707                 12.0                12.0                 9.0   \n",
       "3296                  8.0                 6.0                10.0   \n",
       "3663                  2.0                 1.0                 1.0   \n",
       "4026                  3.0                 4.0                 4.0   \n",
       "4199                  1.0                 1.0                 1.0   \n",
       "4355                  3.0                 3.0                 1.0   \n",
       "4456                  6.0                 4.0                 6.0   \n",
       "4457                  5.0                 5.0                 1.0   \n",
       "4558                  3.0                 5.0                 7.0   \n",
       "4773                  8.0                 9.0                 9.0   \n",
       "...                   ...                 ...                 ...   \n",
       "15101                 2.0                 4.0                 4.0   \n",
       "15129                 8.0                 9.0                 4.0   \n",
       "15302                 2.0                 1.0                 1.0   \n",
       "15388                 5.0                 3.0                 1.0   \n",
       "15436                 9.0                 9.0                 9.0   \n",
       "15625                 4.0                 3.0                 4.0   \n",
       "16377                 6.0                 6.0                 6.0   \n",
       "16469                 8.0                 9.0                13.0   \n",
       "16548                 9.0                 9.0                 8.0   \n",
       "16632                 3.0                 2.0                12.0   \n",
       "16662                 7.0                 7.0                 8.0   \n",
       "16834                 1.0                 1.0                 2.0   \n",
       "16898                 4.0                 3.0                 3.0   \n",
       "16955                11.0                12.0                14.0   \n",
       "17011                 1.0                 1.0                 1.0   \n",
       "17213                11.0                10.0                10.0   \n",
       "17364                 7.0                 6.0                 5.0   \n",
       "17938                 6.0                 4.0                 5.0   \n",
       "18023                 9.0                 8.0                 4.0   \n",
       "18153                 6.0                 5.0                 3.0   \n",
       "18512                 8.0                 6.0                 5.0   \n",
       "18552                 3.0                 1.0                 1.0   \n",
       "18619                 4.0                 4.0                 1.0   \n",
       "18939                 5.0                 5.0                 5.0   \n",
       "19138                 3.0                 3.0                 5.0   \n",
       "19553                 4.0                 4.0                 1.0   \n",
       "19654                 9.0                11.0                10.0   \n",
       "19743                 1.0                 1.0                 6.0   \n",
       "19840                 3.0                 3.0                 7.0   \n",
       "19935                 4.0                 3.0                 4.0   \n",
       "\n",
       "       running_position_4 finish_time  win_odds  running_position_5  \\\n",
       "0                     1.0     1.22.33       3.8                 NaN   \n",
       "133                   NaN     0.56.90      37.0                 NaN   \n",
       "210                   NaN     0.56.88      31.0                 NaN   \n",
       "405                   2.0     1.40.67       2.9                 NaN   \n",
       "446                   NaN     0.56.99      30.0                 NaN   \n",
       "481                   6.0     1.35.48       9.5                 NaN   \n",
       "563                   9.0     1.35.06       9.2                 NaN   \n",
       "610                   1.0     1.23.41       3.1                 NaN   \n",
       "852                   2.0     1.39.96       4.8                 NaN   \n",
       "1227                  NaN     1.11.81       7.8                 NaN   \n",
       "1544                  NaN     1.09.79       6.2                 NaN   \n",
       "1795                  8.0     1.49.27      14.0                 3.0   \n",
       "1882                  NaN     0.57.71       3.1                 NaN   \n",
       "2039                 14.0     1.38.50      45.0                 NaN   \n",
       "2132                  3.0     1.41.77       4.4                 NaN   \n",
       "2231                  NaN     1.09.87       9.0                 NaN   \n",
       "2377                  4.0     1.51.31       8.3                 2.0   \n",
       "2450                  2.0     1.21.54       8.4                 NaN   \n",
       "2551                 12.0     1.35.83      99.0                 NaN   \n",
       "2682                  NaN     1.09.88      88.0                 NaN   \n",
       "2707                  NaN     1.10.98      44.0                 NaN   \n",
       "3296                  NaN     1.10.24       7.7                 NaN   \n",
       "3663                  2.0     1.50.49      99.0                13.0   \n",
       "4026                  9.0     1.41.55       5.0                 NaN   \n",
       "4199                  NaN     0.57.19       3.4                 NaN   \n",
       "4355                  NaN     0.55.49       1.8                 NaN   \n",
       "4456                  6.0     1.48.42       3.1                 1.0   \n",
       "4457                  NaN     0.57.10       3.0                 NaN   \n",
       "4558                  NaN     1.11.27       8.6                 NaN   \n",
       "4773                  NaN     1.10.09      11.0                 NaN   \n",
       "...                   ...         ...       ...                 ...   \n",
       "15101                 3.0     1.48.58       3.9                 2.0   \n",
       "15129                 2.0     1.39.63      14.0                 NaN   \n",
       "15302                 9.0     1.35.94      13.0                 NaN   \n",
       "15388                 NaN     1.09.56       2.6                 NaN   \n",
       "15436                 NaN     1.11.72      39.0                 NaN   \n",
       "15625                13.0     1.36.70       9.6                 NaN   \n",
       "16377                 4.0     1.42.21       5.3                 NaN   \n",
       "16469                 NaN     1.11.45      99.0                 NaN   \n",
       "16548                 7.0     2.02.94      48.0                 7.0   \n",
       "16632                 NaN     1.12.07       9.3                 NaN   \n",
       "16662                 5.0     1.40.24       7.0                 NaN   \n",
       "16834                 4.0     1.51.42       6.0                 2.0   \n",
       "16898                 3.0     1.39.31      16.0                 NaN   \n",
       "16955                14.0     1.26.71      99.0                 NaN   \n",
       "17011                 NaN     0.57.05       5.7                 NaN   \n",
       "17213                 NaN     0.56.33      21.0                 NaN   \n",
       "17364                 NaN     0.57.64      52.0                 NaN   \n",
       "17938                 NaN     1.09.64       9.8                 NaN   \n",
       "18023                 NaN     1.10.49       9.9                 NaN   \n",
       "18153                 NaN     1.09.52      14.0                 NaN   \n",
       "18512                 NaN     0.56.51      10.0                 NaN   \n",
       "18552                 2.0     1.21.82       3.7                 NaN   \n",
       "18619                 NaN     1.10.28       2.7                 NaN   \n",
       "18939                 2.0     1.40.77       6.3                 NaN   \n",
       "19138                 NaN     1.11.49       6.1                 NaN   \n",
       "19553                 NaN     1.08.50      14.0                 NaN   \n",
       "19654                 3.0     1.21.99       4.2                 NaN   \n",
       "19743                 NaN     1.10.92       2.9                 NaN   \n",
       "19840                 NaN     1.10.49      18.0                 NaN   \n",
       "19935                 5.0     1.22.05       5.9                 NaN   \n",
       "\n",
       "       running_position_6   race_id  \n",
       "0                     NaN  2014-001  \n",
       "133                   NaN  2014-009  \n",
       "210                   NaN  2014-017  \n",
       "405                   NaN  2014-034  \n",
       "446                   NaN  2014-037  \n",
       "481                   NaN  2014-039  \n",
       "563                   NaN  2014-045  \n",
       "610                   NaN  2014-050  \n",
       "852                   NaN  2014-071  \n",
       "1227                  NaN  2014-099  \n",
       "1544                  NaN  2014-126  \n",
       "1795                  NaN  2014-144  \n",
       "1882                  NaN  2014-152  \n",
       "2039                  NaN  2014-162  \n",
       "2132                  NaN  2014-171  \n",
       "2231                  NaN  2014-186  \n",
       "2377                  NaN  2014-190  \n",
       "2450                  NaN  2014-204  \n",
       "2551                  NaN  2014-202  \n",
       "2682                  NaN  2014-222  \n",
       "2707                  NaN  2014-214  \n",
       "3296                  NaN  2014-270  \n",
       "3663                  NaN  2014-288  \n",
       "4026                  NaN  2014-318  \n",
       "4199                  NaN  2014-332  \n",
       "4355                  NaN  2014-343  \n",
       "4456                  NaN  2014-352  \n",
       "4457                  NaN  2014-353  \n",
       "4558                  NaN  2014-359  \n",
       "4773                  NaN  2014-376  \n",
       "...                   ...       ...  \n",
       "15101                 NaN  2015-401  \n",
       "15129                 NaN  2015-403  \n",
       "15302                 NaN  2015-425  \n",
       "15388                 NaN  2015-423  \n",
       "15436                 NaN  2015-427  \n",
       "15625                 NaN  2015-441  \n",
       "16377                 NaN  2015-502  \n",
       "16469                 NaN  2015-517  \n",
       "16548                 NaN  2015-513  \n",
       "16632                 NaN  2015-521  \n",
       "16662                 NaN  2015-524  \n",
       "16834                 NaN  2015-538  \n",
       "16898                 NaN  2015-543  \n",
       "16955                 NaN  2015-555  \n",
       "17011                 NaN  2015-550  \n",
       "17213                 NaN  2015-567  \n",
       "17364                 NaN  2015-580  \n",
       "17938                 NaN  2015-625  \n",
       "18023                 NaN  2015-633  \n",
       "18153                 NaN  2015-642  \n",
       "18512                 NaN  2015-670  \n",
       "18552                 NaN  2015-673  \n",
       "18619                 NaN  2015-679  \n",
       "18939                 NaN  2015-703  \n",
       "19138                 NaN  2015-719  \n",
       "19553                 NaN  2015-751  \n",
       "19654                 NaN  2015-757  \n",
       "19743                 NaN  2015-765  \n",
       "19840                 NaN  2015-773  \n",
       "19935                 NaN  2015-778  \n",
       "\n",
       "[124 rows x 18 columns]"
      ]
     },
     "execution_count": 8,
     "metadata": {},
     "output_type": "execute_result"
    }
   ],
   "source": [
    "temp=df1[(df1['horse_number']==1)&(df1['draw']==1)]\n",
    "temp"
   ]
  },
  {
   "cell_type": "code",
   "execution_count": 9,
   "metadata": {
    "collapsed": false
   },
   "outputs": [
    {
     "name": "stdout",
     "output_type": "stream",
     "text": [
      "(124,)\n",
      "The possibility of horse_numer is 1 whose draw is also 1 is 0.07943625880845612\n"
     ]
    }
   ],
   "source": [
    "# It appears out of 1561 races, there are 124 cases in which horse_num ==1 & draw ==1\n",
    "print(temp.race_id.unique().shape)\n",
    "print('The possibility of horse_numer is 1 whose draw is also 1 is',\n",
    "     temp.race_id.unique().shape[0]/df1.race_id.unique().shape[0])"
   ]
  },
  {
   "cell_type": "markdown",
   "metadata": {},
   "source": [
    "## In these 124 cases where there is the apparent advantage, can they always win?"
   ]
  },
  {
   "cell_type": "code",
   "execution_count": 10,
   "metadata": {
    "collapsed": false,
    "scrolled": true
   },
   "outputs": [
    {
     "name": "stdout",
     "output_type": "stream",
     "text": [
      "['1', '13', '7', '2', '9', '6', '11', '3', '14', '12', '10', 'DISQ', '5', '8', '4', 'UR', '6 DH']\n",
      "['1', '2', '3', '4', '5', '6', '6 DH', '7', '8', '9', '10', '11', '12', '13', '14', 'DISQ', 'UR']\n"
     ]
    }
   ],
   "source": [
    "# I don't know how to sort a list like this so I'm mannually reordering this list\n",
    "finishing_position=temp['finishing_position'].unique().tolist()\n",
    "print(finishing_position)\n",
    "finishing_position=['1','2','3','4','5','6','6 DH','7','8','9','10','11','12','13','14','DISQ','UR']\n",
    "print(finishing_position)"
   ]
  },
  {
   "cell_type": "code",
   "execution_count": 11,
   "metadata": {
    "collapsed": false
   },
   "outputs": [
    {
     "name": "stdout",
     "output_type": "stream",
     "text": [
      "[17, 17, 12, 6, 17, 9, 1, 4, 8, 12, 6, 2, 3, 5, 3, 1, 1]\n"
     ]
    }
   ],
   "source": [
    "frequency=[]\n",
    "for i in finishing_position:\n",
    "    a=sum(temp.finishing_position==i)\n",
    "    frequency.append(a)\n",
    "print(frequency)"
   ]
  },
  {
   "cell_type": "code",
   "execution_count": 12,
   "metadata": {
    "collapsed": false
   },
   "outputs": [
    {
     "name": "stdout",
     "output_type": "stream",
     "text": [
      "['%13.71', '%13.71', '%9.68', '%4.84', '%13.71', '%7.26', '%0.81', '%3.23', '%6.45', '%9.68', '%4.84', '%1.61', '%2.42', '%4.03', '%2.42', '%0.81', '%0.81']\n"
     ]
    }
   ],
   "source": [
    "density=[]\n",
    "for i in frequency:\n",
    "    a=i/124\n",
    "    density.append('%'+str(round((a*100),2)))\n",
    "print(density)"
   ]
  },
  {
   "cell_type": "code",
   "execution_count": 13,
   "metadata": {
    "collapsed": false
   },
   "outputs": [
    {
     "data": {
      "text/plain": [
       "'Wow,even with an obvious advantage, these horses do not nescessarily win. The 1st and 2nd place only account for\\n  13.71% * 2=27.42%, meaning that we still have more than 70% chance of losing our bet if we simply think\\n  best horse + best draw = winning.'"
      ]
     },
     "execution_count": 13,
     "metadata": {},
     "output_type": "execute_result"
    },
    {
     "data": {
      "image/png": "[encoded data removed]",
      "text/plain": [
       "<matplotlib.figure.Figure at 0x1043493c8>"
      ]
     },
     "metadata": {},
     "output_type": "display_data"
    }
   ],
   "source": [
    "fig, ax = plt.subplots(figsize=(12, 10))\n",
    "rects = ax.bar(range(len(finishing_position)),frequency,align='center',alpha=0.9,width=0.8,color='#624ea7')\n",
    "plt.xticks(range(len(finishing_position)), finishing_position)\n",
    "plt.yticks(range(0,20,1))\n",
    "pass\n",
    "\n",
    "def autolabel(rects):\n",
    "    x=iter(density)\n",
    "    for rect in rects:\n",
    "        height = rect.get_height()\n",
    "        ax.text(rect.get_x() + rect.get_width()/2., 1.05*height,\n",
    "                next(x),\n",
    "                ha='center', va='bottom')\n",
    "\n",
    "autolabel(rects)\n",
    "\n",
    "'''Wow,even with an obvious advantage, these horses do not nescessarily win. The 1st and 2nd place only account for\n",
    "  13.71% * 2=27.42%, meaning that we still have more than 70% chance of losing our bet if we simply think\n",
    "  best horse + best draw = winning.'''"
   ]
  },
  {
   "cell_type": "markdown",
   "metadata": {},
   "source": [
    "# Part II : Model Construction"
   ]
  },
  {
   "cell_type": "markdown",
   "metadata": {},
   "source": [
    "## Now let's merge the ds on race_id and run a RandomForest to detect feature importance"
   ]
  },
  {
   "cell_type": "code",
   "execution_count": 14,
   "metadata": {
    "collapsed": true
   },
   "outputs": [],
   "source": [
    "df3=pd.merge(df1,df2,on='race_id')"
   ]
  },
  {
   "cell_type": "code",
   "execution_count": 133,
   "metadata": {
    "collapsed": false,
    "scrolled": true
   },
   "outputs": [
    {
     "data": {
      "text/html": [
       "<div>\n",
       "<table border=\"1\" class=\"dataframe\">\n",
       "  <thead>\n",
       "    <tr style=\"text-align: right;\">\n",
       "      <th></th>\n",
       "      <th>0</th>\n",
       "      <th>1</th>\n",
       "    </tr>\n",
       "  </thead>\n",
       "  <tbody>\n",
       "    <tr>\n",
       "      <th>finishing_position</th>\n",
       "      <td>1</td>\n",
       "      <td>2</td>\n",
       "    </tr>\n",
       "    <tr>\n",
       "      <th>horse_number</th>\n",
       "      <td>1</td>\n",
       "      <td>2</td>\n",
       "    </tr>\n",
       "    <tr>\n",
       "      <th>horse_id</th>\n",
       "      <td>K019</td>\n",
       "      <td>S070</td>\n",
       "    </tr>\n",
       "    <tr>\n",
       "      <th>jockey</th>\n",
       "      <td>B Prebble</td>\n",
       "      <td>D Whyte</td>\n",
       "    </tr>\n",
       "    <tr>\n",
       "      <th>trainer</th>\n",
       "      <td>D Cruz</td>\n",
       "      <td>D E Ferraris</td>\n",
       "    </tr>\n",
       "    <tr>\n",
       "      <th>actual_weight</th>\n",
       "      <td>133</td>\n",
       "      <td>133</td>\n",
       "    </tr>\n",
       "    <tr>\n",
       "      <th>declared_horse_weight</th>\n",
       "      <td>1032</td>\n",
       "      <td>1075</td>\n",
       "    </tr>\n",
       "    <tr>\n",
       "      <th>draw</th>\n",
       "      <td>1</td>\n",
       "      <td>13</td>\n",
       "    </tr>\n",
       "    <tr>\n",
       "      <th>length_behind_winner</th>\n",
       "      <td>-</td>\n",
       "      <td>2</td>\n",
       "    </tr>\n",
       "    <tr>\n",
       "      <th>running_position_1</th>\n",
       "      <td>1</td>\n",
       "      <td>8</td>\n",
       "    </tr>\n",
       "    <tr>\n",
       "      <th>running_position_2</th>\n",
       "      <td>2</td>\n",
       "      <td>9</td>\n",
       "    </tr>\n",
       "    <tr>\n",
       "      <th>running_position_3</th>\n",
       "      <td>2</td>\n",
       "      <td>9</td>\n",
       "    </tr>\n",
       "    <tr>\n",
       "      <th>running_position_4</th>\n",
       "      <td>1</td>\n",
       "      <td>2</td>\n",
       "    </tr>\n",
       "    <tr>\n",
       "      <th>finish_time</th>\n",
       "      <td>1.22.33</td>\n",
       "      <td>1.22.65</td>\n",
       "    </tr>\n",
       "    <tr>\n",
       "      <th>win_odds</th>\n",
       "      <td>3.8</td>\n",
       "      <td>8</td>\n",
       "    </tr>\n",
       "    <tr>\n",
       "      <th>running_position_5</th>\n",
       "      <td>NaN</td>\n",
       "      <td>NaN</td>\n",
       "    </tr>\n",
       "    <tr>\n",
       "      <th>running_position_6</th>\n",
       "      <td>NaN</td>\n",
       "      <td>NaN</td>\n",
       "    </tr>\n",
       "    <tr>\n",
       "      <th>race_id</th>\n",
       "      <td>2014-001</td>\n",
       "      <td>2014-001</td>\n",
       "    </tr>\n",
       "    <tr>\n",
       "      <th>race_date</th>\n",
       "      <td>2014-09-14</td>\n",
       "      <td>2014-09-14</td>\n",
       "    </tr>\n",
       "    <tr>\n",
       "      <th>race_course</th>\n",
       "      <td>Sha Tin</td>\n",
       "      <td>Sha Tin</td>\n",
       "    </tr>\n",
       "    <tr>\n",
       "      <th>race_number</th>\n",
       "      <td>1</td>\n",
       "      <td>1</td>\n",
       "    </tr>\n",
       "    <tr>\n",
       "      <th>race_class</th>\n",
       "      <td>Class 5</td>\n",
       "      <td>Class 5</td>\n",
       "    </tr>\n",
       "    <tr>\n",
       "      <th>race_distance</th>\n",
       "      <td>1400</td>\n",
       "      <td>1400</td>\n",
       "    </tr>\n",
       "    <tr>\n",
       "      <th>track_condition</th>\n",
       "      <td>GOOD TO FIRM</td>\n",
       "      <td>GOOD TO FIRM</td>\n",
       "    </tr>\n",
       "    <tr>\n",
       "      <th>race_name</th>\n",
       "      <td>TIM WA HANDICAP</td>\n",
       "      <td>TIM WA HANDICAP</td>\n",
       "    </tr>\n",
       "    <tr>\n",
       "      <th>track</th>\n",
       "      <td>TURF - \"A\" COURSE</td>\n",
       "      <td>TURF - \"A\" COURSE</td>\n",
       "    </tr>\n",
       "    <tr>\n",
       "      <th>sectional_time</th>\n",
       "      <td>13.59 22.08 23.11 23.55</td>\n",
       "      <td>13.59 22.08 23.11 23.55</td>\n",
       "    </tr>\n",
       "    <tr>\n",
       "      <th>incident_report</th>\n",
       "      <td>\\n                When about to enter the trac...</td>\n",
       "      <td>\\n                When about to enter the trac...</td>\n",
       "    </tr>\n",
       "  </tbody>\n",
       "</table>\n",
       "</div>"
      ],
      "text/plain": [
       "                                                                       0  \\\n",
       "finishing_position                                                     1   \n",
       "horse_number                                                           1   \n",
       "horse_id                                                            K019   \n",
       "jockey                                                         B Prebble   \n",
       "trainer                                                           D Cruz   \n",
       "actual_weight                                                        133   \n",
       "declared_horse_weight                                               1032   \n",
       "draw                                                                   1   \n",
       "length_behind_winner                                                   -   \n",
       "running_position_1                                                     1   \n",
       "running_position_2                                                     2   \n",
       "running_position_3                                                     2   \n",
       "running_position_4                                                     1   \n",
       "finish_time                                                      1.22.33   \n",
       "win_odds                                                             3.8   \n",
       "running_position_5                                                   NaN   \n",
       "running_position_6                                                   NaN   \n",
       "race_id                                                         2014-001   \n",
       "race_date                                                     2014-09-14   \n",
       "race_course                                                      Sha Tin   \n",
       "race_number                                                            1   \n",
       "race_class                                                       Class 5   \n",
       "race_distance                                                       1400   \n",
       "track_condition                                             GOOD TO FIRM   \n",
       "race_name                                                TIM WA HANDICAP   \n",
       "track                                                  TURF - \"A\" COURSE   \n",
       "sectional_time                                   13.59 22.08 23.11 23.55   \n",
       "incident_report        \\n                When about to enter the trac...   \n",
       "\n",
       "                                                                       1  \n",
       "finishing_position                                                     2  \n",
       "horse_number                                                           2  \n",
       "horse_id                                                            S070  \n",
       "jockey                                                           D Whyte  \n",
       "trainer                                                     D E Ferraris  \n",
       "actual_weight                                                        133  \n",
       "declared_horse_weight                                               1075  \n",
       "draw                                                                  13  \n",
       "length_behind_winner                                                   2  \n",
       "running_position_1                                                     8  \n",
       "running_position_2                                                     9  \n",
       "running_position_3                                                     9  \n",
       "running_position_4                                                     2  \n",
       "finish_time                                                      1.22.65  \n",
       "win_odds                                                               8  \n",
       "running_position_5                                                   NaN  \n",
       "running_position_6                                                   NaN  \n",
       "race_id                                                         2014-001  \n",
       "race_date                                                     2014-09-14  \n",
       "race_course                                                      Sha Tin  \n",
       "race_number                                                            1  \n",
       "race_class                                                       Class 5  \n",
       "race_distance                                                       1400  \n",
       "track_condition                                             GOOD TO FIRM  \n",
       "race_name                                                TIM WA HANDICAP  \n",
       "track                                                  TURF - \"A\" COURSE  \n",
       "sectional_time                                   13.59 22.08 23.11 23.55  \n",
       "incident_report        \\n                When about to enter the trac...  "
      ]
     },
     "execution_count": 133,
     "metadata": {},
     "output_type": "execute_result"
    }
   ],
   "source": [
    "df3.head(2).transpose()"
   ]
  },
  {
   "cell_type": "code",
   "execution_count": 16,
   "metadata": {
    "collapsed": false
   },
   "outputs": [
    {
     "data": {
      "text/plain": [
       "array(['1', '2', '3', '4', '5', '6', '7', '8', '9', '10', '11', '12', '13',\n",
       "       'WV-A', '14', 'WV', '9 DH', '2 DH', 'WX', 'PU', '1 DH', '8 DH',\n",
       "       'UR', 'FE', '4 DH', '10 DH', 'TNP', '5 DH', 'DISQ', '11 DH',\n",
       "       '12 DH', '3 DH', '7 DH', 'WX-A', 'DNF', '6 DH', nan], dtype=object)"
      ]
     },
     "execution_count": 16,
     "metadata": {},
     "output_type": "execute_result"
    }
   ],
   "source": [
    "df3.finishing_position.unique()"
   ]
  },
  {
   "cell_type": "code",
   "execution_count": 17,
   "metadata": {
    "collapsed": false,
    "scrolled": true
   },
   "outputs": [
    {
     "data": {
      "text/html": [
       "<div>\n",
       "<table border=\"1\" class=\"dataframe\">\n",
       "  <thead>\n",
       "    <tr style=\"text-align: right;\">\n",
       "      <th></th>\n",
       "      <th>finishing_position</th>\n",
       "      <th>horse_number</th>\n",
       "      <th>horse_id</th>\n",
       "      <th>jockey</th>\n",
       "      <th>trainer</th>\n",
       "      <th>actual_weight</th>\n",
       "      <th>declared_horse_weight</th>\n",
       "      <th>draw</th>\n",
       "      <th>length_behind_winner</th>\n",
       "      <th>running_position_1</th>\n",
       "      <th>...</th>\n",
       "      <th>race_date</th>\n",
       "      <th>race_course</th>\n",
       "      <th>race_number</th>\n",
       "      <th>race_class</th>\n",
       "      <th>race_distance</th>\n",
       "      <th>track_condition</th>\n",
       "      <th>race_name</th>\n",
       "      <th>track</th>\n",
       "      <th>sectional_time</th>\n",
       "      <th>incident_report</th>\n",
       "    </tr>\n",
       "  </thead>\n",
       "  <tbody>\n",
       "    <tr>\n",
       "      <th>13653</th>\n",
       "      <td>1</td>\n",
       "      <td>12.0</td>\n",
       "      <td>S246</td>\n",
       "      <td>N Callan</td>\n",
       "      <td>C Fownes</td>\n",
       "      <td>123.0</td>\n",
       "      <td>990.0</td>\n",
       "      <td>3.0</td>\n",
       "      <td>-</td>\n",
       "      <td>4.0</td>\n",
       "      <td>...</td>\n",
       "      <td>2016-01-01</td>\n",
       "      <td>Sha Tin</td>\n",
       "      <td>1</td>\n",
       "      <td>Class 5</td>\n",
       "      <td>1400</td>\n",
       "      <td>GOOD</td>\n",
       "      <td>WONG LENG HANDICAP</td>\n",
       "      <td>TURF - \"B+2\" COURSE</td>\n",
       "      <td>13.79 22.14 23.49 23.88</td>\n",
       "      <td>\\n                As the start was effected, D...</td>\n",
       "    </tr>\n",
       "    <tr>\n",
       "      <th>13654</th>\n",
       "      <td>2</td>\n",
       "      <td>11.0</td>\n",
       "      <td>S193</td>\n",
       "      <td>K C Leung</td>\n",
       "      <td>L Ho</td>\n",
       "      <td>121.0</td>\n",
       "      <td>1045.0</td>\n",
       "      <td>10.0</td>\n",
       "      <td>HD</td>\n",
       "      <td>10.0</td>\n",
       "      <td>...</td>\n",
       "      <td>2016-01-01</td>\n",
       "      <td>Sha Tin</td>\n",
       "      <td>1</td>\n",
       "      <td>Class 5</td>\n",
       "      <td>1400</td>\n",
       "      <td>GOOD</td>\n",
       "      <td>WONG LENG HANDICAP</td>\n",
       "      <td>TURF - \"B+2\" COURSE</td>\n",
       "      <td>13.79 22.14 23.49 23.88</td>\n",
       "      <td>\\n                As the start was effected, D...</td>\n",
       "    </tr>\n",
       "    <tr>\n",
       "      <th>13655</th>\n",
       "      <td>3</td>\n",
       "      <td>1.0</td>\n",
       "      <td>T063</td>\n",
       "      <td>H W Lai</td>\n",
       "      <td>A Lee</td>\n",
       "      <td>132.0</td>\n",
       "      <td>1172.0</td>\n",
       "      <td>14.0</td>\n",
       "      <td>N</td>\n",
       "      <td>8.0</td>\n",
       "      <td>...</td>\n",
       "      <td>2016-01-01</td>\n",
       "      <td>Sha Tin</td>\n",
       "      <td>1</td>\n",
       "      <td>Class 5</td>\n",
       "      <td>1400</td>\n",
       "      <td>GOOD</td>\n",
       "      <td>WONG LENG HANDICAP</td>\n",
       "      <td>TURF - \"B+2\" COURSE</td>\n",
       "      <td>13.79 22.14 23.49 23.88</td>\n",
       "      <td>\\n                As the start was effected, D...</td>\n",
       "    </tr>\n",
       "  </tbody>\n",
       "</table>\n",
       "<p>3 rows × 28 columns</p>\n",
       "</div>"
      ],
      "text/plain": [
       "      finishing_position  horse_number horse_id     jockey   trainer  \\\n",
       "13653                  1          12.0     S246   N Callan  C Fownes   \n",
       "13654                  2          11.0     S193  K C Leung      L Ho   \n",
       "13655                  3           1.0     T063    H W Lai     A Lee   \n",
       "\n",
       "       actual_weight  declared_horse_weight  draw length_behind_winner  \\\n",
       "13653          123.0                  990.0   3.0                    -   \n",
       "13654          121.0                 1045.0  10.0                   HD   \n",
       "13655          132.0                 1172.0  14.0                    N   \n",
       "\n",
       "       running_position_1                        ...                          \\\n",
       "13653                 4.0                        ...                           \n",
       "13654                10.0                        ...                           \n",
       "13655                 8.0                        ...                           \n",
       "\n",
       "        race_date  race_course  race_number race_class  race_distance  \\\n",
       "13653  2016-01-01      Sha Tin            1    Class 5           1400   \n",
       "13654  2016-01-01      Sha Tin            1    Class 5           1400   \n",
       "13655  2016-01-01      Sha Tin            1    Class 5           1400   \n",
       "\n",
       "       track_condition           race_name                track  \\\n",
       "13653             GOOD  WONG LENG HANDICAP  TURF - \"B+2\" COURSE   \n",
       "13654             GOOD  WONG LENG HANDICAP  TURF - \"B+2\" COURSE   \n",
       "13655             GOOD  WONG LENG HANDICAP  TURF - \"B+2\" COURSE   \n",
       "\n",
       "                sectional_time  \\\n",
       "13653  13.79 22.14 23.49 23.88   \n",
       "13654  13.79 22.14 23.49 23.88   \n",
       "13655  13.79 22.14 23.49 23.88   \n",
       "\n",
       "                                         incident_report  \n",
       "13653  \\n                As the start was effected, D...  \n",
       "13654  \\n                As the start was effected, D...  \n",
       "13655  \\n                As the start was effected, D...  \n",
       "\n",
       "[3 rows x 28 columns]"
      ]
     },
     "execution_count": 17,
     "metadata": {},
     "output_type": "execute_result"
    }
   ],
   "source": [
    "# I'm selecting out all the 2016 data as my test set, all the rest of my data as my training set.\n",
    "date=[]\n",
    "for i in df3.race_date:\n",
    "    if '2016' in i:\n",
    "        date.append(i)\n",
    "\n",
    "# Now df_2016 is my test set\n",
    "df_2016=df3.loc[df3['race_date'].isin(date)]\n",
    "df_2016.head(3)"
   ]
  },
  {
   "cell_type": "code",
   "execution_count": null,
   "metadata": {
    "collapsed": false
   },
   "outputs": [],
   "source": [
    "# Now I know in the orignial dataframe df3, all the 2016 data are contained in row 13653 all the way till the end.\n",
    "# I can use these index to divide up my training and test set later when I finish transforming categorical data.\n",
    "for i in df_2016.index.values:\n",
    "    print(i)"
   ]
  },
  {
   "cell_type": "code",
   "execution_count": 19,
   "metadata": {
    "collapsed": false,
    "scrolled": true
   },
   "outputs": [
    {
     "data": {
      "text/html": [
       "<div>\n",
       "<table border=\"1\" class=\"dataframe\">\n",
       "  <thead>\n",
       "    <tr style=\"text-align: right;\">\n",
       "      <th></th>\n",
       "      <th>finishing_position</th>\n",
       "      <th>horse_number</th>\n",
       "      <th>horse_id</th>\n",
       "      <th>jockey</th>\n",
       "      <th>trainer</th>\n",
       "      <th>actual_weight</th>\n",
       "      <th>declared_horse_weight</th>\n",
       "      <th>draw</th>\n",
       "      <th>length_behind_winner</th>\n",
       "      <th>running_position_1</th>\n",
       "      <th>...</th>\n",
       "      <th>race_date</th>\n",
       "      <th>race_course</th>\n",
       "      <th>race_number</th>\n",
       "      <th>race_class</th>\n",
       "      <th>race_distance</th>\n",
       "      <th>track_condition</th>\n",
       "      <th>race_name</th>\n",
       "      <th>track</th>\n",
       "      <th>sectional_time</th>\n",
       "      <th>incident_report</th>\n",
       "    </tr>\n",
       "  </thead>\n",
       "  <tbody>\n",
       "    <tr>\n",
       "      <th>0</th>\n",
       "      <td>1</td>\n",
       "      <td>1.0</td>\n",
       "      <td>K019</td>\n",
       "      <td>B Prebble</td>\n",
       "      <td>D Cruz</td>\n",
       "      <td>133.0</td>\n",
       "      <td>1032.0</td>\n",
       "      <td>1.0</td>\n",
       "      <td>-</td>\n",
       "      <td>1.0</td>\n",
       "      <td>...</td>\n",
       "      <td>2014-09-14</td>\n",
       "      <td>Sha Tin</td>\n",
       "      <td>1</td>\n",
       "      <td>Class 5</td>\n",
       "      <td>1400</td>\n",
       "      <td>GOOD TO FIRM</td>\n",
       "      <td>TIM WA HANDICAP</td>\n",
       "      <td>TURF - \"A\" COURSE</td>\n",
       "      <td>13.59 22.08 23.11 23.55</td>\n",
       "      <td>\\n                When about to enter the trac...</td>\n",
       "    </tr>\n",
       "    <tr>\n",
       "      <th>1</th>\n",
       "      <td>2</td>\n",
       "      <td>2.0</td>\n",
       "      <td>S070</td>\n",
       "      <td>D Whyte</td>\n",
       "      <td>D E Ferraris</td>\n",
       "      <td>133.0</td>\n",
       "      <td>1075.0</td>\n",
       "      <td>13.0</td>\n",
       "      <td>2</td>\n",
       "      <td>8.0</td>\n",
       "      <td>...</td>\n",
       "      <td>2014-09-14</td>\n",
       "      <td>Sha Tin</td>\n",
       "      <td>1</td>\n",
       "      <td>Class 5</td>\n",
       "      <td>1400</td>\n",
       "      <td>GOOD TO FIRM</td>\n",
       "      <td>TIM WA HANDICAP</td>\n",
       "      <td>TURF - \"A\" COURSE</td>\n",
       "      <td>13.59 22.08 23.11 23.55</td>\n",
       "      <td>\\n                When about to enter the trac...</td>\n",
       "    </tr>\n",
       "    <tr>\n",
       "      <th>2</th>\n",
       "      <td>3</td>\n",
       "      <td>10.0</td>\n",
       "      <td>P072</td>\n",
       "      <td>Y T Cheng</td>\n",
       "      <td>Y S Tsui</td>\n",
       "      <td>121.0</td>\n",
       "      <td>1065.0</td>\n",
       "      <td>3.0</td>\n",
       "      <td>2</td>\n",
       "      <td>2.0</td>\n",
       "      <td>...</td>\n",
       "      <td>2014-09-14</td>\n",
       "      <td>Sha Tin</td>\n",
       "      <td>1</td>\n",
       "      <td>Class 5</td>\n",
       "      <td>1400</td>\n",
       "      <td>GOOD TO FIRM</td>\n",
       "      <td>TIM WA HANDICAP</td>\n",
       "      <td>TURF - \"A\" COURSE</td>\n",
       "      <td>13.59 22.08 23.11 23.55</td>\n",
       "      <td>\\n                When about to enter the trac...</td>\n",
       "    </tr>\n",
       "  </tbody>\n",
       "</table>\n",
       "<p>3 rows × 28 columns</p>\n",
       "</div>"
      ],
      "text/plain": [
       "  finishing_position  horse_number horse_id     jockey       trainer  \\\n",
       "0                  1           1.0     K019  B Prebble        D Cruz   \n",
       "1                  2           2.0     S070    D Whyte  D E Ferraris   \n",
       "2                  3          10.0     P072  Y T Cheng      Y S Tsui   \n",
       "\n",
       "   actual_weight  declared_horse_weight  draw length_behind_winner  \\\n",
       "0          133.0                 1032.0   1.0                    -   \n",
       "1          133.0                 1075.0  13.0                    2   \n",
       "2          121.0                 1065.0   3.0                    2   \n",
       "\n",
       "   running_position_1                        ...                          \\\n",
       "0                 1.0                        ...                           \n",
       "1                 8.0                        ...                           \n",
       "2                 2.0                        ...                           \n",
       "\n",
       "    race_date  race_course  race_number race_class  race_distance  \\\n",
       "0  2014-09-14      Sha Tin            1    Class 5           1400   \n",
       "1  2014-09-14      Sha Tin            1    Class 5           1400   \n",
       "2  2014-09-14      Sha Tin            1    Class 5           1400   \n",
       "\n",
       "   track_condition        race_name              track  \\\n",
       "0     GOOD TO FIRM  TIM WA HANDICAP  TURF - \"A\" COURSE   \n",
       "1     GOOD TO FIRM  TIM WA HANDICAP  TURF - \"A\" COURSE   \n",
       "2     GOOD TO FIRM  TIM WA HANDICAP  TURF - \"A\" COURSE   \n",
       "\n",
       "            sectional_time                                    incident_report  \n",
       "0  13.59 22.08 23.11 23.55  \\n                When about to enter the trac...  \n",
       "1  13.59 22.08 23.11 23.55  \\n                When about to enter the trac...  \n",
       "2  13.59 22.08 23.11 23.55  \\n                When about to enter the trac...  \n",
       "\n",
       "[3 rows x 28 columns]"
      ]
     },
     "execution_count": 19,
     "metadata": {},
     "output_type": "execute_result"
    }
   ],
   "source": [
    "# df_ow is my training set which contains everything besides the 2016 data\n",
    "df_ow=df3.loc[~df3['race_date'].isin(date)]\n",
    "df_ow.head(3)"
   ]
  },
  {
   "cell_type": "code",
   "execution_count": 20,
   "metadata": {
    "collapsed": false
   },
   "outputs": [
    {
     "data": {
      "text/plain": [
       "array([13653, 13654, 13655, ..., 19993, 19994, 19995])"
      ]
     },
     "execution_count": 20,
     "metadata": {},
     "output_type": "execute_result"
    }
   ],
   "source": [
    "index_testset=df_2016.index.values\n",
    "index_testset"
   ]
  },
  {
   "cell_type": "code",
   "execution_count": 21,
   "metadata": {
    "collapsed": false,
    "scrolled": true
   },
   "outputs": [
    {
     "data": {
      "text/plain": [
       "array([    0,     1,     2, ..., 13650, 13651, 13652])"
      ]
     },
     "execution_count": 21,
     "metadata": {},
     "output_type": "execute_result"
    }
   ],
   "source": [
    "index_trainingset=df_ow.index.values\n",
    "index_trainingset"
   ]
  },
  {
   "cell_type": "markdown",
   "metadata": {},
   "source": [
    "## But first we need to transform categorical data into workable ones."
   ]
  },
  {
   "cell_type": "code",
   "execution_count": 22,
   "metadata": {
    "collapsed": false
   },
   "outputs": [
    {
     "name": "stdout",
     "output_type": "stream",
     "text": [
      "['horse_number', 'horse_id', 'jockey', 'trainer', 'actual_weight', 'declared_horse_weight', 'draw', 'win_odds', 'race_id', 'race_date', 'race_course', 'race_number', 'race_class', 'race_distance', 'track_condition', 'race_name', 'track']\n",
      "17\n"
     ]
    }
   ],
   "source": [
    "# First I get rid of those \"future\" columns that are not gonna help me in prediction, \n",
    "# e.g. we won't know the running_position of each horse until the begining of the race.\n",
    "x_labels=[i for i in df3.columns if i not in['finishing_position','length_behind_winner',\n",
    "                                            'running_position_1','running_position_2',\n",
    "                                            'running_position_3','running_position_4',\n",
    "                                            'running_position_5','running_position_6',\n",
    "                                            'sectional_time','incident_report','finish_time']]\n",
    "print(x_labels)\n",
    "print(len(x_labels))"
   ]
  },
  {
   "cell_type": "code",
   "execution_count": 23,
   "metadata": {
    "collapsed": false
   },
   "outputs": [],
   "source": [
    "# This is just to create a \"dummy\" dataframe so that I can override it later.\n",
    "df_objects=pd.DataFrame(df3.race_id,columns=['dummy'])"
   ]
  },
  {
   "cell_type": "code",
   "execution_count": 24,
   "metadata": {
    "collapsed": false
   },
   "outputs": [
    {
     "data": {
      "text/plain": [
       "(19996, 28)"
      ]
     },
     "execution_count": 24,
     "metadata": {},
     "output_type": "execute_result"
    }
   ],
   "source": [
    "df3.shape"
   ]
  },
  {
   "cell_type": "code",
   "execution_count": 25,
   "metadata": {
    "collapsed": false
   },
   "outputs": [
    {
     "data": {
      "text/html": [
       "<div>\n",
       "<table border=\"1\" class=\"dataframe\">\n",
       "  <thead>\n",
       "    <tr style=\"text-align: right;\">\n",
       "      <th></th>\n",
       "      <th>horse_id</th>\n",
       "      <th>jockey</th>\n",
       "      <th>trainer</th>\n",
       "      <th>race_id</th>\n",
       "      <th>race_date</th>\n",
       "      <th>race_course</th>\n",
       "      <th>race_class</th>\n",
       "      <th>track_condition</th>\n",
       "      <th>race_name</th>\n",
       "      <th>track</th>\n",
       "    </tr>\n",
       "  </thead>\n",
       "  <tbody>\n",
       "    <tr>\n",
       "      <th>0</th>\n",
       "      <td>3</td>\n",
       "      <td>5</td>\n",
       "      <td>15</td>\n",
       "      <td>0</td>\n",
       "      <td>0</td>\n",
       "      <td>1</td>\n",
       "      <td>7</td>\n",
       "      <td>2</td>\n",
       "      <td>864</td>\n",
       "      <td>1</td>\n",
       "    </tr>\n",
       "    <tr>\n",
       "      <th>1</th>\n",
       "      <td>700</td>\n",
       "      <td>22</td>\n",
       "      <td>16</td>\n",
       "      <td>0</td>\n",
       "      <td>0</td>\n",
       "      <td>1</td>\n",
       "      <td>7</td>\n",
       "      <td>2</td>\n",
       "      <td>864</td>\n",
       "      <td>1</td>\n",
       "    </tr>\n",
       "    <tr>\n",
       "      <th>2</th>\n",
       "      <td>381</td>\n",
       "      <td>85</td>\n",
       "      <td>74</td>\n",
       "      <td>0</td>\n",
       "      <td>0</td>\n",
       "      <td>1</td>\n",
       "      <td>7</td>\n",
       "      <td>2</td>\n",
       "      <td>864</td>\n",
       "      <td>1</td>\n",
       "    </tr>\n",
       "  </tbody>\n",
       "</table>\n",
       "</div>"
      ],
      "text/plain": [
       "   horse_id  jockey  trainer  race_id  race_date  race_course  race_class  \\\n",
       "0         3       5       15        0          0            1           7   \n",
       "1       700      22       16        0          0            1           7   \n",
       "2       381      85       74        0          0            1           7   \n",
       "\n",
       "   track_condition  race_name  track  \n",
       "0                2        864      1  \n",
       "1                2        864      1  \n",
       "2                2        864      1  "
      ]
     },
     "execution_count": 25,
     "metadata": {},
     "output_type": "execute_result"
    }
   ],
   "source": [
    "# Now I've picked out these columns in x_labels whose dtype is objects. I'm converting them into int dtype.\n",
    "\n",
    "objects=['horse_id','jockey','trainer','race_id','race_date',\n",
    "        'race_course','race_class','track_condition','race_name','track']\n",
    "\n",
    "for i in objects:\n",
    "    le = preprocessing.LabelEncoder()\n",
    "    le.fit(df3[i])\n",
    "    le.transform(df3[i])\n",
    "    df_objects[i]=pd.Series(le.transform(df3[i]))\n",
    "\n",
    "# don't forget to drop my dummy column\n",
    "df_objects.drop('dummy',axis=1,inplace=True)    \n",
    "    \n",
    "df_objects.head(3)"
   ]
  },
  {
   "cell_type": "code",
   "execution_count": 26,
   "metadata": {
    "collapsed": false
   },
   "outputs": [],
   "source": [
    "# This are the columns whose dtype are int/float in the first place.\n",
    "df_int = df3.loc[:,['horse_number','actual_weight','declared_horse_weight',\n",
    "                    'draw','win_odds','race_number','race_distance']]"
   ]
  },
  {
   "cell_type": "code",
   "execution_count": 27,
   "metadata": {
    "collapsed": false,
    "scrolled": true
   },
   "outputs": [
    {
     "data": {
      "text/html": [
       "<div>\n",
       "<table border=\"1\" class=\"dataframe\">\n",
       "  <thead>\n",
       "    <tr style=\"text-align: right;\">\n",
       "      <th></th>\n",
       "      <th>horse_number</th>\n",
       "      <th>actual_weight</th>\n",
       "      <th>declared_horse_weight</th>\n",
       "      <th>draw</th>\n",
       "      <th>win_odds</th>\n",
       "      <th>race_number</th>\n",
       "      <th>race_distance</th>\n",
       "      <th>horse_id</th>\n",
       "      <th>jockey</th>\n",
       "      <th>trainer</th>\n",
       "      <th>race_id</th>\n",
       "      <th>race_date</th>\n",
       "      <th>race_course</th>\n",
       "      <th>race_class</th>\n",
       "      <th>track_condition</th>\n",
       "      <th>race_name</th>\n",
       "      <th>track</th>\n",
       "    </tr>\n",
       "  </thead>\n",
       "  <tbody>\n",
       "    <tr>\n",
       "      <th>0</th>\n",
       "      <td>1.0</td>\n",
       "      <td>133.0</td>\n",
       "      <td>1032.0</td>\n",
       "      <td>1.0</td>\n",
       "      <td>3.8</td>\n",
       "      <td>1</td>\n",
       "      <td>1400</td>\n",
       "      <td>3</td>\n",
       "      <td>5</td>\n",
       "      <td>15</td>\n",
       "      <td>0</td>\n",
       "      <td>0</td>\n",
       "      <td>1</td>\n",
       "      <td>7</td>\n",
       "      <td>2</td>\n",
       "      <td>864</td>\n",
       "      <td>1</td>\n",
       "    </tr>\n",
       "    <tr>\n",
       "      <th>1</th>\n",
       "      <td>2.0</td>\n",
       "      <td>133.0</td>\n",
       "      <td>1075.0</td>\n",
       "      <td>13.0</td>\n",
       "      <td>8.0</td>\n",
       "      <td>1</td>\n",
       "      <td>1400</td>\n",
       "      <td>700</td>\n",
       "      <td>22</td>\n",
       "      <td>16</td>\n",
       "      <td>0</td>\n",
       "      <td>0</td>\n",
       "      <td>1</td>\n",
       "      <td>7</td>\n",
       "      <td>2</td>\n",
       "      <td>864</td>\n",
       "      <td>1</td>\n",
       "    </tr>\n",
       "    <tr>\n",
       "      <th>2</th>\n",
       "      <td>10.0</td>\n",
       "      <td>121.0</td>\n",
       "      <td>1065.0</td>\n",
       "      <td>3.0</td>\n",
       "      <td>5.7</td>\n",
       "      <td>1</td>\n",
       "      <td>1400</td>\n",
       "      <td>381</td>\n",
       "      <td>85</td>\n",
       "      <td>74</td>\n",
       "      <td>0</td>\n",
       "      <td>0</td>\n",
       "      <td>1</td>\n",
       "      <td>7</td>\n",
       "      <td>2</td>\n",
       "      <td>864</td>\n",
       "      <td>1</td>\n",
       "    </tr>\n",
       "  </tbody>\n",
       "</table>\n",
       "</div>"
      ],
      "text/plain": [
       "   horse_number  actual_weight  declared_horse_weight  draw  win_odds  \\\n",
       "0           1.0          133.0                 1032.0   1.0       3.8   \n",
       "1           2.0          133.0                 1075.0  13.0       8.0   \n",
       "2          10.0          121.0                 1065.0   3.0       5.7   \n",
       "\n",
       "   race_number  race_distance  horse_id  jockey  trainer  race_id  race_date  \\\n",
       "0            1           1400         3       5       15        0          0   \n",
       "1            1           1400       700      22       16        0          0   \n",
       "2            1           1400       381      85       74        0          0   \n",
       "\n",
       "   race_course  race_class  track_condition  race_name  track  \n",
       "0            1           7                2        864      1  \n",
       "1            1           7                2        864      1  \n",
       "2            1           7                2        864      1  "
      ]
     },
     "execution_count": 27,
     "metadata": {},
     "output_type": "execute_result"
    }
   ],
   "source": [
    "# Now let me concatenate them together\n",
    "df_x = pd.concat([df_int, df_objects], axis=1)\n",
    "df_x.head(3)"
   ]
  },
  {
   "cell_type": "markdown",
   "metadata": {},
   "source": [
    "## Deal with missing values"
   ]
  },
  {
   "cell_type": "code",
   "execution_count": 28,
   "metadata": {
    "collapsed": false,
    "scrolled": true
   },
   "outputs": [
    {
     "data": {
      "text/plain": [
       "array([   13,   120,   225,   273,   274,   403,   415,   437,   451,\n",
       "         500,   599,   600,   623,   704,   715,   813,   877,   925,\n",
       "         951,   952,   967,  1036,  1180,  1240,  1287,  1359,  1426,\n",
       "        1439,  1440,  1494,  1645,  1685,  1736,  1737,  1752,  1807,\n",
       "        1980,  1995,  2010,  2025,  2141,  2166,  2246,  2260,  2275,\n",
       "        2375,  2410,  2411,  2502,  2503,  2504,  2610,  2611,  2698,\n",
       "        2739,  2854,  2915,  2975,  3013,  3052,  3149,  3190,  3315,\n",
       "        3329,  3330,  3475,  3490,  3503,  3543,  3568,  3611,  3650,\n",
       "        3739,  3824,  3903,  3918,  3933,  3993,  4030,  4137,  4162,\n",
       "        4286,  4287,  4340,  4454,  4455,  4509,  4673,  4710,  4736,\n",
       "        4750,  4815,  4826,  4827,  4842,  4966,  5021,  5157,  5172,\n",
       "        5173,  5270,  5383,  5444,  5506,  5608,  5705,  5841,  5986,\n",
       "        6011,  6024,  6117,  6196,  6236,  6284,  6556,  6648,  6663,\n",
       "        6713,  6728,  6755,  6767,  6782,  6833,  6905,  6934,  6961,\n",
       "        7017,  7030,  7105,  7129,  7130,  7171,  7172,  7199,  7200,\n",
       "        7215,  7230,  7244,  7245,  7281,  7294,  7444,  7458,  7459,\n",
       "        7582,  7647,  7730,  7768,  7780,  7929,  8020,  8130,  8171,\n",
       "        8211,  8240,  8254,  8265,  8266,  8346,  8361,  8404,  8480,\n",
       "        8553,  8566,  8581,  8582,  8651,  8666,  8676,  8866,  8975,\n",
       "        9036,  9141,  9179,  9251,  9263,  9372,  9424,  9452,  9501,\n",
       "        9541,  9542,  9597,  9638,  9704,  9741,  9754,  9767,  9806,\n",
       "        9919,  9945,  9959,  9974,  9987, 10013, 10041, 10152, 10236,\n",
       "       10332, 10343, 10424, 10475, 10488, 10693, 10704, 10705, 10745,\n",
       "       10994, 11004, 11040, 11053, 11166, 11337, 11406, 11542, 11717,\n",
       "       11753, 11827, 11828, 11857, 11858, 11896, 11986, 12011, 12048,\n",
       "       12085, 12086, 12115, 12144, 12145, 12254, 12280, 12457, 12518,\n",
       "       12584, 12585, 12624, 12639, 12681, 12867, 12919, 13003, 13016,\n",
       "       13111, 13153, 13168, 13292, 13306, 13347, 13362, 13374, 13402,\n",
       "       13415, 13416, 13464, 13477, 13555, 13625, 13652, 13764, 13779,\n",
       "       13874, 14081, 14143, 14144, 14157, 14158, 14196, 14237, 14309,\n",
       "       14310, 14415, 14468, 14483, 14521, 14601, 14628, 14663, 14688,\n",
       "       14713, 14790, 14791, 14846, 14873, 14874, 14903, 14915, 15007,\n",
       "       15021, 15045, 15061, 15182, 15194, 15219, 15267, 15361, 15440,\n",
       "       15547, 15601, 15636, 15662, 15674, 15698, 15735, 15775, 15776,\n",
       "       15777, 15948, 15985, 16047, 16062, 16151, 16240, 16309, 16432,\n",
       "       16541, 16582, 16608, 16657, 16736, 16758, 16819, 16820, 16853,\n",
       "       16854, 16922, 16956, 16971, 16984, 17063, 17087, 17112, 17159,\n",
       "       17242, 17256, 17271, 17284, 17299, 17323, 17335, 17409, 17410,\n",
       "       17555, 17729, 18108, 18122, 18177, 18192, 18207, 18221, 18234,\n",
       "       18259, 18271, 18328, 18400, 18465, 18522, 18550, 18590, 18617,\n",
       "       18618, 18631, 18758, 18840, 18865, 18950, 19056, 19145, 19156,\n",
       "       19169, 19170, 19247, 19248, 19329, 19330, 19341, 19353, 19354,\n",
       "       19375, 19387, 19400, 19424, 19425, 19522, 19537, 19538, 19566,\n",
       "       19567, 19581, 19610, 19611, 19680, 19695, 19710, 19725, 19761,\n",
       "       19845, 19846, 19902, 19958, 19972])"
      ]
     },
     "execution_count": 28,
     "metadata": {},
     "output_type": "execute_result"
    }
   ],
   "source": [
    "index_draw_null=df_x[df_x.draw.isnull()].index.values\n",
    "index_draw_null"
   ]
  },
  {
   "cell_type": "code",
   "execution_count": 29,
   "metadata": {
    "collapsed": false
   },
   "outputs": [
    {
     "data": {
      "text/plain": [
       "False"
      ]
     },
     "execution_count": 29,
     "metadata": {},
     "output_type": "execute_result"
    }
   ],
   "source": [
    "# draw column contains 401 rows of Nan value\n",
    "\n",
    "df_x=df_x[df_x.draw.notnull()]\n",
    "\n",
    "# After dropping these rows, we've got 15959 rows from the original 19996 rows. \n",
    "# We've get rid of 401 rows, which is a considerably small amount.\n",
    "\n",
    "df_x.isnull().values.any()"
   ]
  },
  {
   "cell_type": "markdown",
   "metadata": {},
   "source": [
    "## DH just means there are more than 1 horse in that finishing_position, so I'm getting rid of all the DHs"
   ]
  },
  {
   "cell_type": "code",
   "execution_count": 30,
   "metadata": {
    "collapsed": true
   },
   "outputs": [],
   "source": [
    "a=df3.finishing_position.astype(str)"
   ]
  },
  {
   "cell_type": "code",
   "execution_count": 31,
   "metadata": {
    "collapsed": false,
    "scrolled": true
   },
   "outputs": [
    {
     "data": {
      "text/plain": [
       "array(['1', '2', '3', '4', '5', '6', '7', '8', '9', '10', '11', '12', '13',\n",
       "       'WV-A', '14', 'WV', '9 DH', '2 DH', 'WX', 'PU', '1 DH', '8 DH',\n",
       "       'UR', 'FE', '4 DH', '10 DH', 'TNP', '5 DH', 'DISQ', '11 DH',\n",
       "       '12 DH', '3 DH', '7 DH', 'WX-A', 'DNF', '6 DH', 'nan'], dtype=object)"
      ]
     },
     "execution_count": 31,
     "metadata": {},
     "output_type": "execute_result"
    }
   ],
   "source": [
    "a.unique()"
   ]
  },
  {
   "cell_type": "code",
   "execution_count": 32,
   "metadata": {
    "collapsed": false
   },
   "outputs": [
    {
     "data": {
      "text/plain": [
       "(37,)"
      ]
     },
     "execution_count": 32,
     "metadata": {},
     "output_type": "execute_result"
    }
   ],
   "source": [
    "a.unique().shape"
   ]
  },
  {
   "cell_type": "code",
   "execution_count": 33,
   "metadata": {
    "collapsed": false,
    "scrolled": true
   },
   "outputs": [
    {
     "data": {
      "text/plain": [
       "12"
      ]
     },
     "execution_count": 33,
     "metadata": {},
     "output_type": "execute_result"
    }
   ],
   "source": [
    "len(['9 DH','2 DH','1 DH','8 DH','4 DH','10 DH','5 DH','11 DH','12 DH','3 DH','7 DH','6 DH'])"
   ]
  },
  {
   "cell_type": "code",
   "execution_count": 34,
   "metadata": {
    "collapsed": false,
    "scrolled": true
   },
   "outputs": [],
   "source": [
    "a.replace(['9 DH','2 DH','1 DH','8 DH','4 DH','10 DH','5 DH','11 DH','12 DH','3 DH','7 DH','6 DH'],\n",
    "         ['9','2','1','8','4','10','5','11','12','3','7','6'],inplace=True)"
   ]
  },
  {
   "cell_type": "code",
   "execution_count": 37,
   "metadata": {
    "collapsed": false
   },
   "outputs": [
    {
     "data": {
      "text/plain": [
       "(25,)"
      ]
     },
     "execution_count": 37,
     "metadata": {},
     "output_type": "execute_result"
    }
   ],
   "source": [
    "a.unique().shape"
   ]
  },
  {
   "cell_type": "markdown",
   "metadata": {},
   "source": [
    "## Also, I'm changing all the special incidences to value 0 since there are only 47 rows report to special incidence"
   ]
  },
  {
   "cell_type": "code",
   "execution_count": 39,
   "metadata": {
    "collapsed": true
   },
   "outputs": [],
   "source": [
    "b=['WV-A','WV', 'WX', 'PU', 'UR', 'FE', 'TNP', 'DISQ', 'WX-A',\n",
    "       'DNF', 'nan']"
   ]
  },
  {
   "cell_type": "code",
   "execution_count": 41,
   "metadata": {
    "collapsed": false
   },
   "outputs": [
    {
     "data": {
      "text/html": [
       "<div>\n",
       "<table border=\"1\" class=\"dataframe\">\n",
       "  <thead>\n",
       "    <tr style=\"text-align: right;\">\n",
       "      <th></th>\n",
       "      <th>finishing_position</th>\n",
       "      <th>horse_number</th>\n",
       "      <th>horse_id</th>\n",
       "      <th>jockey</th>\n",
       "      <th>trainer</th>\n",
       "      <th>actual_weight</th>\n",
       "      <th>declared_horse_weight</th>\n",
       "      <th>draw</th>\n",
       "      <th>length_behind_winner</th>\n",
       "      <th>running_position_1</th>\n",
       "      <th>...</th>\n",
       "      <th>race_date</th>\n",
       "      <th>race_course</th>\n",
       "      <th>race_number</th>\n",
       "      <th>race_class</th>\n",
       "      <th>race_distance</th>\n",
       "      <th>track_condition</th>\n",
       "      <th>race_name</th>\n",
       "      <th>track</th>\n",
       "      <th>sectional_time</th>\n",
       "      <th>incident_report</th>\n",
       "    </tr>\n",
       "  </thead>\n",
       "  <tbody>\n",
       "    <tr>\n",
       "      <th>680</th>\n",
       "      <td>PU</td>\n",
       "      <td>10.0</td>\n",
       "      <td>S434</td>\n",
       "      <td>K C Leung</td>\n",
       "      <td>C S Shum</td>\n",
       "      <td>121.0</td>\n",
       "      <td>1094.0</td>\n",
       "      <td>14.0</td>\n",
       "      <td>-</td>\n",
       "      <td>10.0</td>\n",
       "      <td>...</td>\n",
       "      <td>2014-10-01</td>\n",
       "      <td>Sha Tin</td>\n",
       "      <td>9</td>\n",
       "      <td>Class 3</td>\n",
       "      <td>1400</td>\n",
       "      <td>GOOD TO FIRM</td>\n",
       "      <td>TIANJIN HANDICAP</td>\n",
       "      <td>TURF - \"C+3\" COURSE</td>\n",
       "      <td>13.59 21.28 23.12 23.45</td>\n",
       "      <td>\\n                After being loaded, FOODIE b...</td>\n",
       "    </tr>\n",
       "    <tr>\n",
       "      <th>1037</th>\n",
       "      <td>PU</td>\n",
       "      <td>5.0</td>\n",
       "      <td>P253</td>\n",
       "      <td>N Rawiller</td>\n",
       "      <td>J Size</td>\n",
       "      <td>124.0</td>\n",
       "      <td>1130.0</td>\n",
       "      <td>9.0</td>\n",
       "      <td>-</td>\n",
       "      <td>4.0</td>\n",
       "      <td>...</td>\n",
       "      <td>2014-10-12</td>\n",
       "      <td>Sha Tin</td>\n",
       "      <td>9</td>\n",
       "      <td>Class 3</td>\n",
       "      <td>1400</td>\n",
       "      <td>GOOD TO FIRM</td>\n",
       "      <td>CLEAR WATER BAY HANDICAP</td>\n",
       "      <td>TURF - \"A+3\" COURSE</td>\n",
       "      <td>13.50 21.83 23.89 22.98</td>\n",
       "      <td>\\n                FASHION MAESTRO was withdraw...</td>\n",
       "    </tr>\n",
       "    <tr>\n",
       "      <th>1413</th>\n",
       "      <td>UR</td>\n",
       "      <td>8.0</td>\n",
       "      <td>M212</td>\n",
       "      <td>W M Lai</td>\n",
       "      <td>K L Man</td>\n",
       "      <td>124.0</td>\n",
       "      <td>1085.0</td>\n",
       "      <td>9.0</td>\n",
       "      <td>-</td>\n",
       "      <td>NaN</td>\n",
       "      <td>...</td>\n",
       "      <td>2014-10-26</td>\n",
       "      <td>Sha Tin</td>\n",
       "      <td>3</td>\n",
       "      <td>Class 5</td>\n",
       "      <td>1400</td>\n",
       "      <td>GOOD TO FIRM</td>\n",
       "      <td>PIAGET EXCELLENT HANDICAP</td>\n",
       "      <td>TURF - \"B+2\" COURSE</td>\n",
       "      <td>13.48 21.89 23.02 24.12</td>\n",
       "      <td>\\n                On entering the track, A Sub...</td>\n",
       "    </tr>\n",
       "  </tbody>\n",
       "</table>\n",
       "<p>3 rows × 28 columns</p>\n",
       "</div>"
      ],
      "text/plain": [
       "     finishing_position  horse_number horse_id      jockey   trainer  \\\n",
       "680                  PU          10.0     S434   K C Leung  C S Shum   \n",
       "1037                 PU           5.0     P253  N Rawiller    J Size   \n",
       "1413                 UR           8.0     M212     W M Lai   K L Man   \n",
       "\n",
       "      actual_weight  declared_horse_weight  draw length_behind_winner  \\\n",
       "680           121.0                 1094.0  14.0                    -   \n",
       "1037          124.0                 1130.0   9.0                    -   \n",
       "1413          124.0                 1085.0   9.0                    -   \n",
       "\n",
       "      running_position_1                        ...                          \\\n",
       "680                 10.0                        ...                           \n",
       "1037                 4.0                        ...                           \n",
       "1413                 NaN                        ...                           \n",
       "\n",
       "       race_date  race_course  race_number race_class  race_distance  \\\n",
       "680   2014-10-01      Sha Tin            9    Class 3           1400   \n",
       "1037  2014-10-12      Sha Tin            9    Class 3           1400   \n",
       "1413  2014-10-26      Sha Tin            3    Class 5           1400   \n",
       "\n",
       "      track_condition                  race_name                track  \\\n",
       "680      GOOD TO FIRM           TIANJIN HANDICAP  TURF - \"C+3\" COURSE   \n",
       "1037     GOOD TO FIRM   CLEAR WATER BAY HANDICAP  TURF - \"A+3\" COURSE   \n",
       "1413     GOOD TO FIRM  PIAGET EXCELLENT HANDICAP  TURF - \"B+2\" COURSE   \n",
       "\n",
       "               sectional_time  \\\n",
       "680   13.59 21.28 23.12 23.45   \n",
       "1037  13.50 21.83 23.89 22.98   \n",
       "1413  13.48 21.89 23.02 24.12   \n",
       "\n",
       "                                        incident_report  \n",
       "680   \\n                After being loaded, FOODIE b...  \n",
       "1037  \\n                FASHION MAESTRO was withdraw...  \n",
       "1413  \\n                On entering the track, A Sub...  \n",
       "\n",
       "[3 rows x 28 columns]"
      ]
     },
     "execution_count": 41,
     "metadata": {},
     "output_type": "execute_result"
    }
   ],
   "source": [
    "# There are 47 rows whose finishing_position reports as a special incidence\n",
    "temp2=df3[(df3.finishing_position.isin(b)) & (df3.draw.notnull())]\n",
    "temp2.head(3)"
   ]
  },
  {
   "cell_type": "code",
   "execution_count": 42,
   "metadata": {
    "collapsed": false
   },
   "outputs": [
    {
     "data": {
      "text/plain": [
       "(47, 28)"
      ]
     },
     "execution_count": 42,
     "metadata": {},
     "output_type": "execute_result"
    }
   ],
   "source": [
    "temp2.shape"
   ]
  },
  {
   "cell_type": "code",
   "execution_count": 43,
   "metadata": {
    "collapsed": false,
    "scrolled": true
   },
   "outputs": [],
   "source": [
    "a.replace(b,'0',inplace=True)"
   ]
  },
  {
   "cell_type": "code",
   "execution_count": 44,
   "metadata": {
    "collapsed": false
   },
   "outputs": [
    {
     "data": {
      "text/plain": [
       "array(['1', '2', '3', '4', '5', '6', '7', '8', '9', '10', '11', '12', '13',\n",
       "       '0', '14'], dtype=object)"
      ]
     },
     "execution_count": 44,
     "metadata": {},
     "output_type": "execute_result"
    }
   ],
   "source": [
    "a.unique()"
   ]
  },
  {
   "cell_type": "code",
   "execution_count": 45,
   "metadata": {
    "collapsed": false
   },
   "outputs": [
    {
     "data": {
      "text/plain": [
       "(15,)"
      ]
     },
     "execution_count": 45,
     "metadata": {},
     "output_type": "execute_result"
    }
   ],
   "source": [
    "a.unique().shape"
   ]
  },
  {
   "cell_type": "code",
   "execution_count": 46,
   "metadata": {
    "collapsed": false,
    "scrolled": true
   },
   "outputs": [],
   "source": [
    "# Now let's transform Y, the label we are trying to predict, which is the finishing_position\n",
    "\n",
    "le = preprocessing.LabelEncoder()\n",
    "le.fit(a)\n",
    "df_y=pd.DataFrame(le.transform(a),columns=['finishing_position'])\n",
    "\n",
    "# drop the same rows (of df_x) for df_y\n",
    "\n",
    "df_y.drop(df_y.index[index_draw_null],inplace=True)"
   ]
  },
  {
   "cell_type": "code",
   "execution_count": 47,
   "metadata": {
    "collapsed": false,
    "scrolled": true
   },
   "outputs": [
    {
     "data": {
      "text/html": [
       "<div>\n",
       "<table border=\"1\" class=\"dataframe\">\n",
       "  <thead>\n",
       "    <tr style=\"text-align: right;\">\n",
       "      <th></th>\n",
       "      <th>horse_number</th>\n",
       "      <th>actual_weight</th>\n",
       "      <th>declared_horse_weight</th>\n",
       "      <th>draw</th>\n",
       "      <th>win_odds</th>\n",
       "      <th>race_number</th>\n",
       "      <th>race_distance</th>\n",
       "      <th>horse_id</th>\n",
       "      <th>jockey</th>\n",
       "      <th>trainer</th>\n",
       "      <th>race_id</th>\n",
       "      <th>race_date</th>\n",
       "      <th>race_course</th>\n",
       "      <th>race_class</th>\n",
       "      <th>track_condition</th>\n",
       "      <th>race_name</th>\n",
       "      <th>track</th>\n",
       "    </tr>\n",
       "  </thead>\n",
       "  <tbody>\n",
       "    <tr>\n",
       "      <th>0</th>\n",
       "      <td>1.0</td>\n",
       "      <td>133.0</td>\n",
       "      <td>1032.0</td>\n",
       "      <td>1.0</td>\n",
       "      <td>3.8</td>\n",
       "      <td>1</td>\n",
       "      <td>1400</td>\n",
       "      <td>3</td>\n",
       "      <td>5</td>\n",
       "      <td>15</td>\n",
       "      <td>0</td>\n",
       "      <td>0</td>\n",
       "      <td>1</td>\n",
       "      <td>7</td>\n",
       "      <td>2</td>\n",
       "      <td>864</td>\n",
       "      <td>1</td>\n",
       "    </tr>\n",
       "    <tr>\n",
       "      <th>1</th>\n",
       "      <td>2.0</td>\n",
       "      <td>133.0</td>\n",
       "      <td>1075.0</td>\n",
       "      <td>13.0</td>\n",
       "      <td>8.0</td>\n",
       "      <td>1</td>\n",
       "      <td>1400</td>\n",
       "      <td>700</td>\n",
       "      <td>22</td>\n",
       "      <td>16</td>\n",
       "      <td>0</td>\n",
       "      <td>0</td>\n",
       "      <td>1</td>\n",
       "      <td>7</td>\n",
       "      <td>2</td>\n",
       "      <td>864</td>\n",
       "      <td>1</td>\n",
       "    </tr>\n",
       "    <tr>\n",
       "      <th>2</th>\n",
       "      <td>10.0</td>\n",
       "      <td>121.0</td>\n",
       "      <td>1065.0</td>\n",
       "      <td>3.0</td>\n",
       "      <td>5.7</td>\n",
       "      <td>1</td>\n",
       "      <td>1400</td>\n",
       "      <td>381</td>\n",
       "      <td>85</td>\n",
       "      <td>74</td>\n",
       "      <td>0</td>\n",
       "      <td>0</td>\n",
       "      <td>1</td>\n",
       "      <td>7</td>\n",
       "      <td>2</td>\n",
       "      <td>864</td>\n",
       "      <td>1</td>\n",
       "    </tr>\n",
       "  </tbody>\n",
       "</table>\n",
       "</div>"
      ],
      "text/plain": [
       "   horse_number  actual_weight  declared_horse_weight  draw  win_odds  \\\n",
       "0           1.0          133.0                 1032.0   1.0       3.8   \n",
       "1           2.0          133.0                 1075.0  13.0       8.0   \n",
       "2          10.0          121.0                 1065.0   3.0       5.7   \n",
       "\n",
       "   race_number  race_distance  horse_id  jockey  trainer  race_id  race_date  \\\n",
       "0            1           1400         3       5       15        0          0   \n",
       "1            1           1400       700      22       16        0          0   \n",
       "2            1           1400       381      85       74        0          0   \n",
       "\n",
       "   race_course  race_class  track_condition  race_name  track  \n",
       "0            1           7                2        864      1  \n",
       "1            1           7                2        864      1  \n",
       "2            1           7                2        864      1  "
      ]
     },
     "execution_count": 47,
     "metadata": {},
     "output_type": "execute_result"
    }
   ],
   "source": [
    "df_x.head(3)"
   ]
  },
  {
   "cell_type": "code",
   "execution_count": 48,
   "metadata": {
    "collapsed": false,
    "scrolled": true
   },
   "outputs": [
    {
     "data": {
      "text/html": [
       "<div>\n",
       "<table border=\"1\" class=\"dataframe\">\n",
       "  <thead>\n",
       "    <tr style=\"text-align: right;\">\n",
       "      <th></th>\n",
       "      <th>finishing_position</th>\n",
       "    </tr>\n",
       "  </thead>\n",
       "  <tbody>\n",
       "    <tr>\n",
       "      <th>0</th>\n",
       "      <td>1</td>\n",
       "    </tr>\n",
       "    <tr>\n",
       "      <th>1</th>\n",
       "      <td>7</td>\n",
       "    </tr>\n",
       "    <tr>\n",
       "      <th>2</th>\n",
       "      <td>8</td>\n",
       "    </tr>\n",
       "  </tbody>\n",
       "</table>\n",
       "</div>"
      ],
      "text/plain": [
       "   finishing_position\n",
       "0                   1\n",
       "1                   7\n",
       "2                   8"
      ]
     },
     "execution_count": 48,
     "metadata": {},
     "output_type": "execute_result"
    }
   ],
   "source": [
    "df_y.head(3)"
   ]
  },
  {
   "cell_type": "code",
   "execution_count": 49,
   "metadata": {
    "collapsed": false
   },
   "outputs": [
    {
     "data": {
      "text/plain": [
       "array([13653, 13654, 13655, ..., 19993, 19994, 19995])"
      ]
     },
     "execution_count": 49,
     "metadata": {},
     "output_type": "execute_result"
    }
   ],
   "source": [
    "index_testset=df_2016.index.values\n",
    "index_testset"
   ]
  },
  {
   "cell_type": "code",
   "execution_count": 50,
   "metadata": {
    "collapsed": false
   },
   "outputs": [
    {
     "data": {
      "text/plain": [
       "array([    0,     1,     2, ..., 13650, 13651, 13652])"
      ]
     },
     "execution_count": 50,
     "metadata": {},
     "output_type": "execute_result"
    }
   ],
   "source": [
    "index_trainingset=df_ow.index.values\n",
    "index_trainingset"
   ]
  },
  {
   "cell_type": "code",
   "execution_count": 51,
   "metadata": {
    "collapsed": false
   },
   "outputs": [],
   "source": [
    "x_training=df_x.loc[index_trainingset].dropna()\n",
    "\n",
    "x_test=df_x.loc[index_testset].dropna()\n",
    "\n",
    "y_training=df_y.loc[index_trainingset].dropna()\n",
    "\n",
    "y_test=df_y.loc[index_testset].dropna()"
   ]
  },
  {
   "cell_type": "code",
   "execution_count": null,
   "metadata": {
    "collapsed": false
   },
   "outputs": [],
   "source": [
    "x_training"
   ]
  },
  {
   "cell_type": "markdown",
   "metadata": {},
   "source": [
    "## Comparing different parameters in RF for optimization"
   ]
  },
  {
   "cell_type": "code",
   "execution_count": 53,
   "metadata": {
    "collapsed": false
   },
   "outputs": [],
   "source": [
    "from collections import OrderedDict\n",
    "from sklearn.ensemble import RandomForestRegressor, ExtraTreesRegressor\n",
    "from sklearn.metrics import mean_squared_error\n",
    "\n",
    "RandomState=1\n",
    "\n",
    "ensemble_clfs = [\n",
    "    (\"RandomForestClassifier, max_features='sqrt'\",\n",
    "        RandomForestRegressor(warm_start=True,\n",
    "                              oob_score=True,\n",
    "                              max_features=\"sqrt\",\n",
    "                              random_state=RandomState)),\n",
    "    (\"RandomForestClassifier, max_features='log2'\",\n",
    "        RandomForestRegressor(warm_start=True,\n",
    "                              max_features='log2',\n",
    "                              oob_score=True,\n",
    "                              random_state=RandomState)),\n",
    "    (\"RandomForestClassifier, max_features=None\",\n",
    "        RandomForestRegressor(warm_start=True,\n",
    "                              max_features=None,\n",
    "                              oob_score=True,\n",
    "                              random_state=RandomState))\n",
    "]\n",
    "\n",
    "error_rate = OrderedDict((label, []) for label, _ in ensemble_clfs)"
   ]
  },
  {
   "cell_type": "code",
   "execution_count": 54,
   "metadata": {
    "collapsed": false,
    "scrolled": true
   },
   "outputs": [
    {
     "name": "stderr",
     "output_type": "stream",
     "text": [
      "/Users/appleuser/anaconda/lib/python3.5/site-packages/sklearn/ensemble/forest.py:723: UserWarning: Some inputs do not have OOB scores. This probably means too few trees were used to compute any reliable oob estimates.\n",
      "  warn(\"Some inputs do not have OOB scores. \"\n",
      "/Users/appleuser/anaconda/lib/python3.5/site-packages/sklearn/ensemble/forest.py:723: UserWarning: Some inputs do not have OOB scores. This probably means too few trees were used to compute any reliable oob estimates.\n",
      "  warn(\"Some inputs do not have OOB scores. \"\n",
      "/Users/appleuser/anaconda/lib/python3.5/site-packages/sklearn/ensemble/forest.py:723: UserWarning: Some inputs do not have OOB scores. This probably means too few trees were used to compute any reliable oob estimates.\n",
      "  warn(\"Some inputs do not have OOB scores. \"\n",
      "/Users/appleuser/anaconda/lib/python3.5/site-packages/sklearn/ensemble/forest.py:723: UserWarning: Some inputs do not have OOB scores. This probably means too few trees were used to compute any reliable oob estimates.\n",
      "  warn(\"Some inputs do not have OOB scores. \"\n",
      "/Users/appleuser/anaconda/lib/python3.5/site-packages/sklearn/ensemble/forest.py:723: UserWarning: Some inputs do not have OOB scores. This probably means too few trees were used to compute any reliable oob estimates.\n",
      "  warn(\"Some inputs do not have OOB scores. \"\n",
      "/Users/appleuser/anaconda/lib/python3.5/site-packages/sklearn/ensemble/forest.py:723: UserWarning: Some inputs do not have OOB scores. This probably means too few trees were used to compute any reliable oob estimates.\n",
      "  warn(\"Some inputs do not have OOB scores. \"\n",
      "/Users/appleuser/anaconda/lib/python3.5/site-packages/sklearn/ensemble/forest.py:723: UserWarning: Some inputs do not have OOB scores. This probably means too few trees were used to compute any reliable oob estimates.\n",
      "  warn(\"Some inputs do not have OOB scores. \"\n",
      "/Users/appleuser/anaconda/lib/python3.5/site-packages/sklearn/ensemble/forest.py:723: UserWarning: Some inputs do not have OOB scores. This probably means too few trees were used to compute any reliable oob estimates.\n",
      "  warn(\"Some inputs do not have OOB scores. \"\n",
      "/Users/appleuser/anaconda/lib/python3.5/site-packages/sklearn/ensemble/forest.py:723: UserWarning: Some inputs do not have OOB scores. This probably means too few trees were used to compute any reliable oob estimates.\n",
      "  warn(\"Some inputs do not have OOB scores. \"\n",
      "/Users/appleuser/anaconda/lib/python3.5/site-packages/sklearn/ensemble/forest.py:723: UserWarning: Some inputs do not have OOB scores. This probably means too few trees were used to compute any reliable oob estimates.\n",
      "  warn(\"Some inputs do not have OOB scores. \"\n",
      "/Users/appleuser/anaconda/lib/python3.5/site-packages/sklearn/ensemble/forest.py:723: UserWarning: Some inputs do not have OOB scores. This probably means too few trees were used to compute any reliable oob estimates.\n",
      "  warn(\"Some inputs do not have OOB scores. \"\n",
      "/Users/appleuser/anaconda/lib/python3.5/site-packages/sklearn/ensemble/forest.py:723: UserWarning: Some inputs do not have OOB scores. This probably means too few trees were used to compute any reliable oob estimates.\n",
      "  warn(\"Some inputs do not have OOB scores. \"\n",
      "/Users/appleuser/anaconda/lib/python3.5/site-packages/sklearn/ensemble/forest.py:723: UserWarning: Some inputs do not have OOB scores. This probably means too few trees were used to compute any reliable oob estimates.\n",
      "  warn(\"Some inputs do not have OOB scores. \"\n",
      "/Users/appleuser/anaconda/lib/python3.5/site-packages/sklearn/ensemble/forest.py:723: UserWarning: Some inputs do not have OOB scores. This probably means too few trees were used to compute any reliable oob estimates.\n",
      "  warn(\"Some inputs do not have OOB scores. \"\n",
      "/Users/appleuser/anaconda/lib/python3.5/site-packages/sklearn/ensemble/forest.py:723: UserWarning: Some inputs do not have OOB scores. This probably means too few trees were used to compute any reliable oob estimates.\n",
      "  warn(\"Some inputs do not have OOB scores. \"\n",
      "/Users/appleuser/anaconda/lib/python3.5/site-packages/sklearn/ensemble/forest.py:723: UserWarning: Some inputs do not have OOB scores. This probably means too few trees were used to compute any reliable oob estimates.\n",
      "  warn(\"Some inputs do not have OOB scores. \"\n",
      "/Users/appleuser/anaconda/lib/python3.5/site-packages/sklearn/ensemble/forest.py:723: UserWarning: Some inputs do not have OOB scores. This probably means too few trees were used to compute any reliable oob estimates.\n",
      "  warn(\"Some inputs do not have OOB scores. \"\n",
      "/Users/appleuser/anaconda/lib/python3.5/site-packages/sklearn/ensemble/forest.py:723: UserWarning: Some inputs do not have OOB scores. This probably means too few trees were used to compute any reliable oob estimates.\n",
      "  warn(\"Some inputs do not have OOB scores. \"\n",
      "/Users/appleuser/anaconda/lib/python3.5/site-packages/sklearn/ensemble/forest.py:723: UserWarning: Some inputs do not have OOB scores. This probably means too few trees were used to compute any reliable oob estimates.\n",
      "  warn(\"Some inputs do not have OOB scores. \"\n",
      "/Users/appleuser/anaconda/lib/python3.5/site-packages/sklearn/ensemble/forest.py:723: UserWarning: Some inputs do not have OOB scores. This probably means too few trees were used to compute any reliable oob estimates.\n",
      "  warn(\"Some inputs do not have OOB scores. \"\n",
      "/Users/appleuser/anaconda/lib/python3.5/site-packages/sklearn/ensemble/forest.py:723: UserWarning: Some inputs do not have OOB scores. This probably means too few trees were used to compute any reliable oob estimates.\n",
      "  warn(\"Some inputs do not have OOB scores. \"\n",
      "/Users/appleuser/anaconda/lib/python3.5/site-packages/sklearn/ensemble/forest.py:723: UserWarning: Some inputs do not have OOB scores. This probably means too few trees were used to compute any reliable oob estimates.\n",
      "  warn(\"Some inputs do not have OOB scores. \"\n",
      "/Users/appleuser/anaconda/lib/python3.5/site-packages/sklearn/ensemble/forest.py:723: UserWarning: Some inputs do not have OOB scores. This probably means too few trees were used to compute any reliable oob estimates.\n",
      "  warn(\"Some inputs do not have OOB scores. \"\n",
      "/Users/appleuser/anaconda/lib/python3.5/site-packages/sklearn/ensemble/forest.py:723: UserWarning: Some inputs do not have OOB scores. This probably means too few trees were used to compute any reliable oob estimates.\n",
      "  warn(\"Some inputs do not have OOB scores. \"\n"
     ]
    }
   ],
   "source": [
    "### Range of `n_estimators` values to explore.\n",
    "min_estimators = 5\n",
    "max_estimators = 100\n",
    "\n",
    "for label, clf in ensemble_clfs:\n",
    "    for i in range(min_estimators, max_estimators + 1,2):\n",
    "        clf.set_params(n_estimators=i)\n",
    "        clf.fit(x_training, y_training.ix[:,0])\n",
    "### Record the OOB error for each `n_estimators=i` setting.\n",
    "        oob_error = mean_squared_error(clf.oob_prediction_,y_training.ix[:,0])\n",
    "        error_rate[label].append((i, oob_error))"
   ]
  },
  {
   "cell_type": "code",
   "execution_count": 55,
   "metadata": {
    "collapsed": false,
    "scrolled": true
   },
   "outputs": [
    {
     "data": {
      "text/plain": [
       "<matplotlib.legend.Legend at 0x127de4320>"
      ]
     },
     "execution_count": 55,
     "metadata": {},
     "output_type": "execute_result"
    },
    {
     "data": {
      "image/png": "[encoded data removed]",
      "text/plain": [
       "<matplotlib.figure.Figure at 0x1106e3390>"
      ]
     },
     "metadata": {},
     "output_type": "display_data"
    }
   ],
   "source": [
    "### Generate the \"OOB error rate\" vs. \"n_estimators\" plot.\n",
    "plot_comparison = sns.plt.figure(figsize=(15,5))\n",
    "for label, clf_err in error_rate.items():\n",
    "    xs, ys = zip(*clf_err)\n",
    "    plt.plot(xs, ys, label=label)\n",
    "\n",
    "plt.xlim(min_estimators, max_estimators)\n",
    "plt.xlabel(\"n_estimators\")\n",
    "plt.ylabel(\"OOB error rate\")\n",
    "plt.legend(loc=\"upper right\",)"
   ]
  },
  {
   "cell_type": "code",
   "execution_count": 91,
   "metadata": {
    "collapsed": false,
    "scrolled": false
   },
   "outputs": [
    {
     "data": {
      "text/plain": [
       "<matplotlib.axes._subplots.AxesSubplot at 0x129de4710>"
      ]
     },
     "execution_count": 91,
     "metadata": {},
     "output_type": "execute_result"
    },
    {
     "data": {
      "image/png": "[encoded data removed]",
      "text/plain": [
       "<matplotlib.figure.Figure at 0x129de4518>"
      ]
     },
     "metadata": {},
     "output_type": "display_data"
    }
   ],
   "source": [
    "# The result of this plot is telling us public opinion do play an important role \n",
    "plt.figure(figsize=(11,4))\n",
    "plt.ylabel('Importance')\n",
    "plt.title('Figure 2')\n",
    "\n",
    "clf_rf=RandomForestClassifier(max_features='log2',n_estimators=100,max_depth=1,oob_score=True)\n",
    "clf_rf=clf_rf.fit(x_training,y_training.ix[:,0])\n",
    "\n",
    "pd.Series(data=clf_rf.feature_importances_, index=x_training.columns).sort_values().plot.bar()"
   ]
  },
  {
   "cell_type": "code",
   "execution_count": 57,
   "metadata": {
    "collapsed": false,
    "scrolled": true
   },
   "outputs": [
    {
     "data": {
      "text/plain": [
       "0.12378677019560998"
      ]
     },
     "execution_count": 57,
     "metadata": {},
     "output_type": "execute_result"
    }
   ],
   "source": [
    "# Training accuracy rate\n",
    "clf_rf.score(x_training,y_training)"
   ]
  },
  {
   "cell_type": "code",
   "execution_count": 58,
   "metadata": {
    "collapsed": false,
    "scrolled": false
   },
   "outputs": [
    {
     "name": "stdout",
     "output_type": "stream",
     "text": [
      "(13394, 17) (6201, 17) (13394, 1) (6201, 1)\n",
      "[ 0.12279294  0.13274336  0.1275222   0.11864407  0.12155592]\n",
      "Accuracy: 0.12 (+/- 0.00)\n"
     ]
    }
   ],
   "source": [
    "# My model can only predict about 13% of the races right... poor\n",
    "print(x_training.shape, x_test.shape, y_training.shape, y_test.shape)\n",
    "scores = cross_val_score(clf_rf, x_test, y_test.ix[:,0], cv=5)\n",
    "print(scores)\n",
    "print(\"Accuracy: %0.2f (+/- %0.2f)\" % (scores.mean(), scores.std()))"
   ]
  },
  {
   "cell_type": "markdown",
   "metadata": {},
   "source": [
    "## Will boosting yield a better result?"
   ]
  },
  {
   "cell_type": "code",
   "execution_count": 59,
   "metadata": {
    "collapsed": false
   },
   "outputs": [
    {
     "data": {
      "text/plain": [
       "0.10803344781245333"
      ]
     },
     "execution_count": 59,
     "metadata": {},
     "output_type": "execute_result"
    }
   ],
   "source": [
    "clf_boo = AdaBoostClassifier()\n",
    "clf_boo = clf_boo.fit(x_training,y_training.ix[:,0])\n",
    "clf_boo.score(x_training,y_training.ix[:,0])"
   ]
  },
  {
   "cell_type": "code",
   "execution_count": 60,
   "metadata": {
    "collapsed": false,
    "scrolled": true
   },
   "outputs": [
    {
     "name": "stdout",
     "output_type": "stream",
     "text": [
      "(13394, 17) (6201, 17) (13394, 1) (6201, 1)\n",
      "[ 0.07223114  0.08688656  0.09281679  0.10815174  0.1191248 ]\n",
      "Accuracy: 0.10 (+/- 0.02)\n"
     ]
    }
   ],
   "source": [
    "# In fact, boosting works even worse than randomforest\n",
    "print(x_training.shape, x_test.shape, y_training.shape, y_test.shape)\n",
    "scores = cross_val_score(clf_boo, x_test, y_test.ix[:,0], cv=5)\n",
    "print(scores)\n",
    "print(\"Accuracy: %0.2f (+/- %0.2f)\" % (scores.mean(), scores.std()))"
   ]
  },
  {
   "cell_type": "markdown",
   "metadata": {},
   "source": [
    "## What if we change the base_estimator of AdaBoostClassifier?"
   ]
  },
  {
   "cell_type": "code",
   "execution_count": 61,
   "metadata": {
    "collapsed": false,
    "scrolled": true
   },
   "outputs": [
    {
     "name": "stdout",
     "output_type": "stream",
     "text": [
      "AdaBoostClassifier\n",
      "BaggingClassifier\n",
      "BernoulliNB\n",
      "CalibratedClassifierCV\n",
      "DecisionTreeClassifier\n",
      "ExtraTreeClassifier\n",
      "ExtraTreesClassifier\n",
      "GaussianNB\n",
      "GradientBoostingClassifier\n",
      "LinearSVC\n",
      "LogisticRegression\n",
      "LogisticRegressionCV\n",
      "MultinomialNB\n",
      "NuSVC\n",
      "Perceptron\n",
      "RandomForestClassifier\n",
      "RidgeClassifier\n",
      "RidgeClassifierCV\n",
      "SGDClassifier\n",
      "SVC\n"
     ]
    },
    {
     "name": "stderr",
     "output_type": "stream",
     "text": [
      "/Users/appleuser/anaconda/lib/python3.5/site-packages/sklearn/cross_validation.py:44: DeprecationWarning: This module was deprecated in version 0.18 in favor of the model_selection module into which all the refactored classes and functions are moved. Also note that the interface of the new CV iterators are different from that of this module. This module will be removed in 0.20.\n",
      "  \"This module will be removed in 0.20.\", DeprecationWarning)\n",
      "/Users/appleuser/anaconda/lib/python3.5/site-packages/sklearn/grid_search.py:43: DeprecationWarning: This module was deprecated in version 0.18 in favor of the model_selection module into which all the refactored classes and functions are moved. This module will be removed in 0.20.\n",
      "  DeprecationWarning)\n",
      "/Users/appleuser/anaconda/lib/python3.5/site-packages/sklearn/lda.py:6: DeprecationWarning: lda.LDA has been moved to discriminant_analysis.LinearDiscriminantAnalysis in 0.17 and will be removed in 0.19\n",
      "  \"in 0.17 and will be removed in 0.19\", DeprecationWarning)\n",
      "/Users/appleuser/anaconda/lib/python3.5/site-packages/sklearn/learning_curve.py:23: DeprecationWarning: This module was deprecated in version 0.18 in favor of the model_selection module into which all the functions are moved. This module will be removed in 0.20\n",
      "  DeprecationWarning)\n",
      "/Users/appleuser/anaconda/lib/python3.5/site-packages/sklearn/qda.py:6: DeprecationWarning: qda.QDA has been moved to discriminant_analysis.QuadraticDiscriminantAnalysis in 0.17 and will be removed in 0.19.\n",
      "  \"in 0.17 and will be removed in 0.19.\", DeprecationWarning)\n",
      "/Users/appleuser/anaconda/lib/python3.5/site-packages/ipykernel/__main__.py:4: DeprecationWarning: inspect.getargspec() is deprecated, use inspect.signature() instead\n"
     ]
    }
   ],
   "source": [
    "import inspect\n",
    "from sklearn.utils.testing import all_estimators\n",
    "for name, clf in all_estimators(type_filter='classifier'):\n",
    "    if 'sample_weight' in inspect.getargspec(clf().fit)[0]:\n",
    "       print (name)"
   ]
  },
  {
   "cell_type": "code",
   "execution_count": 62,
   "metadata": {
    "collapsed": false,
    "scrolled": true
   },
   "outputs": [
    {
     "data": {
      "text/plain": [
       "RandomForestClassifier(bootstrap=True, class_weight=None, criterion='gini',\n",
       "            max_depth=1, max_features='log2', max_leaf_nodes=None,\n",
       "            min_impurity_split=1e-07, min_samples_leaf=1,\n",
       "            min_samples_split=2, min_weight_fraction_leaf=0.0,\n",
       "            n_estimators=100, n_jobs=1, oob_score=True, random_state=None,\n",
       "            verbose=0, warm_start=False)"
      ]
     },
     "execution_count": 62,
     "metadata": {},
     "output_type": "execute_result"
    }
   ],
   "source": [
    "clf_rf"
   ]
  },
  {
   "cell_type": "code",
   "execution_count": 63,
   "metadata": {
    "collapsed": false
   },
   "outputs": [
    {
     "data": {
      "text/plain": [
       "0.14237718381364789"
      ]
     },
     "execution_count": 63,
     "metadata": {},
     "output_type": "execute_result"
    }
   ],
   "source": [
    "clf_boo = AdaBoostClassifier(base_estimator=clf_rf)\n",
    "clf_boo = clf_boo.fit(x_training,y_training.ix[:,0])\n",
    "clf_boo.score(x_training,y_training.ix[:,0])"
   ]
  },
  {
   "cell_type": "code",
   "execution_count": 64,
   "metadata": {
    "collapsed": false,
    "scrolled": true
   },
   "outputs": [
    {
     "name": "stdout",
     "output_type": "stream",
     "text": [
      "[ 0.10513644  0.14159292  0.1291364   0.14043584  0.11345219]\n",
      "Accuracy: 0.13 (+/- 0.01)\n"
     ]
    }
   ],
   "source": [
    "# Doesn't seem to improve a lot\n",
    "scores = cross_val_score(clf_boo, x_test, y_test.ix[:,0], cv=5)\n",
    "print(scores)\n",
    "print(\"Accuracy: %0.2f (+/- %0.2f)\" % (scores.mean(), scores.std()))"
   ]
  },
  {
   "cell_type": "markdown",
   "metadata": {},
   "source": [
    "## How about KNeighborsClassifier?"
   ]
  },
  {
   "cell_type": "code",
   "execution_count": 65,
   "metadata": {
    "collapsed": true
   },
   "outputs": [],
   "source": [
    "from sklearn.neighbors import KNeighborsClassifier"
   ]
  },
  {
   "cell_type": "code",
   "execution_count": 66,
   "metadata": {
    "collapsed": false
   },
   "outputs": [
    {
     "data": {
      "text/plain": [
       "0.13640436016126622"
      ]
     },
     "execution_count": 66,
     "metadata": {},
     "output_type": "execute_result"
    }
   ],
   "source": [
    "clf_kn=KNeighborsClassifier(n_neighbors=60)\n",
    "clf_kn.fit(x_training,y_training.ix[:,0])\n",
    "clf_kn.score(x_training,y_training.ix[:,0])"
   ]
  },
  {
   "cell_type": "code",
   "execution_count": 67,
   "metadata": {
    "collapsed": false
   },
   "outputs": [
    {
     "name": "stdout",
     "output_type": "stream",
     "text": [
      "[ 0.09149278  0.10297667  0.10250202  0.09281679  0.08752026]\n",
      "Accuracy: 0.10 (+/- 0.01)\n"
     ]
    }
   ],
   "source": [
    "scores = cross_val_score(clf_kn, x_test, y_test.ix[:,0], cv=5)\n",
    "print(scores)\n",
    "print(\"Accuracy: %0.2f (+/- %0.2f)\" % (scores.mean(), scores.std()))"
   ]
  },
  {
   "cell_type": "markdown",
   "metadata": {},
   "source": [
    "## Let me try the last one---GaussianMixture model"
   ]
  },
  {
   "cell_type": "code",
   "execution_count": 68,
   "metadata": {
    "collapsed": true
   },
   "outputs": [],
   "source": [
    "from sklearn import mixture"
   ]
  },
  {
   "cell_type": "code",
   "execution_count": 69,
   "metadata": {
    "collapsed": false
   },
   "outputs": [
    {
     "data": {
      "text/plain": [
       "GaussianMixture(covariance_type='full', init_params='kmeans', max_iter=1000,\n",
       "        means_init=None, n_components=3, n_init=1, precisions_init=None,\n",
       "        random_state=None, reg_covar=1e-06, tol=0.001, verbose=0,\n",
       "        verbose_interval=10, warm_start=False, weights_init=None)"
      ]
     },
     "execution_count": 69,
     "metadata": {},
     "output_type": "execute_result"
    }
   ],
   "source": [
    "clf_mx = mixture.GaussianMixture(n_components=3, covariance_type='full',max_iter =1000)\n",
    "clf_mx.fit(x_training,y_training.ix[:,0])"
   ]
  },
  {
   "cell_type": "code",
   "execution_count": 70,
   "metadata": {
    "collapsed": false,
    "scrolled": true
   },
   "outputs": [
    {
     "data": {
      "text/plain": [
       "-63.177633422520977"
      ]
     },
     "execution_count": 70,
     "metadata": {},
     "output_type": "execute_result"
    }
   ],
   "source": [
    "clf_mx.score(x_training,y_training.ix[:,0])"
   ]
  },
  {
   "cell_type": "code",
   "execution_count": 71,
   "metadata": {
    "collapsed": false,
    "scrolled": true
   },
   "outputs": [
    {
     "name": "stdout",
     "output_type": "stream",
     "text": [
      "[-73.82092884 -61.01165335 -59.83070542 -59.2099178  -65.63948236]\n",
      "Accuracy: -63.90 (+/- 5.45)\n"
     ]
    }
   ],
   "source": [
    "scores = cross_val_score(clf_mx, x_test, y_test.ix[:,0], cv=5)\n",
    "print(scores)\n",
    "print(\"Accuracy: %0.2f (+/- %0.2f)\" % (scores.mean(), scores.std()))"
   ]
  },
  {
   "cell_type": "markdown",
   "metadata": {},
   "source": [
    "## What if instead of predicting which horse will win which place, I simply regard the 1st place horse as the winner, and all the rest the losers? So this question becomes a binary classification."
   ]
  },
  {
   "cell_type": "code",
   "execution_count": 72,
   "metadata": {
    "collapsed": true
   },
   "outputs": [],
   "source": [
    "import copy"
   ]
  },
  {
   "cell_type": "code",
   "execution_count": 73,
   "metadata": {
    "collapsed": false
   },
   "outputs": [
    {
     "data": {
      "text/html": [
       "<div>\n",
       "<table border=\"1\" class=\"dataframe\">\n",
       "  <thead>\n",
       "    <tr style=\"text-align: right;\">\n",
       "      <th></th>\n",
       "      <th>finishing_position</th>\n",
       "    </tr>\n",
       "  </thead>\n",
       "  <tbody>\n",
       "    <tr>\n",
       "      <th>13653</th>\n",
       "      <td>1.0</td>\n",
       "    </tr>\n",
       "    <tr>\n",
       "      <th>13654</th>\n",
       "      <td>7.0</td>\n",
       "    </tr>\n",
       "    <tr>\n",
       "      <th>13655</th>\n",
       "      <td>8.0</td>\n",
       "    </tr>\n",
       "  </tbody>\n",
       "</table>\n",
       "</div>"
      ],
      "text/plain": [
       "       finishing_position\n",
       "13653                 1.0\n",
       "13654                 7.0\n",
       "13655                 8.0"
      ]
     },
     "execution_count": 73,
     "metadata": {},
     "output_type": "execute_result"
    }
   ],
   "source": [
    "y_test.head(3)"
   ]
  },
  {
   "cell_type": "code",
   "execution_count": 74,
   "metadata": {
    "collapsed": false,
    "scrolled": true
   },
   "outputs": [
    {
     "data": {
      "text/html": [
       "<div>\n",
       "<table border=\"1\" class=\"dataframe\">\n",
       "  <thead>\n",
       "    <tr style=\"text-align: right;\">\n",
       "      <th></th>\n",
       "      <th>finishing_position</th>\n",
       "    </tr>\n",
       "  </thead>\n",
       "  <tbody>\n",
       "    <tr>\n",
       "      <th>0</th>\n",
       "      <td>1.0</td>\n",
       "    </tr>\n",
       "    <tr>\n",
       "      <th>1</th>\n",
       "      <td>7.0</td>\n",
       "    </tr>\n",
       "    <tr>\n",
       "      <th>2</th>\n",
       "      <td>8.0</td>\n",
       "    </tr>\n",
       "  </tbody>\n",
       "</table>\n",
       "</div>"
      ],
      "text/plain": [
       "   finishing_position\n",
       "0                 1.0\n",
       "1                 7.0\n",
       "2                 8.0"
      ]
     },
     "execution_count": 74,
     "metadata": {},
     "output_type": "execute_result"
    }
   ],
   "source": [
    "y_training.head(3)"
   ]
  },
  {
   "cell_type": "code",
   "execution_count": 75,
   "metadata": {
    "collapsed": true
   },
   "outputs": [],
   "source": [
    "temp_y_training=copy.deepcopy(y_training)"
   ]
  },
  {
   "cell_type": "code",
   "execution_count": 76,
   "metadata": {
    "collapsed": false,
    "scrolled": true
   },
   "outputs": [
    {
     "data": {
      "text/html": [
       "<div>\n",
       "<table border=\"1\" class=\"dataframe\">\n",
       "  <thead>\n",
       "    <tr style=\"text-align: right;\">\n",
       "      <th></th>\n",
       "      <th>finishing_position</th>\n",
       "    </tr>\n",
       "  </thead>\n",
       "  <tbody>\n",
       "    <tr>\n",
       "      <th>0</th>\n",
       "      <td>1.0</td>\n",
       "    </tr>\n",
       "    <tr>\n",
       "      <th>1</th>\n",
       "      <td>7.0</td>\n",
       "    </tr>\n",
       "    <tr>\n",
       "      <th>2</th>\n",
       "      <td>8.0</td>\n",
       "    </tr>\n",
       "  </tbody>\n",
       "</table>\n",
       "</div>"
      ],
      "text/plain": [
       "   finishing_position\n",
       "0                 1.0\n",
       "1                 7.0\n",
       "2                 8.0"
      ]
     },
     "execution_count": 76,
     "metadata": {},
     "output_type": "execute_result"
    }
   ],
   "source": [
    "temp_y_training.head(3)"
   ]
  },
  {
   "cell_type": "code",
   "execution_count": 77,
   "metadata": {
    "collapsed": false
   },
   "outputs": [
    {
     "data": {
      "text/plain": [
       "array([  1.,   7.,   8.,   9.,  10.,  11.,  12.,  13.,  14.,   2.,   3.,\n",
       "         4.,   5.,   6.,   0.])"
      ]
     },
     "execution_count": 77,
     "metadata": {},
     "output_type": "execute_result"
    }
   ],
   "source": [
    "temp_y_training.finishing_position.unique()"
   ]
  },
  {
   "cell_type": "code",
   "execution_count": 78,
   "metadata": {
    "collapsed": false,
    "scrolled": true
   },
   "outputs": [],
   "source": [
    "temp_y_training.finishing_position.replace([7.,   8.,   9.,  10.,  11.,  12.,  13.,  14.,   2.,   3.,\n",
    "         4.,   5.,   6.,   0.],0,inplace=True)"
   ]
  },
  {
   "cell_type": "code",
   "execution_count": 79,
   "metadata": {
    "collapsed": false,
    "scrolled": false
   },
   "outputs": [
    {
     "data": {
      "text/html": [
       "<div>\n",
       "<table border=\"1\" class=\"dataframe\">\n",
       "  <thead>\n",
       "    <tr style=\"text-align: right;\">\n",
       "      <th></th>\n",
       "      <th>finishing_position</th>\n",
       "    </tr>\n",
       "  </thead>\n",
       "  <tbody>\n",
       "    <tr>\n",
       "      <th>0</th>\n",
       "      <td>1.0</td>\n",
       "    </tr>\n",
       "    <tr>\n",
       "      <th>1</th>\n",
       "      <td>0.0</td>\n",
       "    </tr>\n",
       "    <tr>\n",
       "      <th>2</th>\n",
       "      <td>0.0</td>\n",
       "    </tr>\n",
       "  </tbody>\n",
       "</table>\n",
       "</div>"
      ],
      "text/plain": [
       "   finishing_position\n",
       "0                 1.0\n",
       "1                 0.0\n",
       "2                 0.0"
      ]
     },
     "execution_count": 79,
     "metadata": {},
     "output_type": "execute_result"
    }
   ],
   "source": [
    "temp_y_training.head(3)"
   ]
  },
  {
   "cell_type": "code",
   "execution_count": 80,
   "metadata": {
    "collapsed": false
   },
   "outputs": [],
   "source": [
    "temp_y_test=copy.deepcopy(y_test)"
   ]
  },
  {
   "cell_type": "code",
   "execution_count": 81,
   "metadata": {
    "collapsed": false,
    "scrolled": true
   },
   "outputs": [],
   "source": [
    "temp_y_test.finishing_position.replace([7.,   8.,   9.,  10.,  11.,  12.,  13.,  14.,   2.,   3.,\n",
    "         4.,   5.,   6.,   0.],0,inplace=True)"
   ]
  },
  {
   "cell_type": "code",
   "execution_count": 82,
   "metadata": {
    "collapsed": false
   },
   "outputs": [
    {
     "data": {
      "text/html": [
       "<div>\n",
       "<table border=\"1\" class=\"dataframe\">\n",
       "  <thead>\n",
       "    <tr style=\"text-align: right;\">\n",
       "      <th></th>\n",
       "      <th>finishing_position</th>\n",
       "    </tr>\n",
       "  </thead>\n",
       "  <tbody>\n",
       "    <tr>\n",
       "      <th>13653</th>\n",
       "      <td>1.0</td>\n",
       "    </tr>\n",
       "    <tr>\n",
       "      <th>13654</th>\n",
       "      <td>0.0</td>\n",
       "    </tr>\n",
       "    <tr>\n",
       "      <th>13655</th>\n",
       "      <td>0.0</td>\n",
       "    </tr>\n",
       "  </tbody>\n",
       "</table>\n",
       "</div>"
      ],
      "text/plain": [
       "       finishing_position\n",
       "13653                 1.0\n",
       "13654                 0.0\n",
       "13655                 0.0"
      ]
     },
     "execution_count": 82,
     "metadata": {},
     "output_type": "execute_result"
    }
   ],
   "source": [
    "temp_y_test.head(3)"
   ]
  },
  {
   "cell_type": "code",
   "execution_count": 83,
   "metadata": {
    "collapsed": false
   },
   "outputs": [
    {
     "data": {
      "text/plain": [
       "-63.177633422520977"
      ]
     },
     "execution_count": 83,
     "metadata": {},
     "output_type": "execute_result"
    }
   ],
   "source": [
    "clf_mx.score(x_training,temp_y_training.ix[:,0])"
   ]
  },
  {
   "cell_type": "code",
   "execution_count": 84,
   "metadata": {
    "collapsed": false
   },
   "outputs": [
    {
     "data": {
      "text/plain": [
       "-74.605951773830242"
      ]
     },
     "execution_count": 84,
     "metadata": {},
     "output_type": "execute_result"
    }
   ],
   "source": [
    "clf_mx.score(x_test,temp_y_test.ix[:,0])"
   ]
  },
  {
   "cell_type": "markdown",
   "metadata": {},
   "source": [
    "## Now let me divide my dataset into smaller subsets by class"
   ]
  },
  {
   "cell_type": "code",
   "execution_count": 85,
   "metadata": {
    "collapsed": false,
    "scrolled": false
   },
   "outputs": [
    {
     "data": {
      "text/html": [
       "<div>\n",
       "<table border=\"1\" class=\"dataframe\">\n",
       "  <thead>\n",
       "    <tr style=\"text-align: right;\">\n",
       "      <th></th>\n",
       "      <th>finishing_position</th>\n",
       "      <th>horse_number</th>\n",
       "      <th>horse_id</th>\n",
       "      <th>jockey</th>\n",
       "      <th>trainer</th>\n",
       "      <th>actual_weight</th>\n",
       "      <th>declared_horse_weight</th>\n",
       "      <th>draw</th>\n",
       "      <th>length_behind_winner</th>\n",
       "      <th>running_position_1</th>\n",
       "      <th>...</th>\n",
       "      <th>race_date</th>\n",
       "      <th>race_course</th>\n",
       "      <th>race_number</th>\n",
       "      <th>race_class</th>\n",
       "      <th>race_distance</th>\n",
       "      <th>track_condition</th>\n",
       "      <th>race_name</th>\n",
       "      <th>track</th>\n",
       "      <th>sectional_time</th>\n",
       "      <th>incident_report</th>\n",
       "    </tr>\n",
       "  </thead>\n",
       "  <tbody>\n",
       "    <tr>\n",
       "      <th>0</th>\n",
       "      <td>1</td>\n",
       "      <td>1.0</td>\n",
       "      <td>K019</td>\n",
       "      <td>B Prebble</td>\n",
       "      <td>D Cruz</td>\n",
       "      <td>133.0</td>\n",
       "      <td>1032.0</td>\n",
       "      <td>1.0</td>\n",
       "      <td>-</td>\n",
       "      <td>1.0</td>\n",
       "      <td>...</td>\n",
       "      <td>2014-09-14</td>\n",
       "      <td>Sha Tin</td>\n",
       "      <td>1</td>\n",
       "      <td>Class 5</td>\n",
       "      <td>1400</td>\n",
       "      <td>GOOD TO FIRM</td>\n",
       "      <td>TIM WA HANDICAP</td>\n",
       "      <td>TURF - \"A\" COURSE</td>\n",
       "      <td>13.59 22.08 23.11 23.55</td>\n",
       "      <td>\\n                When about to enter the trac...</td>\n",
       "    </tr>\n",
       "    <tr>\n",
       "      <th>1</th>\n",
       "      <td>2</td>\n",
       "      <td>2.0</td>\n",
       "      <td>S070</td>\n",
       "      <td>D Whyte</td>\n",
       "      <td>D E Ferraris</td>\n",
       "      <td>133.0</td>\n",
       "      <td>1075.0</td>\n",
       "      <td>13.0</td>\n",
       "      <td>2</td>\n",
       "      <td>8.0</td>\n",
       "      <td>...</td>\n",
       "      <td>2014-09-14</td>\n",
       "      <td>Sha Tin</td>\n",
       "      <td>1</td>\n",
       "      <td>Class 5</td>\n",
       "      <td>1400</td>\n",
       "      <td>GOOD TO FIRM</td>\n",
       "      <td>TIM WA HANDICAP</td>\n",
       "      <td>TURF - \"A\" COURSE</td>\n",
       "      <td>13.59 22.08 23.11 23.55</td>\n",
       "      <td>\\n                When about to enter the trac...</td>\n",
       "    </tr>\n",
       "    <tr>\n",
       "      <th>2</th>\n",
       "      <td>3</td>\n",
       "      <td>10.0</td>\n",
       "      <td>P072</td>\n",
       "      <td>Y T Cheng</td>\n",
       "      <td>Y S Tsui</td>\n",
       "      <td>121.0</td>\n",
       "      <td>1065.0</td>\n",
       "      <td>3.0</td>\n",
       "      <td>2</td>\n",
       "      <td>2.0</td>\n",
       "      <td>...</td>\n",
       "      <td>2014-09-14</td>\n",
       "      <td>Sha Tin</td>\n",
       "      <td>1</td>\n",
       "      <td>Class 5</td>\n",
       "      <td>1400</td>\n",
       "      <td>GOOD TO FIRM</td>\n",
       "      <td>TIM WA HANDICAP</td>\n",
       "      <td>TURF - \"A\" COURSE</td>\n",
       "      <td>13.59 22.08 23.11 23.55</td>\n",
       "      <td>\\n                When about to enter the trac...</td>\n",
       "    </tr>\n",
       "  </tbody>\n",
       "</table>\n",
       "<p>3 rows × 28 columns</p>\n",
       "</div>"
      ],
      "text/plain": [
       "  finishing_position  horse_number horse_id     jockey       trainer  \\\n",
       "0                  1           1.0     K019  B Prebble        D Cruz   \n",
       "1                  2           2.0     S070    D Whyte  D E Ferraris   \n",
       "2                  3          10.0     P072  Y T Cheng      Y S Tsui   \n",
       "\n",
       "   actual_weight  declared_horse_weight  draw length_behind_winner  \\\n",
       "0          133.0                 1032.0   1.0                    -   \n",
       "1          133.0                 1075.0  13.0                    2   \n",
       "2          121.0                 1065.0   3.0                    2   \n",
       "\n",
       "   running_position_1                        ...                          \\\n",
       "0                 1.0                        ...                           \n",
       "1                 8.0                        ...                           \n",
       "2                 2.0                        ...                           \n",
       "\n",
       "    race_date  race_course  race_number race_class  race_distance  \\\n",
       "0  2014-09-14      Sha Tin            1    Class 5           1400   \n",
       "1  2014-09-14      Sha Tin            1    Class 5           1400   \n",
       "2  2014-09-14      Sha Tin            1    Class 5           1400   \n",
       "\n",
       "   track_condition        race_name              track  \\\n",
       "0     GOOD TO FIRM  TIM WA HANDICAP  TURF - \"A\" COURSE   \n",
       "1     GOOD TO FIRM  TIM WA HANDICAP  TURF - \"A\" COURSE   \n",
       "2     GOOD TO FIRM  TIM WA HANDICAP  TURF - \"A\" COURSE   \n",
       "\n",
       "            sectional_time                                    incident_report  \n",
       "0  13.59 22.08 23.11 23.55  \\n                When about to enter the trac...  \n",
       "1  13.59 22.08 23.11 23.55  \\n                When about to enter the trac...  \n",
       "2  13.59 22.08 23.11 23.55  \\n                When about to enter the trac...  \n",
       "\n",
       "[3 rows x 28 columns]"
      ]
     },
     "execution_count": 85,
     "metadata": {},
     "output_type": "execute_result"
    }
   ],
   "source": [
    "df3.head(3)"
   ]
  },
  {
   "cell_type": "code",
   "execution_count": 86,
   "metadata": {
    "collapsed": false
   },
   "outputs": [
    {
     "data": {
      "text/html": [
       "<div>\n",
       "<table border=\"1\" class=\"dataframe\">\n",
       "  <thead>\n",
       "    <tr style=\"text-align: right;\">\n",
       "      <th></th>\n",
       "      <th>finishing_position</th>\n",
       "      <th>horse_number</th>\n",
       "      <th>horse_id</th>\n",
       "      <th>jockey</th>\n",
       "      <th>trainer</th>\n",
       "      <th>actual_weight</th>\n",
       "      <th>declared_horse_weight</th>\n",
       "      <th>draw</th>\n",
       "      <th>length_behind_winner</th>\n",
       "      <th>running_position_1</th>\n",
       "      <th>...</th>\n",
       "      <th>race_id</th>\n",
       "      <th>race_date</th>\n",
       "      <th>race_course</th>\n",
       "      <th>race_number</th>\n",
       "      <th>race_distance</th>\n",
       "      <th>track_condition</th>\n",
       "      <th>race_name</th>\n",
       "      <th>track</th>\n",
       "      <th>sectional_time</th>\n",
       "      <th>incident_report</th>\n",
       "    </tr>\n",
       "  </thead>\n",
       "  <tbody>\n",
       "    <tr>\n",
       "      <th>42</th>\n",
       "      <td>1</td>\n",
       "      <td>5.0</td>\n",
       "      <td>N236</td>\n",
       "      <td>J Moreira</td>\n",
       "      <td>A T Millard</td>\n",
       "      <td>115.0</td>\n",
       "      <td>1179.0</td>\n",
       "      <td>11.0</td>\n",
       "      <td>-</td>\n",
       "      <td>7.0</td>\n",
       "      <td>...</td>\n",
       "      <td>2014-003</td>\n",
       "      <td>2014-09-14</td>\n",
       "      <td>Sha Tin</td>\n",
       "      <td>3</td>\n",
       "      <td>1200</td>\n",
       "      <td>GOOD TO FIRM</td>\n",
       "      <td>THE HKSAR CHIEF EXECUTIVE'S CUP (HANDICAP)</td>\n",
       "      <td>TURF - \"A\" COURSE</td>\n",
       "      <td>23.42 22.48 22.47</td>\n",
       "      <td>\\n                On arrival at the Start, it ...</td>\n",
       "    </tr>\n",
       "    <tr>\n",
       "      <th>43</th>\n",
       "      <td>2</td>\n",
       "      <td>8.0</td>\n",
       "      <td>P049</td>\n",
       "      <td>Y T Cheng</td>\n",
       "      <td>K W Lui</td>\n",
       "      <td>113.0</td>\n",
       "      <td>1180.0</td>\n",
       "      <td>5.0</td>\n",
       "      <td>N</td>\n",
       "      <td>5.0</td>\n",
       "      <td>...</td>\n",
       "      <td>2014-003</td>\n",
       "      <td>2014-09-14</td>\n",
       "      <td>Sha Tin</td>\n",
       "      <td>3</td>\n",
       "      <td>1200</td>\n",
       "      <td>GOOD TO FIRM</td>\n",
       "      <td>THE HKSAR CHIEF EXECUTIVE'S CUP (HANDICAP)</td>\n",
       "      <td>TURF - \"A\" COURSE</td>\n",
       "      <td>23.42 22.48 22.47</td>\n",
       "      <td>\\n                On arrival at the Start, it ...</td>\n",
       "    </tr>\n",
       "  </tbody>\n",
       "</table>\n",
       "<p>2 rows × 27 columns</p>\n",
       "</div>"
      ],
      "text/plain": [
       "   finishing_position  horse_number horse_id     jockey      trainer  \\\n",
       "42                  1           5.0     N236  J Moreira  A T Millard   \n",
       "43                  2           8.0     P049  Y T Cheng      K W Lui   \n",
       "\n",
       "    actual_weight  declared_horse_weight  draw length_behind_winner  \\\n",
       "42          115.0                 1179.0  11.0                    -   \n",
       "43          113.0                 1180.0   5.0                    N   \n",
       "\n",
       "    running_position_1                        ...                          \\\n",
       "42                 7.0                        ...                           \n",
       "43                 5.0                        ...                           \n",
       "\n",
       "     race_id   race_date  race_course race_number  race_distance  \\\n",
       "42  2014-003  2014-09-14      Sha Tin           3           1200   \n",
       "43  2014-003  2014-09-14      Sha Tin           3           1200   \n",
       "\n",
       "    track_condition                                   race_name  \\\n",
       "42     GOOD TO FIRM  THE HKSAR CHIEF EXECUTIVE'S CUP (HANDICAP)   \n",
       "43     GOOD TO FIRM  THE HKSAR CHIEF EXECUTIVE'S CUP (HANDICAP)   \n",
       "\n",
       "                track     sectional_time  \\\n",
       "42  TURF - \"A\" COURSE  23.42 22.48 22.47   \n",
       "43  TURF - \"A\" COURSE  23.42 22.48 22.47   \n",
       "\n",
       "                                      incident_report  \n",
       "42  \\n                On arrival at the Start, it ...  \n",
       "43  \\n                On arrival at the Start, it ...  \n",
       "\n",
       "[2 rows x 27 columns]"
      ]
     },
     "execution_count": 86,
     "metadata": {},
     "output_type": "execute_result"
    }
   ],
   "source": [
    "df_class_1=copy.deepcopy(df3[df3.race_class=='Class 1'])\n",
    "df_class_1.drop('race_class',axis=1,inplace=True)\n",
    "df_class_1.head(2)"
   ]
  }
 ],
 "metadata": {
  "kernelspec": {
   "display_name": "Python [conda root]",
   "language": "python",
   "name": "conda-root-py"
  },
  "language_info": {
   "codemirror_mode": {
    "name": "ipython",
    "version": 3
   },
   "file_extension": ".py",
   "mimetype": "text/x-python",
   "name": "python",
   "nbconvert_exporter": "python",
   "pygments_lexer": "ipython3",
   "version": "3.5.2"
  }
 },
 "nbformat": 4,
 "nbformat_minor": 2
}
